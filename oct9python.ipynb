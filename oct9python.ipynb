{
  "cells": [
    {
      "cell_type": "markdown",
      "metadata": {
        "id": "view-in-github",
        "colab_type": "text"
      },
      "source": [
        "<a href=\"https://colab.research.google.com/github/Greeshmapv/Pythoncore/blob/main/oct9python.ipynb\" target=\"_parent\"><img src=\"https://colab.research.google.com/assets/colab-badge.svg\" alt=\"Open In Colab\"/></a>"
      ]
    },
    {
      "cell_type": "code",
      "execution_count": null,
      "metadata": {
        "colab": {
          "base_uri": "https://localhost:8080/"
        },
        "id": "RlyoUAXQVR0b",
        "outputId": "00a0f442-e27a-4315-eaf5-9c43cbd152a2"
      },
      "outputs": [
        {
          "name": "stdout",
          "output_type": "stream",
          "text": [
            "enter the age:15\n",
            "not eligible for vote\n"
          ]
        }
      ],
      "source": [
        "#eligible for vote\n",
        "age=int(input(\"enter the age:\"))\n",
        "if age>=18:\n",
        "  print(\"eligible to vote\")\n",
        "else:\n",
        "  print(\"not eligible for vote\")"
      ]
    },
    {
      "cell_type": "code",
      "execution_count": null,
      "metadata": {
        "colab": {
          "base_uri": "https://localhost:8080/"
        },
        "id": "F5asvR-zb1-N",
        "outputId": "032b286c-7588-4449-b39c-de6feac5863b"
      },
      "outputs": [
        {
          "name": "stdout",
          "output_type": "stream",
          "text": [
            "enter the number6\n",
            "number is even\n"
          ]
        }
      ],
      "source": [
        "#odd or even\n",
        "number=int(input(\"enter the number\"))\n",
        "if number%2==0:\n",
        "  print(\"number is even\")\n",
        "else:\n",
        "  print(\"number is odd\")\n"
      ]
    },
    {
      "cell_type": "code",
      "execution_count": null,
      "metadata": {
        "colab": {
          "base_uri": "https://localhost:8080/"
        },
        "id": "TivqnISdcnYr",
        "outputId": "c105071f-a52a-4548-e66a-eaf9c6dc862f"
      },
      "outputs": [
        {
          "name": "stdout",
          "output_type": "stream",
          "text": [
            "enter first number:6\n",
            "enter second number:7\n",
            "enter third number:8\n",
            "number3 is greater\n"
          ]
        }
      ],
      "source": [
        "#largest of three numbers\n",
        "number1=int(input(\"enter first number:\"))\n",
        "number2=int(input(\"enter second number:\"))\n",
        "number3=int(input(\"enter third number:\"))\n",
        "if number1>number2 and number1>number3:\n",
        "    print(\"number1 is greater\")\n",
        "elif number2>number1 and number2>number3:\n",
        "      print(\"number2 is greater\")\n",
        "\n",
        "\n",
        "else:\n",
        "  print(\"number3 is greater\")\n",
        "\n",
        "\n"
      ]
    },
    {
      "cell_type": "code",
      "execution_count": null,
      "metadata": {
        "colab": {
          "base_uri": "https://localhost:8080/"
        },
        "id": "ddbqNadKz_V4",
        "outputId": "93e9d442-ec0d-4398-9744-80f525c116a4"
      },
      "outputs": [
        {
          "name": "stdout",
          "output_type": "stream",
          "text": [
            "Enter name of student:greeshma\n",
            "Enter the mark of english:78\n",
            "Enter the mark of mathematics:90\n",
            "Enter the mark of computer science:89\n",
            "Enter the mark of chemistry:87\n",
            "Enter the mark of physics:90\n",
            "Total mark: 434.0\n",
            "Average mark: 86.0\n",
            "Grade:A\n"
          ]
        }
      ],
      "source": [
        "#finding average mark of a student\n",
        "Name=str(input(\"Enter name of student:\"))\n",
        "Mark1=float(input(\"Enter the mark of english:\"))\n",
        "Mark2=float(input(\"Enter the mark of mathematics:\"))\n",
        "Mark3=float(input(\"Enter the mark of computer science:\"))\n",
        "Mark4=float(input(\"Enter the mark of chemistry:\"))\n",
        "Mark5=float(input(\"Enter the mark of physics:\"))\n",
        "Total_mark=Mark1+Mark2+Mark3+Mark4+Mark5\n",
        "Average=Total_mark//5\n",
        "print(\"Total mark:\",Total_mark)\n",
        "print(\"Average mark:\",Average)\n",
        "if Average>90:\n",
        "  print(\"Grade:A+\")\n",
        "elif Average>80:\n",
        "  print(\"Grade:A\")\n",
        "elif Average>70:\n",
        "  print(\"Grade:B\")\n",
        "elif Average>60:\n",
        "  print(\"Grade:C\")\n",
        "elif Average>50:\n",
        "  print(\"Grade:D\")\n",
        "else:\n",
        "  print(\"failed\")"
      ]
    },
    {
      "cell_type": "code",
      "execution_count": null,
      "metadata": {
        "colab": {
          "base_uri": "https://localhost:8080/"
        },
        "id": "3PdZgsbcG7Fa",
        "outputId": "0d50a634-f0cc-499d-ef25-f39aa6c03d3a"
      },
      "outputs": [
        {
          "name": "stdout",
          "output_type": "stream",
          "text": [
            "Enter name of the consumer:greeshma\n",
            "Enter the unit:60\n",
            "Bill = 257.0\n"
          ]
        }
      ],
      "source": [
        "Name = input(\"Enter name of the consumer:\")\n",
        "Unit = int(input(\"Enter the unit:\"))\n",
        "\n",
        "if Unit <= 40:\n",
        "    Bill = Unit * 1.50\n",
        "    print(\"Bill =\", Bill)\n",
        "elif 41 <= Unit <= 50:\n",
        "    Bill = 60 + (Unit - 40) * 3.15\n",
        "    print(\"Bill =\", Bill)\n",
        "elif 51 <= Unit <= 100:\n",
        "    Bill = 60 + 157.5 + (Unit - 50) * 3.95\n",
        "    print(\"Bill =\", Bill)\n",
        "elif 101 <= Unit <= 150:\n",
        "    Bill = 60 + 157.5 + 395 + (Unit - 100) * 5.00\n",
        "    print(\"Bill =\", Bill)\n",
        "else:\n",
        "    print(\"Unit not in any range. Please check the input.\")\n"
      ]
    },
    {
      "cell_type": "code",
      "execution_count": null,
      "metadata": {
        "id": "1Fo05E6EFFlu"
      },
      "outputs": [],
      "source": [
        "name=str(input(\"Enter your name: \"))\n",
        "unit=float(input(\"Enter the unit consumed: \"))\n",
        "print(\"Name: \",name)\n",
        "if unit<=50:\n",
        "  bill=unit*3.15\n",
        "  print(\"Bill amount: \",bill)\n",
        "elif (unit>50) and (unit<=100):\n",
        "  y=unit-50\n",
        "  bill=(50*3.15)+(y*3.70)\n",
        "  print(\"Bill amount: \",bill)\n",
        "elif (unit>100) and (unit<=150):\n",
        "  y1=unit-100\n",
        "  bill=(50*3.15)+(50*3.70)+(y1*4.80)\n",
        "  print(\"Bill amount: \",bill)\n",
        "elif (unit>150) and (unit<=200):\n",
        "  y2=unit-150\n",
        "  bill=(50*3.15)+(50*3.70)+(50*4.80)+(y2*6.40)\n",
        "  print(\"Bill amount: \",bill)\n"
      ]
    },
    {
      "cell_type": "code",
      "execution_count": null,
      "metadata": {
        "colab": {
          "base_uri": "https://localhost:8080/"
        },
        "id": "vHbbgqvHeMKg",
        "outputId": "bf147bc5-d922-42f3-d64b-f40ce9a7b509"
      },
      "outputs": [
        {
          "name": "stdout",
          "output_type": "stream",
          "text": [
            "Enter your name: greeshma\n",
            "Enter the unit consumed: 600\n",
            "Name: greeshma\n",
            "Bill amount: 3826.5\n"
          ]
        }
      ],
      "source": [
        "#calculating electicity bill in kerala\n",
        "name = input(\"Enter your name: \")\n",
        "unit = float(input(\"Enter the unit consumed: \"))\n",
        "print(\"Name:\", name)\n",
        "\n",
        "if unit <= 40:\n",
        "    bill = unit * 1.50\n",
        "    print(\"Bill amount:\", bill)\n",
        "elif unit <= 50:\n",
        "    bill = 40 * 1.50 + (unit - 40) * 3.15\n",
        "    print(\"Bill amount:\", bill)\n",
        "elif unit <= 100:\n",
        "    bill = 40 * 1.50 + 10 * 3.15 + (unit - 50) * 3.95\n",
        "    print(\"Bill amount:\", bill)\n",
        "elif unit <= 150:\n",
        "    bill = 40 * 1.50 + 10 * 3.15 + 50 * 3.95 + (unit - 100) * 5.00\n",
        "    print(\"Bill amount:\", bill)\n",
        "elif unit <= 200:\n",
        "    bill = 40 * 1.50 + 10 * 3.15 + 50 * 3.95 + 50 * 5.00 + (unit - 150) * 6.80\n",
        "    print(\"Bill amount:\", bill)\n",
        "elif unit <= 250:\n",
        "    bill = 40 * 1.50 + 10 * 3.15 + 50 * 3.95 + 50 * 5.00 + 50 * 6.80 + (unit - 200) * 8.00\n",
        "    print(\"Bill amount:\", bill)\n",
        "elif unit <= 300:\n",
        "    bill = 40 * 1.50 + 10 * 3.15 + 50 * 3.95 + 50 * 5.00 + 50 * 6.80 + 50 * 8.00 + (unit - 250) * 6.20\n",
        "    print(\"Bill amount:\", bill)\n",
        "elif unit <= 350:\n",
        "    bill = 40 * 1.50 + 10 * 3.15 + 50 * 3.95 + 50 * 5.00 + 50 * 6.80 + 50 * 8.00 + 50 * 6.20 + (unit - 300) * 7.00\n",
        "    print(\"Bill amount:\", bill)\n",
        "elif unit <= 400:\n",
        "    bill = 40 * 1.50 + 10 * 3.15 + 50 * 3.95 + 50 * 5.00 + 50 * 6.80 + 50 * 8.00 + 50 * 6.20 + 50 * 7.00 + (unit - 350) * 7.35\n",
        "    print(\"Bill amount:\", bill)\n",
        "else:\n",
        "    bill = 40 * 1.50 + 10 * 3.15 + 50 * 3.95 + 50 * 5.00 + 50 * 6.80 + 50 * 8.00 + 50 * 6.20 + 50 * 7.00 + 50 * 7.35 + (unit - 400) * 7.60\n",
        "    print(\"Bill amount:\", bill)\n"
      ]
    },
    {
      "cell_type": "code",
      "execution_count": null,
      "metadata": {
        "colab": {
          "base_uri": "https://localhost:8080/"
        },
        "id": "o3EPd59H1yUD",
        "outputId": "b8fde888-3abc-44c0-a64c-f0e1960d7a01"
      },
      "outputs": [
        {
          "name": "stdout",
          "output_type": "stream",
          "text": [
            "Enter the month (1-12): 3\n",
            "The season is Spring\n"
          ]
        }
      ],
      "source": [
        "#find the season in a year\n",
        "month = int(input(\"Enter the month (1-12): \"))\n",
        "\n",
        "if 3 <= month <= 5:\n",
        "    season = \"Spring\"\n",
        "elif 6 <= month <= 8:\n",
        "    season = \"Summer\"\n",
        "elif 9 <= month <= 11:\n",
        "    season = \"Autumn\"\n",
        "else:\n",
        "    season = \"Winter\"\n",
        "\n",
        "print(\"The season is\", season)"
      ]
    },
    {
      "cell_type": "code",
      "execution_count": null,
      "metadata": {
        "colab": {
          "base_uri": "https://localhost:8080/"
        },
        "id": "v3MIYpCY3zMA",
        "outputId": "921b3142-9794-42e2-f70a-26b3d9c5156a"
      },
      "outputs": [
        {
          "name": "stdout",
          "output_type": "stream",
          "text": [
            "Enter the total price: 500\n",
            "Discount: $ 50.0\n",
            "Final Price: $ 450.0\n"
          ]
        }
      ],
      "source": [
        "total_price = float(input(\"Enter the total price: \"))\n",
        "\n",
        "if total_price > 100:\n",
        "    discount = total_price * 0.10\n",
        "else:\n",
        "    discount = 0\n",
        "\n",
        "final_price = total_price - discount\n",
        "print(\"Discount: $\", discount)\n",
        "print(\"Final Price: $\", final_price)"
      ]
    },
    {
      "cell_type": "code",
      "execution_count": null,
      "metadata": {
        "colab": {
          "base_uri": "https://localhost:8080/"
        },
        "id": "-mLrpsta4rGA",
        "outputId": "e7a55c2e-a84a-438a-a398-b6a67d8e5146"
      },
      "outputs": [
        {
          "name": "stdout",
          "output_type": "stream",
          "text": [
            "Enter a number: 1\n",
            "1 is not a prime number\n"
          ]
        }
      ],
      "source": [
        "#prime number or not\n",
        "num = int(input(\"Enter a number: \"))\n",
        "\n",
        "if num > 1:\n",
        "    for i in range(2, num):\n",
        "        if (num % i) == 0:\n",
        "            print(num, \"is not a prime number\")\n",
        "            break\n",
        "    else:\n",
        "        print(num, \"is a prime number\")\n",
        "else:\n",
        "    print(num, \"is not a prime number\")"
      ]
    },
    {
      "cell_type": "code",
      "execution_count": null,
      "metadata": {
        "colab": {
          "base_uri": "https://localhost:8080/"
        },
        "id": "GVNqHBiW71Qq",
        "outputId": "87006932-89df-40e2-b53b-f163c272f821"
      },
      "outputs": [
        {
          "name": "stdout",
          "output_type": "stream",
          "text": [
            "python programming\n",
            "thon \n",
            "ogramm\n",
            "gnimmargorp nohtyp\n",
            "python progr\n",
            "thon programming\n",
            "python programming\n",
            "python programmingwelcome\n",
            "welcomewelcomewelcomewelcome\n",
            "\n",
            "gimropnhy\n"
          ]
        }
      ],
      "source": [
        "#string slicing\n",
        "name=\"python programming\"\n",
        "s=\"welcome\"\n",
        "print(name)\n",
        "print(name[2:7])\n",
        "print(name[-9:-3])\n",
        "print(name[::-1])\n",
        "print(name[:-6])\n",
        "print(name[2:])\n",
        "print(name[:])\n",
        "print(name+s)\n",
        "print(s*4)\n",
        "print(name[-9:3])\n",
        "print(name[::-2])"
      ]
    },
    {
      "cell_type": "code",
      "execution_count": null,
      "metadata": {
        "colab": {
          "base_uri": "https://localhost:8080/"
        },
        "id": "dRyEJ9TvDAb1",
        "outputId": "364ec466-d64e-4e2c-e4c6-545566073201"
      },
      "outputs": [
        {
          "name": "stdout",
          "output_type": "stream",
          "text": [
            "['greeshma', 23, 'wayanad', 500000]\n",
            "[23, 'wayanad']\n",
            "['greeshma', 23]\n",
            "[23, 'wayanad']\n",
            "a\n",
            "s\n",
            "ayan\n"
          ]
        }
      ],
      "source": [
        "#list programming\n",
        "mylist=[\"greeshma\",23,\"wayanad\",500000]\n",
        "print(mylist)\n",
        "print(mylist[1:3])\n",
        "print(mylist[0:-2])\n",
        "print(mylist[-3:-1])\n",
        "#nested index\n",
        "print(mylist[2][1])\n",
        "print(mylist[0][4])\n",
        "print(mylist[2][1:5])\n"
      ]
    },
    {
      "cell_type": "code",
      "execution_count": null,
      "metadata": {
        "colab": {
          "base_uri": "https://localhost:8080/"
        },
        "id": "Ui2H1xriHvmc",
        "outputId": "18538e58-9d4b-4458-f7ce-7a1e3fb41b0e"
      },
      "outputs": [
        {
          "name": "stdout",
          "output_type": "stream",
          "text": [
            "('greeshma', 23, 'wayanad', 500000)\n",
            "(23, 'wayanad')\n",
            "('wayanad',)\n",
            "e\n"
          ]
        }
      ],
      "source": [
        "#tuple programming\n",
        "tup=(\"greeshma\",23,\"wayanad\",500000)\n",
        "print(tup)\n",
        "print(tup[1:3])\n",
        "print(tup[-2:-1])\n",
        "#nested index\n",
        "print(tup[0][3])\n",
        "\n"
      ]
    },
    {
      "cell_type": "code",
      "execution_count": null,
      "metadata": {
        "colab": {
          "base_uri": "https://localhost:8080/"
        },
        "id": "kdRI15HGHvqk",
        "outputId": "f05b69ec-e276-400d-db93-140c316118cd"
      },
      "outputs": [
        {
          "name": "stdout",
          "output_type": "stream",
          "text": [
            "{'a', 2, 375, 'oneteam', 29}\n"
          ]
        }
      ],
      "source": [
        "#set\n",
        "myset={29,2,375,\"oneteam\",2,'a',2,'a'}\n",
        "print(myset)"
      ]
    },
    {
      "cell_type": "code",
      "execution_count": null,
      "metadata": {
        "colab": {
          "base_uri": "https://localhost:8080/"
        },
        "id": "zP3SLe27G3X3",
        "outputId": "3461a6d5-7e7c-42f6-84fd-c950bff3f24e"
      },
      "outputs": [
        {
          "name": "stdout",
          "output_type": "stream",
          "text": [
            "{1: 2, 2: 3, 3: 4, 4: 5}\n",
            "{'name': 'greeshma', 'age': 23, 'place': 'wayanad'}\n",
            "greeshma\n"
          ]
        }
      ],
      "source": [
        "#dictionary\n",
        "mydict={1:2,2:3,3:4,4:5}\n",
        "print(mydict)\n",
        "mypro={'name':'greeshma','age':23,'place':'wayanad'}\n",
        "print(mypro)\n",
        "print(mypro['name'])"
      ]
    },
    {
      "cell_type": "code",
      "execution_count": null,
      "metadata": {
        "colab": {
          "base_uri": "https://localhost:8080/"
        },
        "id": "6HpkNKdCNWwB",
        "outputId": "e98885d4-afd7-4122-ca02-851a2109ba60"
      },
      "outputs": [
        {
          "name": "stdout",
          "output_type": "stream",
          "text": [
            "enter the year:2000\n",
            "2000 this  year is a leap year\n"
          ]
        }
      ],
      "source": [
        "#leap year or not\n",
        "year=int(input(\"enter the year:\"))\n",
        "if year%4==0 or year%100==0 and year%400==0:\n",
        "  print(year,\"this  year is a leap year\")\n",
        "else:\n",
        "  print(year,\"this is not a leap year\")"
      ]
    },
    {
      "cell_type": "code",
      "execution_count": null,
      "metadata": {
        "colab": {
          "base_uri": "https://localhost:8080/"
        },
        "id": "WwbUFcDfU-_F",
        "outputId": "a084d650-aaa7-4c3a-cd2f-66db0ec15db1"
      },
      "outputs": [
        {
          "name": "stdout",
          "output_type": "stream",
          "text": [
            "Enter the month (1-12): 1\n",
            "The season is Winter\n"
          ]
        }
      ],
      "source": [
        "#find the season in a year\n",
        "month = int(input(\"Enter the month (1-12): \"))\n",
        "\n",
        "if 3 <= month <= 5:\n",
        "    season = \"Spring\"\n",
        "elif 6 <= month <= 8:\n",
        "    season = \"Summer\"\n",
        "elif 9 <= month <= 11:\n",
        "    season = \"Autumn\"\n",
        "else:\n",
        "    season = \"Winter\"\n",
        "\n",
        "print(\"The season is\", season)"
      ]
    },
    {
      "cell_type": "code",
      "execution_count": null,
      "metadata": {
        "colab": {
          "base_uri": "https://localhost:8080/"
        },
        "id": "oa6dX-dcVBvl",
        "outputId": "50b6b408-ecf9-4e83-b32c-2dfedf3bd706"
      },
      "outputs": [
        {
          "name": "stdout",
          "output_type": "stream",
          "text": [
            "enter a number9\n",
            "number is positive\n"
          ]
        }
      ],
      "source": [
        "number=int(input(\"enter a number:\"))\n",
        "if number>0:\n",
        "  print(\"number is positive\")\n",
        "elif number<0:\n",
        "  print(\"number is negative\")\n",
        "else:\n",
        "  print(\"number is zero\")"
      ]
    },
    {
      "cell_type": "code",
      "execution_count": null,
      "metadata": {
        "colab": {
          "base_uri": "https://localhost:8080/"
        },
        "id": "-WUaGgEnWl_3",
        "outputId": "c720e643-fe93-4c0b-8d75-f9d4fc8970b8"
      },
      "outputs": [
        {
          "name": "stdout",
          "output_type": "stream",
          "text": [
            "enter the temperature in degrees fahrenheit67\n",
            "wear jeans and light jacket\n"
          ]
        }
      ],
      "source": [
        "temp=float(input(\"enter the temperature in degrees fahrenheit\"))\n",
        "if temp>=70:\n",
        "  print(\"wear shirts and shots\")\n",
        "elif temp>59 and temp<69:\n",
        "  print(\"wear jeans and light jacket\")\n",
        "else:\n",
        "  print(\"wear heavy coat and warm pants\")"
      ]
    },
    {
      "cell_type": "code",
      "execution_count": null,
      "metadata": {
        "colab": {
          "base_uri": "https://localhost:8080/"
        },
        "id": "ACK8PIFQOVJs",
        "outputId": "94a1912a-0f8f-4705-97e5-2282a30a46e3"
      },
      "outputs": [
        {
          "name": "stdout",
          "output_type": "stream",
          "text": [
            "<class 'int'>\n",
            "<class 'str'>\n",
            "10\n"
          ]
        }
      ],
      "source": [
        "#type conversion\n",
        "a=10\n",
        "print(type(a))\n",
        "s=str(a)\n",
        "print(type(s))\n",
        "print(s)"
      ]
    },
    {
      "cell_type": "code",
      "execution_count": null,
      "metadata": {
        "colab": {
          "base_uri": "https://localhost:8080/"
        },
        "id": "30OuTVtuTwQN",
        "outputId": "522fa255-853f-4d64-ffb2-1a9224964604"
      },
      "outputs": [
        {
          "name": "stdout",
          "output_type": "stream",
          "text": [
            "[1, 'greeshma', 'A', 260000]\n",
            "<class 'list'>\n",
            "(1, 'greeshma', 'A', 260000)\n",
            "<class 'tuple'>\n"
          ]
        }
      ],
      "source": [
        "#type conversion\n",
        "my_list=[1,\"greeshma\",'A',260000]\n",
        "print(my_list)\n",
        "print(type(my_list))\n",
        "my_tup=(tuple(my_list))\n",
        "print(my_tup)\n",
        "print(type(my_tup))"
      ]
    },
    {
      "cell_type": "code",
      "execution_count": null,
      "metadata": {
        "colab": {
          "base_uri": "https://localhost:8080/"
        },
        "id": "NRCtUptYUv2t",
        "outputId": "9089ef37-7d4b-4749-d795-6843d2c16b88"
      },
      "outputs": [
        {
          "name": "stdout",
          "output_type": "stream",
          "text": [
            "The count value is: 1\n",
            "The count value is: 2\n",
            "The count value is: 3\n",
            "The count value is: 4\n",
            "The count value is: 5\n",
            "The count value is: 6\n",
            "The count value is: 7\n",
            "The count value is: 8\n",
            "The count value is: 9\n",
            "The count value is: 10\n",
            "The count value is: 11\n",
            "The count value is: 12\n",
            "The count value is: 13\n",
            "The count value is: 14\n",
            "The count value is: 15\n",
            "The count value is: 16\n",
            "The count value is: 17\n",
            "The count value is: 18\n",
            "The count value is: 19\n",
            "The count value is: 20\n",
            "The count value is: 21\n",
            "The count value is: 22\n",
            "The count value is: 23\n",
            "The count value is: 24\n",
            "The count value is: 25\n",
            "The count value is: 26\n",
            "The count value is: 27\n",
            "The count value is: 28\n",
            "The count value is: 29\n",
            "The count value is: 30\n",
            "The count value is: 31\n",
            "The count value is: 32\n",
            "The count value is: 33\n",
            "The count value is: 34\n",
            "The count value is: 35\n",
            "The count value is: 36\n",
            "The count value is: 37\n",
            "The count value is: 38\n",
            "The count value is: 39\n",
            "The count value is: 40\n",
            "The count value is: 41\n",
            "The count value is: 42\n",
            "The count value is: 43\n",
            "The count value is: 44\n",
            "The count value is: 45\n",
            "The count value is: 46\n",
            "The count value is: 47\n",
            "The count value is: 48\n",
            "The count value is: 49\n",
            "The count value is: 50\n"
          ]
        }
      ],
      "source": [
        "#while loop\n",
        "count=1\n",
        "while(count<=50):\n",
        "  print(\"The count value is:\",count)\n",
        "  count+=1"
      ]
    },
    {
      "cell_type": "code",
      "execution_count": null,
      "metadata": {
        "colab": {
          "base_uri": "https://localhost:8080/"
        },
        "id": "HW8dK9SqZL6a",
        "outputId": "4aa76d7e-a53c-4524-ecf9-072492ead3d2"
      },
      "outputs": [
        {
          "name": "stdout",
          "output_type": "stream",
          "text": [
            "the value is 2\n",
            "the value is 4\n",
            "the value is 6\n",
            "the value is 8\n",
            "the value is 10\n",
            "the value is 12\n",
            "the value is 14\n",
            "the value is 16\n",
            "the value is 18\n",
            "the value is 20\n",
            "the value is 22\n",
            "the value is 24\n",
            "the value is 26\n",
            "the value is 28\n",
            "the value is 30\n",
            "the value is 32\n",
            "the value is 34\n",
            "the value is 36\n",
            "the value is 38\n",
            "the value is 40\n",
            "the value is 42\n",
            "the value is 44\n",
            "the value is 46\n",
            "the value is 48\n",
            "the value is 50\n"
          ]
        }
      ],
      "source": [
        "#even numbers\n",
        "count=2\n",
        "while(count<=50):\n",
        "  print(\"the value is\",count)\n",
        "  count+=2"
      ]
    },
    {
      "cell_type": "code",
      "execution_count": null,
      "metadata": {
        "colab": {
          "base_uri": "https://localhost:8080/"
        },
        "id": "ETUA5HRiZrMo",
        "outputId": "b9015aa5-d266-47ea-9b95-28e93c5ad8f0"
      },
      "outputs": [
        {
          "name": "stdout",
          "output_type": "stream",
          "text": [
            "enter the number:7\n",
            "multiplication table\n",
            "1 * 7 = 7\n",
            "2 * 7 = 14\n",
            "3 * 7 = 21\n",
            "4 * 7 = 28\n",
            "5 * 7 = 35\n",
            "6 * 7 = 42\n",
            "7 * 7 = 49\n",
            "8 * 7 = 56\n",
            "9 * 7 = 63\n",
            "10 * 7 = 70\n"
          ]
        }
      ],
      "source": [
        "#multiplication table\n",
        "number=int(input(\"enter the number:\"))\n",
        "print(\"multiplication table\")\n",
        "count=1\n",
        "while(count<=10):\n",
        "  result=count*number\n",
        "  print(count,\"*\",number,\"=\",result)\n",
        "  count+=1"
      ]
    },
    {
      "cell_type": "code",
      "execution_count": null,
      "metadata": {
        "colab": {
          "base_uri": "https://localhost:8080/"
        },
        "id": "KPLLAj8jWUKL",
        "outputId": "04cded57-544e-48db-c5a8-ada2020c6b85"
      },
      "outputs": [
        {
          "name": "stdout",
          "output_type": "stream",
          "text": [
            "enter the limit:10\n",
            "the sum of even number is 10 = 30\n"
          ]
        }
      ],
      "source": [
        "#sum of the even numbers\n",
        "limit=int(input(\"enter the limit:\"))\n",
        "number=2\n",
        "sum=0\n",
        "while number<=limit:\n",
        "    sum=sum+number\n",
        "    number+=2\n",
        "print(\"the sum of even number is\",limit,\"=\",sum)\n",
        "\n",
        "\n"
      ]
    },
    {
      "cell_type": "code",
      "execution_count": null,
      "metadata": {
        "colab": {
          "base_uri": "https://localhost:8080/"
        },
        "id": "qsg_-RtZbxyY",
        "outputId": "a5decd59-d3c8-4b72-f139-536ead8b6677"
      },
      "outputs": [
        {
          "name": "stdout",
          "output_type": "stream",
          "text": [
            "enter the limit:3\n",
            "the product of even number is= 2\n"
          ]
        }
      ],
      "source": [
        "#product of the even numbers\n",
        "limit=int(input(\"enter the limit:\"))\n",
        "number=2\n",
        "product=1\n",
        "while number<=limit:\n",
        "    product=product*number\n",
        "    number+=2\n",
        "print(\"the product of even number is=\",product)\n"
      ]
    },
    {
      "cell_type": "code",
      "execution_count": null,
      "metadata": {
        "colab": {
          "base_uri": "https://localhost:8080/"
        },
        "id": "gwZNDb85hDhJ",
        "outputId": "db94bfb8-f1f6-48d7-a6f9-921cb621a47e"
      },
      "outputs": [
        {
          "name": "stdout",
          "output_type": "stream",
          "text": [
            "enter the limit:3\n",
            "the sum of natural number is = 6\n"
          ]
        }
      ],
      "source": [
        "#sum of natural numbers\n",
        "limit=int(input(\"enter the limit:\"))\n",
        "number=1\n",
        "sum=0\n",
        "while number<=limit:\n",
        "  sum=sum+number\n",
        "  number+=1\n",
        "print(\"the sum of natural number is =\",sum)"
      ]
    },
    {
      "cell_type": "code",
      "execution_count": null,
      "metadata": {
        "colab": {
          "base_uri": "https://localhost:8080/"
        },
        "id": "ux61_x_4h-1y",
        "outputId": "640cf27d-9925-4064-a255-793604075d21"
      },
      "outputs": [
        {
          "name": "stdout",
          "output_type": "stream",
          "text": [
            "enter the number:6\n",
            "The factorial of 6 is: 720\n"
          ]
        }
      ],
      "source": [
        "#factorial\n",
        "num=int(input(\"enter the number:\"))\n",
        "#factorial=1\n",
        "if num<=0:\n",
        "  print(\"negative number does't have factorial\")\n",
        "elif num==0:\n",
        "  print(\"factorial of zero is one\")\n",
        "else:\n",
        "  factorial=1\n",
        "  i=1\n",
        "  while i <= num:\n",
        "        factorial *= i\n",
        "        i += 1\n",
        "  print(\"The factorial of\", num, \"is:\", factorial)\n"
      ]
    },
    {
      "cell_type": "code",
      "execution_count": null,
      "metadata": {
        "colab": {
          "base_uri": "https://localhost:8080/"
        },
        "id": "IpAiYwImnzIb",
        "outputId": "12bace22-2a20-439a-c4c1-f62491db841b"
      },
      "outputs": [
        {
          "name": "stdout",
          "output_type": "stream",
          "text": [
            "1\n",
            "2\n",
            "3\n",
            "4\n"
          ]
        }
      ],
      "source": [
        "i=1\n",
        "while i<=10:\n",
        "  if i==5:\n",
        "    break\n",
        "  print(i)\n",
        "  i+=1"
      ]
    },
    {
      "cell_type": "code",
      "execution_count": null,
      "metadata": {
        "colab": {
          "base_uri": "https://localhost:8080/"
        },
        "id": "KY1Y3i41zV2Y",
        "outputId": "30d4f21d-4d3a-400d-c523-091c224f4ee9"
      },
      "outputs": [
        {
          "output_type": "stream",
          "name": "stdout",
          "text": [
            "Enter a number: 12\n",
            "The sum of the digits is: 3\n"
          ]
        }
      ],
      "source": [
        "#sum of digits\n",
        "num = int(input(\"Enter a number: \"))\n",
        "sum_of_digits = 0\n",
        "while num > 0:\n",
        "    digit = num % 10\n",
        "    sum_of_digits += digit\n",
        "    num //= 10\n",
        "print(\"The sum of the digits is:\", sum_of_digits)\n"
      ]
    },
    {
      "cell_type": "code",
      "execution_count": null,
      "metadata": {
        "colab": {
          "base_uri": "https://localhost:8080/"
        },
        "id": "GJ7ur2MJxExN",
        "outputId": "34a57392-454d-4e11-f960-bc2d50780994"
      },
      "outputs": [
        {
          "name": "stdout",
          "output_type": "stream",
          "text": [
            "1\n",
            "2\n",
            "3\n",
            "4\n",
            "6\n",
            "7\n",
            "8\n",
            "9\n",
            "10\n",
            "11\n"
          ]
        }
      ],
      "source": [
        "count=0\n",
        "while(count<=10):\n",
        "  count+=1\n",
        "  if(count==5):\n",
        "    continue\n",
        "  print(count)"
      ]
    },
    {
      "cell_type": "code",
      "execution_count": null,
      "metadata": {
        "colab": {
          "base_uri": "https://localhost:8080/"
        },
        "id": "X98GhmdVzyC4",
        "outputId": "51aa3d3a-467d-4fa5-fda9-28f953194ce6"
      },
      "outputs": [
        {
          "name": "stdout",
          "output_type": "stream",
          "text": [
            "the count is 9\n",
            "the count is 8\n",
            "the count is 7\n",
            "the count is 6\n",
            "the count is 4\n",
            "the count is 3\n",
            "the count is 2\n",
            "the count is 1\n",
            "the count is 0\n",
            "thank you\n"
          ]
        }
      ],
      "source": [
        "#continue\n",
        "var=10\n",
        "while(var>0):\n",
        "  var=var-1\n",
        "  if(var==5):\n",
        "    continue\n",
        "  print(\"the count is\",var)\n",
        "print(\"thank you\")"
      ]
    },
    {
      "cell_type": "code",
      "execution_count": null,
      "metadata": {
        "colab": {
          "base_uri": "https://localhost:8080/"
        },
        "id": "6_gvnji_0UjO",
        "outputId": "0d4f7edf-e4ca-4823-a319-e96f1c59ac53"
      },
      "outputs": [
        {
          "name": "stdout",
          "output_type": "stream",
          "text": [
            "the count is 9\n",
            "the count is 8\n",
            "the count is 7\n",
            "the count is 6\n",
            "thank you\n"
          ]
        }
      ],
      "source": [
        "#break\n",
        "var=10\n",
        "while(var>0):\n",
        "  var=var-1\n",
        "  if(var==5):\n",
        "    break\n",
        "  print(\"the count is\",var)\n",
        "print(\"thank you\")"
      ]
    },
    {
      "cell_type": "code",
      "execution_count": null,
      "metadata": {
        "colab": {
          "base_uri": "https://localhost:8080/"
        },
        "id": "n4kVQXyX0crc",
        "outputId": "733a46ad-dc67-4ec0-9b41-5e0fb20cedb3"
      },
      "outputs": [
        {
          "name": "stdout",
          "output_type": "stream",
          "text": [
            "the count is 9\n",
            "the count is 8\n",
            "the count is 7\n",
            "the count is 6\n",
            "the count is 5\n",
            "the count is 4\n",
            "the count is 3\n",
            "the count is 2\n",
            "the count is 1\n",
            "the count is 0\n",
            "thank you\n"
          ]
        }
      ],
      "source": [
        "#pass\n",
        "var=10\n",
        "while(var>0):\n",
        "  var=var-1\n",
        "  if(var==5):\n",
        "    pass\n",
        "  print(\"the count is\",var)\n",
        "print(\"thank you\")"
      ]
    },
    {
      "cell_type": "code",
      "execution_count": null,
      "metadata": {
        "colab": {
          "base_uri": "https://localhost:8080/"
        },
        "id": "IUooL1OK3X30",
        "outputId": "2cc11457-0e03-45b5-e89f-ae362f70f522"
      },
      "outputs": [
        {
          "name": "stdout",
          "output_type": "stream",
          "text": [
            "greeshma\n",
            "23\n",
            "wayanad\n"
          ]
        }
      ],
      "source": [
        "#for loop\n",
        "mylist=[\"greeshma\",23,\"wayanad\"]\n",
        "for i in mylist:\n",
        "  print(i)"
      ]
    },
    {
      "cell_type": "code",
      "execution_count": null,
      "metadata": {
        "colab": {
          "base_uri": "https://localhost:8080/"
        },
        "id": "wrdVaucb3t0e",
        "outputId": "3ae68518-8d4e-4027-f075-04ea5e12260c"
      },
      "outputs": [
        {
          "name": "stdout",
          "output_type": "stream",
          "text": [
            "o\n",
            "n\n",
            "e\n",
            "t\n",
            "e\n",
            "a\n",
            "m\n"
          ]
        }
      ],
      "source": [
        "for i in \"oneteam\":\n",
        "  print(i)"
      ]
    },
    {
      "cell_type": "code",
      "execution_count": null,
      "metadata": {
        "colab": {
          "base_uri": "https://localhost:8080/"
        },
        "id": "irRbrjCp4EMY",
        "outputId": "afeb976f-a794-4243-a442-9ac29b93bfc6"
      },
      "outputs": [
        {
          "output_type": "stream",
          "name": "stdout",
          "text": [
            "enter the  number:0\n",
            "factorial of zero is one\n"
          ]
        }
      ],
      "source": [
        "number=int(input(\"enter the  number:\"))\n",
        "factorial=1\n",
        "if number<0:\n",
        "  print(\"negative number does't have factorial\")\n",
        "elif number==0:\n",
        "  print(\"factorial of zero is one\")\n",
        "else:\n",
        "  for i in range(1,number+1):\n",
        "    factorial=factorial*i\n",
        "  print(\"factorial is\",factorial)"
      ]
    },
    {
      "cell_type": "code",
      "execution_count": null,
      "metadata": {
        "colab": {
          "base_uri": "https://localhost:8080/"
        },
        "id": "FG8bORTi6cEI",
        "outputId": "56f4ec18-81b9-4e71-f886-facc040c1e0f"
      },
      "outputs": [
        {
          "name": "stdout",
          "output_type": "stream",
          "text": [
            "['wayanad', 23, 'greeshma']\n",
            "['greeshma', 23, 'wayanad']\n"
          ]
        }
      ],
      "source": [
        "#reversing list\n",
        "original_list=[\"greeshma\",23,\"wayanad\"]\n",
        "reversed_list=[]\n",
        "for item in original_list:\n",
        "  reversed_list.insert(0,item)\n",
        "print(reversed_list)\n",
        "print(original_list)\n"
      ]
    },
    {
      "cell_type": "code",
      "execution_count": null,
      "metadata": {
        "colab": {
          "base_uri": "https://localhost:8080/"
        },
        "id": "7-Rdjq3jDHQy",
        "outputId": "fec07a13-7539-47e6-eb87-f4953818c8f9"
      },
      "outputs": [
        {
          "name": "stdout",
          "output_type": "stream",
          "text": [
            "{1: 3, 2: 2, 3: 1, 6: 1, 5: 1, 4: 1}\n"
          ]
        }
      ],
      "source": [
        "#Python program to count the occurrences of each element in a list\n",
        "numbers=[1,2,3,6,2,5,1,4,1]\n",
        "count={}\n",
        "for num in numbers:\n",
        "  if num in count:\n",
        "    count[num]+=1\n",
        "  else:\n",
        "    count[num]=1\n",
        "\n",
        "print(count)"
      ]
    },
    {
      "cell_type": "code",
      "execution_count": null,
      "metadata": {
        "colab": {
          "base_uri": "https://localhost:8080/"
        },
        "id": "GHBYSFPq_QQH",
        "outputId": "98435461-ad51-4f43-cdb1-02f8f06baae6"
      },
      "outputs": [
        {
          "name": "stdout",
          "output_type": "stream",
          "text": [
            "Enter the word: greesh\n",
            "greesh is not palindrome\n"
          ]
        }
      ],
      "source": [
        "#palindrome or not\n",
        "word=str(input(\"Enter the word: \"))\n",
        "#word=\"malayalam\"\n",
        "rev=\"\"\n",
        "for i in word:\n",
        "  rev=i+rev\n",
        "if(word==rev):\n",
        "  print(word,\"is palindrome\")\n",
        "else:\n",
        "  print(word,\"is not palindrome\")"
      ]
    },
    {
      "cell_type": "code",
      "execution_count": null,
      "metadata": {
        "colab": {
          "base_uri": "https://localhost:8080/"
        },
        "id": "8ou52iqVGTbT",
        "outputId": "0abbcc17-4124-4d62-ce3b-af9ae95df3a2"
      },
      "outputs": [
        {
          "name": "stdout",
          "output_type": "stream",
          "text": [
            "enter a number25\n",
            "automorphic\n"
          ]
        }
      ],
      "source": [
        "num=int(input(\"enter a number:\"))\n",
        "square=num*num\n",
        "num_str=str(num)\n",
        "square_str=str(square)\n",
        "if square_str.endswith(num_str):\n",
        "  print(\"automorphic\")\n",
        "else:\n",
        "  print(\"not automorphic\")"
      ]
    },
    {
      "cell_type": "code",
      "execution_count": null,
      "metadata": {
        "colab": {
          "base_uri": "https://localhost:8080/"
        },
        "id": "Li4n0x_fJGhR",
        "outputId": "38de8117-dfa4-4784-bb03-d22291a78f2f"
      },
      "outputs": [
        {
          "name": "stdout",
          "output_type": "stream",
          "text": [
            "enter a number:6\n",
            "trimorphic\n"
          ]
        }
      ],
      "source": [
        "num=int(input(\"enter a number:\"))\n",
        "cube=num**3\n",
        "num_str=str(num)\n",
        "cube_str=str(cube)\n",
        "if cube_str.endswith(num_str):\n",
        "  print(\"trimorphic\")\n",
        "else:\n",
        "  print(\"not trimorphic\")"
      ]
    },
    {
      "cell_type": "code",
      "execution_count": null,
      "metadata": {
        "colab": {
          "base_uri": "https://localhost:8080/"
        },
        "id": "VmpI5u70HUNK",
        "outputId": "7701c847-d49a-4dab-beb2-06855af6e9e1"
      },
      "outputs": [
        {
          "name": "stdout",
          "output_type": "stream",
          "text": [
            "enter the number:5\n",
            "automorphic\n",
            "trimorphic\n"
          ]
        }
      ],
      "source": [
        "num=int(input(\"enter the number:\"))\n",
        "square=num**2\n",
        "cube=num**3\n",
        "smod=pow(10,len(str(num)))\n",
        "cmod=pow(10,len(str(num)))\n",
        "if square%smod==num:\n",
        "  print(\"automorphic\")\n",
        "else:\n",
        "  print(\"not automorphic\")\n",
        "if cube%cmod==num:\n",
        "  print(\"trimorphic\")\n",
        "else:\n",
        "  print(\"not trimorphic\")"
      ]
    },
    {
      "cell_type": "code",
      "execution_count": null,
      "metadata": {
        "colab": {
          "base_uri": "https://localhost:8080/"
        },
        "id": "DTAE2l2hNyIm",
        "outputId": "74fd3115-e99a-427a-bdb9-33220160454f"
      },
      "outputs": [
        {
          "name": "stdout",
          "output_type": "stream",
          "text": [
            "enter a number:7\n",
            "not automorphic\n",
            "not trimorphic\n"
          ]
        }
      ],
      "source": [
        "num=int(input(\"enter a number:\"))\n",
        "square=num**2\n",
        "cube=num**3\n",
        "num_str=str(num)\n",
        "square_str=str(square)\n",
        "cube_str=str(cube)\n",
        "if square_str.endswith(num_str):\n",
        "  print(\"automorphic\")\n",
        "else:\n",
        "  print(\"not automorphic\")\n",
        "if cube_str.endswith(num_str):\n",
        "  print(\"trimorphic\")\n",
        "else:\n",
        "  print(\"not trimorphic\")"
      ]
    },
    {
      "cell_type": "code",
      "execution_count": null,
      "metadata": {
        "colab": {
          "base_uri": "https://localhost:8080/"
        },
        "id": "uy10ilQTPftp",
        "outputId": "8b66a488-e771-414d-97b2-75148dda8d95"
      },
      "outputs": [
        {
          "name": "stdout",
          "output_type": "stream",
          "text": [
            "Options:\n",
            "Enter '1' for addition\n",
            "Enter '2' for subtraction\n",
            "Enter '3' for multiplication\n",
            "Enter '4' for division\n",
            "Enter '5' to end the program\n",
            ": 1\n",
            "Enter the first number: 4\n",
            "Enter the second number: 4\n",
            "Result: 8.0\n",
            "Options:\n",
            "Enter '1' for addition\n",
            "Enter '2' for subtraction\n",
            "Enter '3' for multiplication\n",
            "Enter '4' for division\n",
            "Enter '5' to end the program\n",
            ": 2\n",
            "Enter the first number: 4\n",
            "Enter the second number: 5\n",
            "Result: -1.0\n",
            "Options:\n",
            "Enter '1' for addition\n",
            "Enter '2' for subtraction\n",
            "Enter '3' for multiplication\n",
            "Enter '4' for division\n",
            "Enter '5' to end the program\n",
            ": 3\n",
            "Enter the first number: 2\n",
            "Enter the second number: 5\n",
            "Result: 10.0\n",
            "Options:\n",
            "Enter '1' for addition\n",
            "Enter '2' for subtraction\n",
            "Enter '3' for multiplication\n",
            "Enter '4' for division\n",
            "Enter '5' to end the program\n",
            ": 5\n"
          ]
        }
      ],
      "source": [
        "#calculator program\n",
        "while True:\n",
        "    print(\"enter '1' for addition\")\n",
        "    print(\"enter '2' for subtraction\")\n",
        "    print(\"enter '3' for multiplication\")\n",
        "    print(\"enter '4' for division\")\n",
        "    print(\"enter '5' to end the program\")\n",
        "    user_input = input(\": \")\n",
        "    if user_input == \"5\":\n",
        "        break\n",
        "    elif user_input in [\"1\", \"2\", \"3\", \"4\"]:\n",
        "        num1 = float(input(\"enter the first number: \"))\n",
        "        num2 = float(input(\"enter the second number: \"))\n",
        "        if user_input == \"1\":\n",
        "            print(\"result:\", num1 + num2)\n",
        "        elif user_input == \"2\":\n",
        "            print(\"result:\", num1 - num2)\n",
        "        elif user_input == \"3\":\n",
        "            print(\"result:\", num1 * num2)\n",
        "        elif user_input == \"4\":\n",
        "            if num2 == 0:\n",
        "                print(\"division by zero is not allowed\")\n",
        "            else:\n",
        "                print(\"result:\", num1 / num2)\n",
        "    else:\n",
        "        print(\"invalid input\")\n"
      ]
    },
    {
      "cell_type": "code",
      "execution_count": null,
      "metadata": {
        "colab": {
          "base_uri": "https://localhost:8080/"
        },
        "id": "9M8iqCy0Cydi",
        "outputId": "870b63d3-745c-4c96-b817-e64029468bc6"
      },
      "outputs": [
        {
          "name": "stdout",
          "output_type": "stream",
          "text": [
            "Enter side1:5\n",
            "Enter side2:7\n",
            "Enter side3:3\n",
            "The triangle is obtuse-angled traingle\n"
          ]
        }
      ],
      "source": [
        "#enter sides\n",
        "s1=int(input(\"Enter side1:\"))\n",
        "s2=int(input(\"Enter side2:\"))\n",
        "s3=int(input(\"Enter side3:\"))\n",
        "\n",
        "#calculate square of sides\n",
        "sq_s1=s1**2\n",
        "sq_s2=s2**2\n",
        "sq_s3=s3**2\n",
        "\n",
        "#give conditions for right,acute and obtuse angled triangles\n",
        "if(sq_s1 == sq_s2+sq_s3) or (sq_s2 == sq_s1+sq_s3) or (sq_s3==sq_s1+sq_s2):\n",
        "  print(\"The triangle is right-angled traingle\")\n",
        "elif(sq_s1 > sq_s2+sq_s3) or (sq_s2 > sq_s1+sq_s3) or (sq_s3 > sq_s1+sq_s2):\n",
        "  print(\"The triangle is obtuse-angled traingle\")\n",
        "elif(sq_s1 < sq_s2+sq_s3) or (sq_s2 < sq_s1+sq_s3) or (sq_s3 < sq_s1+sq_s2):\n",
        "  print(\"The triangle is acute-angled traingle\")\n",
        "else:\n",
        "  print(\"Invalid input\")"
      ]
    },
    {
      "cell_type": "code",
      "execution_count": null,
      "metadata": {
        "colab": {
          "base_uri": "https://localhost:8080/"
        },
        "id": "xA4BfMhdD1co",
        "outputId": "8e5873f9-e296-42b2-d5c9-8d2e4c734146"
      },
      "outputs": [
        {
          "name": "stdout",
          "output_type": "stream",
          "text": [
            "Enter:\n",
            "\n",
            "1. Addition\n",
            "2. Subtraction\n",
            "3. Multiplication\n",
            "4. Division\n",
            "5. Modulo\n",
            "\n",
            "Enter the number1:1\n",
            "Enter the number2:6\n",
            "Enter your choice: 2\n",
            "Answer is: -5.0\n"
          ]
        }
      ],
      "source": [
        "#display choices\n",
        "print(\"Enter:\\n\\n1. Addition\\n2. Subtraction\\n3. Multiplication\\n4. Division\\n5. Modulo\\n\")\n",
        "\n",
        "#enter values\n",
        "num1=float(input(\"Enter the number1:\"))\n",
        "num2=float(input(\"Enter the number2:\"))\n",
        "#enter operation to be performed\n",
        "operation = input(\"Enter your choice: \")\n",
        "result=0\n",
        "#give condtions based on choice\n",
        "if(operation==\"1\"):\n",
        "  result=num1+num2\n",
        "elif(operation==\"2\"):\n",
        "  result=num1-num2\n",
        "elif(operation==\"3\"):\n",
        "  result=num1*num2\n",
        "elif(operation==\"4\"):\n",
        "  result=num1/num2\n",
        "elif(operation==\"5\"):\n",
        "  result=num1%num2\n",
        "else:\n",
        "  print(\"Input is invalid\")\n",
        "\n",
        "  #display answer\n",
        "print(\"Answer is:\",result)"
      ]
    },
    {
      "cell_type": "code",
      "execution_count": null,
      "metadata": {
        "colab": {
          "base_uri": "https://localhost:8080/"
        },
        "id": "L571snopPfyK",
        "outputId": "85a0b3e3-c325-494e-ba8b-6bfe9f668411"
      },
      "outputs": [
        {
          "name": "stdout",
          "output_type": "stream",
          "text": [
            "enter three angles50\n",
            "90\n",
            "40\n",
            "it is a right angled traingle\n"
          ]
        }
      ],
      "source": [
        "#checking if it is right angled traingle or not\n",
        "angle1=int(input(\"enter three angles\"))\n",
        "angle2=int(input())\n",
        "angle3=int(input())\n",
        "sum=angle1+angle2+angle3\n",
        "if sum==180:\n",
        "  if angle1==90 or angle2==90 or angle3==90:\n",
        "    print(\"it is a right angled traingle\")\n",
        "  else:\n",
        "    print(\"it is not right angled traingle\")\n",
        "else:\n",
        "  print(\"it is not right angled traingle\")"
      ]
    },
    {
      "cell_type": "code",
      "execution_count": null,
      "metadata": {
        "colab": {
          "base_uri": "https://localhost:8080/"
        },
        "id": "-rfsjYcgSIxh",
        "outputId": "57220b34-5853-486d-814c-ec7c3f9a0df9"
      },
      "outputs": [
        {
          "name": "stdout",
          "output_type": "stream",
          "text": [
            "17\n",
            "PYTHON POGRAMMING\n",
            "python pogramming\n",
            "Python pogramming\n",
            "3\n",
            "hi,world\n",
            "['apple,banana,orange']\n"
          ]
        }
      ],
      "source": [
        "#string bulit in functions\n",
        "my_string=\"python pogramming\"\n",
        "print(len(my_string))#to find the length of a string\n",
        "print(my_string.upper())#to convert to uppercase\n",
        "print(my_string.lower())#to convert to lowercase\n",
        "print(my_string.capitalize())#to capitalize the first letter\n",
        "s=\"hello,hello,hello,world\"\n",
        "count=s.count(\"hello\")\n",
        "print(count)\n",
        "string=\"hello,world\"\n",
        "new_string=string.replace(\"hello\",\"hi\")\n",
        "print(new_string)\n",
        "string_new=\"apple,banana,orange\"\n",
        "fruits=string_new.split()\n",
        "print(fruits)\n",
        "\n"
      ]
    },
    {
      "cell_type": "code",
      "execution_count": null,
      "metadata": {
        "colab": {
          "base_uri": "https://localhost:8080/"
        },
        "id": "uL-4_jUsa3a3",
        "outputId": "d61b4348-518d-4150-b4a5-783655434be2"
      },
      "outputs": [
        {
          "name": "stdout",
          "output_type": "stream",
          "text": [
            "[1, 2, 3, 4, 5]\n",
            "[1, 2, 3, 4, 5, 6, 7, 8]\n",
            "[1, 3, 4, 5, 6, 7, 8]\n",
            "[1, 3, 4, 5, 6, 7]\n",
            "[1, 3, 4, 5, 7]\n",
            "1\n",
            "1\n",
            "[13, 29, 45, 89]\n",
            "[89, 45, 29, 13]\n",
            "[13, 29, 45, 89]\n",
            "[]\n"
          ]
        }
      ],
      "source": [
        "#list built-in function\n",
        "my_list=[1,2,3,4]\n",
        "my_list.append(5)\n",
        "print(my_list)\n",
        "my_list.extend([6,7,8])\n",
        "print(my_list)\n",
        "my_list.remove(2)\n",
        "print(my_list)\n",
        "my_list.pop()\n",
        "print(my_list)\n",
        "my_list.pop(4)\n",
        "print(my_list)\n",
        "s=my_list.index(3)\n",
        "print(s)\n",
        "count=my_list.count(4)\n",
        "print(count)\n",
        "new_list=[29,89,13,45]\n",
        "new_list.sort()\n",
        "print(new_list)\n",
        "new_list.sort(reverse=True)\n",
        "print(new_list)\n",
        "new_list.reverse()\n",
        "print(new_list)\n",
        "new_list.clear()\n",
        "print(new_list)"
      ]
    },
    {
      "cell_type": "code",
      "execution_count": null,
      "metadata": {
        "colab": {
          "base_uri": "https://localhost:8080/"
        },
        "id": "OGBE9eDueHCh",
        "outputId": "56172708-e559-4be8-9a41-95242eecbc39"
      },
      "outputs": [
        {
          "name": "stdout",
          "output_type": "stream",
          "text": [
            "(2, 4, 7, 2)\n",
            "1\n",
            "2\n"
          ]
        }
      ],
      "source": [
        "new_tuple=(2,4,7,2)\n",
        "print(new_tuple)\n",
        "s=new_tuple.index(4)\n",
        "print(s)\n",
        "s=new_tuple.count(2)\n",
        "print(s)\n"
      ]
    },
    {
      "cell_type": "code",
      "execution_count": null,
      "metadata": {
        "colab": {
          "base_uri": "https://localhost:8080/"
        },
        "id": "-NbW-d33wvzO",
        "outputId": "4a3493a3-8a7a-4bab-97ae-f96052dfafb7"
      },
      "outputs": [
        {
          "output_type": "stream",
          "name": "stdout",
          "text": [
            "Enter the limit:4\n",
            "Enter the numbers:1\n",
            "Enter the numbers:2\n",
            "Enter the numbers:1\n",
            "Enter the numbers:5\n",
            "Enter the number to search:1\n",
            "Calculate the count\n",
            "1 comes from 2 times\n"
          ]
        }
      ],
      "source": [
        "limit=int(input(\"Enter the limit:\"))\n",
        "my_list=[]\n",
        "\n",
        "\n",
        "for i in range(limit):\n",
        "  numbers=int(input(\"Enter the numbers:\"))\n",
        "  my_list.append(numbers)\n",
        "\n",
        "num=int(input(\"Enter the number to search:\"))\n",
        "\n",
        "print(\"Calculate the count\")\n",
        "count=0\n",
        "\n",
        "for n in my_list:\n",
        "  if(n==num):\n",
        "    count+=1\n",
        "print(num,\"comes from\",count,\"times\")\n"
      ]
    },
    {
      "cell_type": "code",
      "execution_count": null,
      "metadata": {
        "id": "OgvvXMt8IyB_"
      },
      "outputs": [],
      "source": []
    },
    {
      "cell_type": "code",
      "execution_count": null,
      "metadata": {
        "colab": {
          "base_uri": "https://localhost:8080/"
        },
        "id": "YlpAdOMQxOIc",
        "outputId": "1ff4e65f-1cf7-4169-bfa6-834401913b29"
      },
      "outputs": [
        {
          "name": "stdout",
          "output_type": "stream",
          "text": [
            "Biggest number: 89\n",
            "Second biggest number: 78\n"
          ]
        }
      ],
      "source": [
        "my_list=[65,78,23,34,89,45,56]\n",
        "\n",
        "i=0\n",
        "big_num=my_list[0]\n",
        "sec_big=my_list[1]\n",
        "\n",
        "while(i<len(my_list)):\n",
        "  if my_list[i]>big_num:\n",
        "    sec_big=big_num\n",
        "    big_num=my_list[i]\n",
        "  i+=1\n",
        "\n",
        "print(\"Biggest number:\",big_num)\n",
        "print(\"Second biggest number:\",sec_big)"
      ]
    },
    {
      "cell_type": "code",
      "execution_count": null,
      "metadata": {
        "colab": {
          "base_uri": "https://localhost:8080/"
        },
        "id": "FVmwl5CuIAEB",
        "outputId": "684b6c5b-2996-431e-c776-2155b0db328b"
      },
      "outputs": [
        {
          "name": "stdout",
          "output_type": "stream",
          "text": [
            "{1, 2, 3, 4, 5, 6}\n",
            "{1, 2, 3, 4, 5, 6, 7, 8}\n",
            "{1, 2, 3, 4, 6, 7, 8}\n",
            "{1, 2, 3, 4, 7, 8}\n"
          ]
        }
      ],
      "source": [
        "#set inbulit fuctions\n",
        "my_set={1,2,3,4,5}\n",
        "my_set.add(6)\n",
        "print(my_set)\n",
        "my_set.update([7,8])\n",
        "print(my_set)\n",
        "my_set.remove(5)\n",
        "print(my_set)\n",
        "my_set.discard(6)\n",
        "print(my_set)\n"
      ]
    },
    {
      "cell_type": "code",
      "execution_count": null,
      "metadata": {
        "colab": {
          "base_uri": "https://localhost:8080/"
        },
        "id": "t-WIjHw-BwqW",
        "outputId": "be281d09-2ba7-42dc-9c79-19da1afe9ac1"
      },
      "outputs": [
        {
          "name": "stdout",
          "output_type": "stream",
          "text": [
            "{1: 1, 2: 4, 3: 9, 4: 16}\n",
            "9\n",
            "{1: 1, 2: 4, 3: 90, 4: 16}\n",
            "{1: 1, 2: 4, 3: 90, 4: 16, 5: 25}\n",
            "{1: 1, 2: 4, 4: 16, 5: 25}\n",
            "dict_keys([1, 2, 4, 5])\n",
            "dict_values([1, 4, 16, 25])\n",
            "dict_items([(1, 1), (2, 4), (4, 16), (5, 25)])\n"
          ]
        }
      ],
      "source": [
        "#dictionary\n",
        "my_dict={1:1,2:4,3:9,4:16}\n",
        "print(my_dict)\n",
        "print(my_dict[3])\n",
        "my_dict[3]=90#update\n",
        "print(my_dict)\n",
        "my_dict[5]=25#add\n",
        "print(my_dict)\n",
        "del my_dict[3]#delete\n",
        "print(my_dict)\n",
        "k=my_dict.keys()\n",
        "v=my_dict.values()\n",
        "i=my_dict.items()\n",
        "print(k)\n",
        "print(v)\n",
        "print(i)"
      ]
    },
    {
      "cell_type": "code",
      "execution_count": null,
      "metadata": {
        "colab": {
          "base_uri": "https://localhost:8080/"
        },
        "id": "ZKj7aA-YHM0g",
        "outputId": "b57f6ac5-9db2-4bc6-a195-44fe67658f30"
      },
      "outputs": [
        {
          "name": "stdout",
          "output_type": "stream",
          "text": [
            "john\n",
            "{'name': 'john', 'age': 31, 'city': 'new york'}\n",
            "{'name': 'john', 'age': 31, 'city': 'new york', 'occupation': 'Engineer'}\n",
            "{'name': 'john', 'age': 31, 'occupation': 'Engineer'}\n",
            "dict_keys(['name', 'age', 'occupation'])\n",
            "dict_values(['john', 31, 'Engineer'])\n",
            "dict_items([('name', 'john'), ('age', 31), ('occupation', 'Engineer')])\n",
            "31\n",
            "N/A\n",
            "31\n",
            "{'name': 'john', 'occupation': 'Engineer'}\n",
            "('occupation', 'Engineer')\n",
            "{'name': 'john'}\n",
            "{}\n",
            "{'country': 'USA', 'age': 30}\n"
          ]
        }
      ],
      "source": [
        "my_dict={'name':'john','age':30,'city':'new york'}#creating dictionary\n",
        "print(my_dict['name'])#accessing values\n",
        "my_dict['age']=31\n",
        "print(my_dict)\n",
        "my_dict['occupation']='Engineer'\n",
        "print(my_dict)\n",
        "del my_dict['city']\n",
        "print(my_dict)\n",
        "keys_list=my_dict.keys()\n",
        "values_list=my_dict.values()\n",
        "items_items=my_dict.items()\n",
        "print(keys_list)\n",
        "print(values_list)\n",
        "print(items_items)\n",
        "value=my_dict.get('age','N/A')\n",
        "print(value)\n",
        "value=my_dict.get('salary','N/A')\n",
        "print(value)\n",
        "removed_value=my_dict.pop('age')\n",
        "print(removed_value)\n",
        "print(my_dict)\n",
        "removed_item=my_dict.popitem()\n",
        "print(removed_item)\n",
        "print(my_dict)\n",
        "my_dict.clear()\n",
        "print(my_dict)\n",
        "my_dict.update({'country':'USA','age':30})\n",
        "print(my_dict)"
      ]
    },
    {
      "cell_type": "code",
      "execution_count": null,
      "metadata": {
        "id": "iLOZA5o4GRo9"
      },
      "outputs": [],
      "source": []
    },
    {
      "cell_type": "code",
      "execution_count": null,
      "metadata": {
        "colab": {
          "base_uri": "https://localhost:8080/"
        },
        "id": "wxs_b4wHxB40",
        "outputId": "02eb1f94-cf03-441a-aed9-ca4a03dbfa0c"
      },
      "outputs": [
        {
          "name": "stdout",
          "output_type": "stream",
          "text": [
            "welcome to python\n"
          ]
        }
      ],
      "source": [
        "#1 write a python program to output welcome to python\n",
        "print(\"welcome to python\")"
      ]
    },
    {
      "cell_type": "code",
      "execution_count": null,
      "metadata": {
        "colab": {
          "base_uri": "https://localhost:8080/"
        },
        "id": "Or96s3CWxTKJ",
        "outputId": "5bf94287-7424-42b1-81a6-f5bf294cc7d2"
      },
      "outputs": [
        {
          "name": "stdout",
          "output_type": "stream",
          "text": [
            "\n",
            " 1 \n",
            " 2 \n",
            " 3\n",
            "\n",
            " name= greeshma \n",
            " age= 23 \n",
            " palace= mananthavady\n"
          ]
        }
      ],
      "source": [
        "#2 write a python program to declare multiple variables in a single line\n",
        "a,b,c=1,2,3\n",
        "#print(a,\" \",b,\" \",c)\n",
        "print(\"\\n\",a,\"\\n\",b,\"\\n\",c)\n",
        "name,age,place=\"greeshma\",23,\"mananthavady\"\n",
        "print(\"\\n name=\",name,\"\\n\",\"age=\",age,\"\\n\",\"palace=\",place)"
      ]
    },
    {
      "cell_type": "code",
      "execution_count": null,
      "metadata": {
        "colab": {
          "base_uri": "https://localhost:8080/"
        },
        "id": "p-8kUpbmy1FJ",
        "outputId": "2c86d1c1-4e97-4c0e-cad1-6c6e0d6064f5"
      },
      "outputs": [
        {
          "name": "stdout",
          "output_type": "stream",
          "text": [
            "greeshma\n"
          ]
        }
      ],
      "source": [
        "#3 write a python program with legal and illegal variable\n",
        "name=\"greeshma\"\n",
        "#1name=\"greeshma\"\n",
        "print(name)\n",
        "#print(1name)"
      ]
    },
    {
      "cell_type": "code",
      "execution_count": null,
      "metadata": {
        "colab": {
          "base_uri": "https://localhost:8080/"
        },
        "id": "51R8AlUWMohU",
        "outputId": "8995fcf9-6f2d-4b7b-e46e-b7d788b7efa2"
      },
      "outputs": [
        {
          "name": "stdout",
          "output_type": "stream",
          "text": [
            "greeshma p v\n",
            "enter the first name:greeshma \n",
            "enter the second name: p v\n",
            "greeshma p v\n",
            "sum= 27\n"
          ]
        }
      ],
      "source": [
        "#4 write a python program to combine two variables\n",
        "a=\"greeshma \"\n",
        "b=\"p v\"\n",
        "print(a+b)\n",
        "str1=input(\"enter the first name:\")\n",
        "str2=input(\"enter the second name: \")\n",
        "print(str1+str2)\n",
        "num1=12\n",
        "num2=15\n",
        "sum=num1+num2\n",
        "print(\"sum=\",sum)"
      ]
    },
    {
      "cell_type": "code",
      "execution_count": null,
      "metadata": {
        "colab": {
          "base_uri": "https://localhost:8080/"
        },
        "id": "xr5-Rq3pNs2x",
        "outputId": "46337047-c9cf-41de-c8c6-9684960e1ca6"
      },
      "outputs": [
        {
          "name": "stdout",
          "output_type": "stream",
          "text": [
            "<class 'int'>\n",
            "<class 'str'>\n",
            "<class 'list'>\n"
          ]
        }
      ],
      "source": [
        "# 5. write a program to get the data type of an object\n",
        "a=10\n",
        "b=\"greeshma\"\n",
        "list=[12,\"greeshma\",\"mananthavady\"]\n",
        "print(type(a))\n",
        "print(type(b))\n",
        "print(type(list))\n"
      ]
    },
    {
      "cell_type": "code",
      "execution_count": null,
      "metadata": {
        "id": "7_b8Qz6gPJuH"
      },
      "outputs": [],
      "source": [
        "#6.write a program to input multiline string"
      ]
    },
    {
      "cell_type": "code",
      "execution_count": null,
      "metadata": {
        "colab": {
          "base_uri": "https://localhost:8080/"
        },
        "id": "yQzigJhQPvyO",
        "outputId": "42ebe844-4da2-48be-f913-20fd6f864737"
      },
      "outputs": [
        {
          "name": "stdout",
          "output_type": "stream",
          "text": [
            "<class 'int'>\n",
            "<class 'str'>\n",
            "<class 'str'>\n",
            "<class 'int'>\n"
          ]
        }
      ],
      "source": [
        "#7.write a program to convert one data type into other\n",
        "a=10\n",
        "b=\"310\"\n",
        "print(type(a))\n",
        "print(type(b))\n",
        "c=str(a)\n",
        "d=int(b)\n",
        "print(type(c))\n",
        "print(type(d))\n"
      ]
    },
    {
      "cell_type": "code",
      "execution_count": null,
      "metadata": {
        "colab": {
          "base_uri": "https://localhost:8080/"
        },
        "id": "clASoewLRrjA",
        "outputId": "1688866b-e2b9-4215-f0e1-86ac46c3126f"
      },
      "outputs": [
        {
          "name": "stdout",
          "output_type": "stream",
          "text": [
            "enter the stringhello,welcome\n",
            "hello,welcome\n"
          ]
        }
      ],
      "source": [
        "#8.write a program to input a string\n",
        "string=input(\"enter the string:\")\n",
        "print(string)"
      ]
    },
    {
      "cell_type": "code",
      "execution_count": null,
      "metadata": {
        "colab": {
          "base_uri": "https://localhost:8080/"
        },
        "id": "Yi7IL10ER7wk",
        "outputId": "6be263eb-d3ac-4709-ba5e-10501b8296db"
      },
      "outputs": [
        {
          "name": "stdout",
          "output_type": "stream",
          "text": [
            "c\n",
            "o\n",
            "n\n",
            "t\n",
            "mnao\n",
            "mnc\n",
            "cmitn\n",
            "cmuiain\n",
            "niaiumc\n",
            "noitacinummoc\n"
          ]
        }
      ],
      "source": [
        "#9 string slicing\n",
        "str2=\"communication\"\n",
        "print(str2[0])\n",
        "print(str2[1])\n",
        "print(str2[-1])\n",
        "print(str2[-4])\n",
        "print(str2[2:12:3])\n",
        "print(str2[3:9:2])\n",
        "print(str2[::3])\n",
        "print(str2[::2])\n",
        "print(str2[::-2])#takes from the reverse order\n",
        "print(str2[::-1])"
      ]
    },
    {
      "cell_type": "code",
      "execution_count": null,
      "metadata": {
        "id": "uxM9SKxfUijK"
      },
      "outputs": [],
      "source": [
        "#10. write a program to generate random numbers\n"
      ]
    },
    {
      "cell_type": "code",
      "execution_count": null,
      "metadata": {
        "colab": {
          "base_uri": "https://localhost:8080/"
        },
        "id": "aTgBD8f-jykF",
        "outputId": "f503d34c-6e83-48da-9373-69ff13c040d6"
      },
      "outputs": [
        {
          "name": "stdout",
          "output_type": "stream",
          "text": [
            "True\n",
            "True\n",
            "False\n"
          ]
        }
      ],
      "source": [
        "#11. Write a python program to use the isalnum method\n",
        "str1=\"hello15\"\n",
        "str2=\"hello\"\n",
        "str3=\"hello 12\"\n",
        "print(str1.isalnum())\n",
        "print(str2.isalnum())\n",
        "print(str3.isalnum())"
      ]
    },
    {
      "cell_type": "code",
      "execution_count": null,
      "metadata": {
        "colab": {
          "base_uri": "https://localhost:8080/"
        },
        "id": "xwE-Ye0Vk6Yb",
        "outputId": "04e4ffe4-8062-4f5c-c0fb-bcfaaa53791f"
      },
      "outputs": [
        {
          "name": "stdout",
          "output_type": "stream",
          "text": [
            "greeshma\n",
            "Greeshma\n",
            " greeshma\n",
            "greeshma\n"
          ]
        }
      ],
      "source": [
        "#12. convert a string to a lower\n",
        "str1=\"GREESHMA\"\n",
        "print(str1.lower())\n",
        "#13.Write a python program to use capitalize method\n",
        "str2=\"greeshma\"\n",
        "print(str2.capitalize())\n",
        "#14.remove white spaces from the beginning of a string\n",
        "str3=\" greeshma\"\n",
        "print(str3)\n",
        "print(str3.strip())"
      ]
    },
    {
      "cell_type": "code",
      "execution_count": null,
      "metadata": {
        "colab": {
          "base_uri": "https://localhost:8080/"
        },
        "id": "HSrMiDWJmpgo",
        "outputId": "861ede49-b882-4c73-b379-2ef026d79efd"
      },
      "outputs": [
        {
          "name": "stdout",
          "output_type": "stream",
          "text": [
            "True\n",
            "False\n",
            "True\n",
            "False\n"
          ]
        }
      ],
      "source": [
        "#15.Write a python program to use ends with the method\n",
        "str=\"hello,welcome to python\"\n",
        "print(str.endswith(\"python\"))\n",
        "print(str.endswith(\"hello\"))\n",
        "print(str.endswith(\"n\"))\n",
        "print(str.endswith(\"o\"))"
      ]
    },
    {
      "cell_type": "code",
      "execution_count": null,
      "metadata": {
        "colab": {
          "base_uri": "https://localhost:8080/"
        },
        "id": "l2sVRjfHniFB",
        "outputId": "a91573f8-aeda-4a49-d50b-8db6d30418f3"
      },
      "outputs": [
        {
          "name": "stdout",
          "output_type": "stream",
          "text": [
            "True\n",
            "True\n",
            "False\n"
          ]
        }
      ],
      "source": [
        "#16. write a program to check whether a certain character or phrase is present in a string or not\n",
        "str=\"hello,welcome to python\"\n",
        "print(\"hello\" in str)\n",
        "print(\"welcome\" in str)\n",
        "print(\"hi\" in str)"
      ]
    },
    {
      "cell_type": "code",
      "execution_count": null,
      "metadata": {
        "colab": {
          "base_uri": "https://localhost:8080/"
        },
        "id": "a7sD_AlJsBvt",
        "outputId": "b1657537-2ffa-4ffc-bd01-1f3a59ba0ce3"
      },
      "outputs": [
        {
          "name": "stdout",
          "output_type": "stream",
          "text": [
            "26\n",
            "['hello,welcome', 'to', 'python']\n",
            "['hello', 'welcome', 'to python']\n"
          ]
        }
      ],
      "source": [
        "#17. write a program to find the length of a string\n",
        "str=\"hello,welcome to the world\"\n",
        "print(len(str))\n",
        "#18. write a program to split the strings into substrings\n",
        "str1=\"hello,welcome to python\"\n",
        "print(str1.split())\n",
        "str3=\"hello,welcome,to python\"\n",
        "print(str3.split(\",\"))"
      ]
    },
    {
      "cell_type": "code",
      "execution_count": null,
      "metadata": {
        "colab": {
          "base_uri": "https://localhost:8080/"
        },
        "id": "HAMI-7iUtZKs",
        "outputId": "c5eaa811-a9a2-4bf0-b0b0-bd0013e8b63f"
      },
      "outputs": [
        {
          "name": "stdout",
          "output_type": "stream",
          "text": [
            "welcome to the world of python\n"
          ]
        }
      ],
      "source": [
        "#19. Write a python program to use the case fold method\n",
        "str=\"Welcome To The World Of Python\"\n",
        "print(str.casefold())"
      ]
    },
    {
      "cell_type": "code",
      "execution_count": null,
      "metadata": {
        "colab": {
          "base_uri": "https://localhost:8080/"
        },
        "id": "g_Fo99gauKdJ",
        "outputId": "fc695eda-961a-42ae-e828-ac430765ed2c"
      },
      "outputs": [
        {
          "name": "stdout",
          "output_type": "stream",
          "text": [
            "Melcome to python\n"
          ]
        }
      ],
      "source": [
        "#20. write a program to replace a string with other Get the first character of the string txt. txt = \"Welcome to python\"\n",
        "txt=\"Welcome to python\"\n",
        "print(txt.replace(\"W\",\"M\"))"
      ]
    },
    {
      "cell_type": "code",
      "execution_count": null,
      "metadata": {
        "colab": {
          "base_uri": "https://localhost:8080/"
        },
        "id": "3Gy4i0Wov9pP",
        "outputId": "57694948-d67a-43f2-f45c-85e0351ccfd7"
      },
      "outputs": [
        {
          "name": "stdout",
          "output_type": "stream",
          "text": [
            "lco\n"
          ]
        }
      ],
      "source": [
        "#21.Get the characters from index 2 to index 4\n",
        "txt=\"Welcome to python\"\n",
        "print(txt[2:5])"
      ]
    },
    {
      "cell_type": "code",
      "execution_count": null,
      "metadata": {
        "colab": {
          "base_uri": "https://localhost:8080/"
        },
        "id": "6qbaHfFCwZUW",
        "outputId": "1cd24e3a-a808-4775-b03c-89974879b996"
      },
      "outputs": [
        {
          "name": "stdout",
          "output_type": "stream",
          "text": [
            " Welcome to python \n",
            "Welcome to python\n"
          ]
        }
      ],
      "source": [
        "#22.Return the string without any whitespace at the beginning and the end.\n",
        "txt = \" Welcome to python \"\n",
        "print(txt)\n",
        "print(txt.strip())"
      ]
    },
    {
      "cell_type": "code",
      "execution_count": null,
      "metadata": {
        "colab": {
          "base_uri": "https://localhost:8080/"
        },
        "id": "d1_cdn-0xgFf",
        "outputId": "65420a44-904a-4cae-9594-4552c711f407"
      },
      "outputs": [
        {
          "name": "stdout",
          "output_type": "stream",
          "text": [
            "welcome to python\n",
            "<class 'str'>\n",
            "<class 'int'>\n",
            "<class 'str'>\n"
          ]
        }
      ],
      "source": [
        "#23.Using the type() function assign the type of the variable to answer_1, then print it.\n",
        "txt=\"welcome to python\"\n",
        "answer_1=type(txt)\n",
        "print(txt)\n",
        "print(answer_1)\n",
        "#24.\n",
        "men_stepped_on_the_moon=12\n",
        "answer_1=type(men_stepped_on_the_moon)\n",
        "print(answer_1)\n",
        "#25.\n",
        "str=\"It's always darkest before dawn.\"\n",
        "answer_1=type(str)\n",
        "print(answer_1)\n",
        "\n"
      ]
    },
    {
      "cell_type": "code",
      "execution_count": null,
      "metadata": {
        "colab": {
          "base_uri": "https://localhost:8080/"
        },
        "id": "cTgdpoaRz555",
        "outputId": "65720c5b-315c-4f48-e836-0b90916cf4e3"
      },
      "outputs": [
        {
          "name": "stdout",
          "output_type": "stream",
          "text": [
            "welcome to python!\n"
          ]
        }
      ],
      "source": [
        "#26 replace\n",
        "txt=\"welcome to python.\"\n",
        "print(txt.replace(\".\",\"!\"))"
      ]
    },
    {
      "cell_type": "code",
      "execution_count": null,
      "metadata": {
        "colab": {
          "base_uri": "https://localhost:8080/"
        },
        "id": "SV_z7pWp6rM2",
        "outputId": "f1f14c47-38a6-40cf-fa44-a1d061544335"
      },
      "outputs": [
        {
          "name": "stdout",
          "output_type": "stream",
          "text": [
            "every strike brings me closer to the next home run.\n"
          ]
        }
      ],
      "source": [
        "#27.28\n",
        "str=\"EVERY Strike Brings Me Closer to the Next Home run.\"\n",
        "print(str.lower())"
      ]
    },
    {
      "cell_type": "code",
      "execution_count": null,
      "metadata": {
        "colab": {
          "base_uri": "https://localhost:8080/"
        },
        "id": "umDnoWeOx8BJ",
        "outputId": "9c5f3273-693f-4b47-a004-5faa0bbfc565"
      },
      "outputs": [
        {
          "name": "stdout",
          "output_type": "stream",
          "text": [
            "There are no traffic jams along with the extra\n"
          ]
        }
      ],
      "source": [
        "#29.Make the string so that everything is properly and the first letter is capital\n",
        "str=\" there are no traffic JamS Along with The extra \"\n",
        "print(str.strip().capitalize())"
      ]
    },
    {
      "cell_type": "code",
      "execution_count": null,
      "metadata": {
        "colab": {
          "base_uri": "https://localhost:8080/"
        },
        "id": "N82_9Mcpx_I-",
        "outputId": "520bdae2-27fb-4201-8014-04d9b5d800ff"
      },
      "outputs": [
        {
          "name": "stdout",
          "output_type": "stream",
          "text": [
            "<class 'str'>\n",
            "<class 'int'>\n"
          ]
        }
      ],
      "source": [
        "#30.Print the types of two given variables with the print function.\n",
        "v_1=\"1\"\n",
        "v_2=1\n",
        "print(type(v_1))\n",
        "print(type(v_2))"
      ]
    },
    {
      "cell_type": "code",
      "execution_count": null,
      "metadata": {
        "colab": {
          "base_uri": "https://localhost:8080/"
        },
        "id": "nqt11DWm95eA",
        "outputId": "5e4b515f-e527-439d-b35c-a2209a8eb481"
      },
      "outputs": [
        {
          "name": "stdout",
          "output_type": "stream",
          "text": [
            "9\n"
          ]
        }
      ],
      "source": [
        "#31. What is the length of the given string?\n",
        "str=\"1.975.000\"\n",
        "print(len(str))"
      ]
    },
    {
      "cell_type": "code",
      "execution_count": null,
      "metadata": {
        "colab": {
          "base_uri": "https://localhost:8080/"
        },
        "id": "SBZHGgXX_VuX",
        "outputId": "d9caba67-8591-403a-beaf-28b684615628"
      },
      "outputs": [
        {
          "name": "stdout",
          "output_type": "stream",
          "text": [
            "True\n"
          ]
        }
      ],
      "source": [
        "#32. write a program To check whether a character is a numeric character or not,\n",
        "character=\"23\"\n",
        "print(character.isdigit())"
      ]
    },
    {
      "cell_type": "code",
      "execution_count": null,
      "metadata": {
        "colab": {
          "base_uri": "https://localhost:8080/"
        },
        "id": "PydbpNBtBFhL",
        "outputId": "a4a79249-0fc7-4abb-cf5e-9a20489a2db4"
      },
      "outputs": [
        {
          "name": "stdout",
          "output_type": "stream",
          "text": [
            "False\n",
            "False\n",
            "True\n",
            "False\n",
            "True\n",
            "True\n"
          ]
        }
      ],
      "source": [
        "#33.Perform comparison operations\n",
        "X=5\n",
        "Y=6\n",
        "print(X==Y)\n",
        "print(X>Y)\n",
        "print(X<Y)\n",
        "print(X>=Y)\n",
        "print(X<=Y)\n",
        "print(X!=Y)"
      ]
    },
    {
      "cell_type": "code",
      "execution_count": null,
      "metadata": {
        "colab": {
          "base_uri": "https://localhost:8080/"
        },
        "id": "UYqO2Rt5BttN",
        "outputId": "94002a5c-3d64-4320-e9d9-9660cb0d302b"
      },
      "outputs": [
        {
          "name": "stdout",
          "output_type": "stream",
          "text": [
            "True\n"
          ]
        }
      ],
      "source": [
        "#34. write a python program using the not in operator\n",
        "str=\"hi,welcome to python\"\n",
        "print(\"hello\" not in str)\n"
      ]
    },
    {
      "cell_type": "code",
      "execution_count": null,
      "metadata": {
        "colab": {
          "base_uri": "https://localhost:8080/"
        },
        "id": "u9zJ-qL6EU0Y",
        "outputId": "3fac55ea-7318-49bd-fa34-152c45860586"
      },
      "outputs": [
        {
          "name": "stdout",
          "output_type": "stream",
          "text": [
            "True\n",
            "False\n"
          ]
        }
      ],
      "source": [
        "#35. write a python program using \"is\"operator\n",
        "x=\"welcome\"\n",
        "y=\"welcome\"\n",
        "print(x is y)\n",
        "#36. write a python program using is not operator\n",
        "print(x is not y)"
      ]
    },
    {
      "cell_type": "code",
      "execution_count": null,
      "metadata": {
        "colab": {
          "base_uri": "https://localhost:8080/"
        },
        "id": "mGtokgLfGPy6",
        "outputId": "54e69515-5205-4516-ac85-1cf6a6fd70cb"
      },
      "outputs": [
        {
          "name": "stdout",
          "output_type": "stream",
          "text": [
            "13\n",
            "7\n",
            "30\n",
            "3.3333333333333335\n",
            "3\n",
            "1000\n"
          ]
        }
      ],
      "source": [
        "#37 arithmetic operator\n",
        "X=10\n",
        "Y=3\n",
        "print(X+Y)\n",
        "print(X-Y)\n",
        "print(X*Y)\n",
        "print(X/Y)\n",
        "print(X//Y)\n",
        "print(X**Y)"
      ]
    },
    {
      "cell_type": "code",
      "execution_count": null,
      "metadata": {
        "colab": {
          "base_uri": "https://localhost:8080/"
        },
        "id": "tTAzu7J_G_kW",
        "outputId": "25f950e4-4627-4e37-fc15-3ea244c15969"
      },
      "outputs": [
        {
          "name": "stdout",
          "output_type": "stream",
          "text": [
            "1\n",
            "2\n",
            "3\n",
            "4\n",
            "5\n",
            "6\n",
            "7\n",
            "8\n",
            "9\n",
            "10\n",
            "11\n",
            "12\n",
            "13\n",
            "14\n",
            "15\n",
            "16\n",
            "17\n",
            "18\n",
            "19\n",
            "20\n",
            "21\n",
            "22\n",
            "23\n",
            "24\n",
            "25\n",
            "26\n",
            "27\n",
            "28\n",
            "29\n",
            "30\n",
            "31\n",
            "32\n",
            "33\n",
            "34\n",
            "35\n",
            "36\n",
            "37\n",
            "38\n",
            "39\n",
            "40\n",
            "41\n",
            "42\n",
            "43\n",
            "44\n",
            "45\n",
            "46\n",
            "47\n",
            "48\n",
            "49\n",
            "50\n",
            "51\n",
            "52\n",
            "53\n",
            "54\n",
            "55\n",
            "56\n",
            "57\n",
            "58\n",
            "59\n",
            "60\n",
            "61\n",
            "62\n",
            "63\n",
            "64\n",
            "65\n",
            "66\n",
            "67\n",
            "68\n",
            "69\n",
            "70\n",
            "71\n",
            "72\n",
            "73\n",
            "74\n",
            "75\n",
            "76\n",
            "77\n",
            "78\n",
            "79\n",
            "80\n",
            "81\n",
            "82\n",
            "83\n",
            "84\n",
            "85\n",
            "86\n",
            "87\n",
            "88\n",
            "89\n",
            "90\n",
            "91\n",
            "92\n",
            "93\n",
            "94\n",
            "95\n",
            "96\n",
            "97\n",
            "98\n",
            "99\n",
            "100\n",
            "101\n",
            "102\n",
            "103\n",
            "104\n",
            "105\n",
            "106\n",
            "107\n",
            "108\n",
            "109\n",
            "110\n",
            "111\n",
            "112\n",
            "113\n",
            "114\n",
            "115\n",
            "116\n",
            "117\n",
            "118\n",
            "119\n",
            "120\n",
            "121\n",
            "122\n",
            "123\n",
            "124\n",
            "125\n",
            "126\n",
            "127\n",
            "128\n",
            "129\n",
            "130\n",
            "131\n",
            "132\n",
            "133\n",
            "134\n",
            "135\n",
            "136\n",
            "137\n",
            "138\n",
            "139\n",
            "140\n",
            "141\n",
            "142\n",
            "143\n",
            "144\n",
            "145\n",
            "146\n",
            "147\n",
            "148\n",
            "149\n",
            "150\n",
            "151\n",
            "152\n",
            "153\n",
            "154\n",
            "155\n",
            "156\n",
            "157\n",
            "158\n",
            "159\n",
            "160\n",
            "161\n",
            "162\n",
            "163\n",
            "164\n",
            "165\n",
            "166\n",
            "167\n",
            "168\n",
            "169\n",
            "170\n",
            "171\n",
            "172\n",
            "173\n",
            "174\n",
            "175\n",
            "176\n",
            "177\n",
            "178\n",
            "179\n",
            "180\n",
            "181\n",
            "182\n",
            "183\n",
            "184\n",
            "185\n",
            "186\n",
            "187\n",
            "188\n",
            "189\n",
            "190\n",
            "191\n",
            "192\n",
            "193\n",
            "194\n",
            "195\n",
            "196\n",
            "197\n",
            "198\n",
            "199\n",
            "200\n",
            "201\n",
            "202\n",
            "203\n",
            "204\n",
            "205\n",
            "206\n",
            "207\n",
            "208\n",
            "209\n",
            "210\n",
            "211\n",
            "212\n",
            "213\n",
            "214\n",
            "215\n",
            "216\n",
            "217\n",
            "218\n",
            "219\n",
            "220\n",
            "221\n",
            "222\n",
            "223\n",
            "224\n",
            "225\n",
            "226\n",
            "227\n",
            "228\n",
            "229\n",
            "230\n",
            "231\n",
            "232\n",
            "233\n",
            "234\n",
            "235\n",
            "236\n",
            "237\n",
            "238\n",
            "239\n",
            "240\n",
            "241\n",
            "242\n",
            "243\n",
            "244\n",
            "245\n",
            "246\n",
            "247\n",
            "248\n",
            "249\n",
            "250\n",
            "251\n",
            "252\n",
            "253\n",
            "254\n",
            "255\n",
            "256\n",
            "257\n",
            "258\n",
            "259\n",
            "260\n",
            "261\n",
            "262\n",
            "263\n",
            "264\n",
            "265\n",
            "266\n",
            "267\n",
            "268\n",
            "269\n",
            "270\n",
            "271\n",
            "272\n",
            "273\n",
            "274\n",
            "275\n",
            "276\n",
            "277\n",
            "278\n",
            "279\n",
            "280\n",
            "281\n",
            "282\n",
            "283\n",
            "284\n",
            "285\n",
            "286\n",
            "287\n",
            "288\n",
            "289\n",
            "290\n",
            "291\n",
            "292\n",
            "293\n",
            "294\n",
            "295\n",
            "296\n",
            "297\n",
            "298\n",
            "299\n",
            "300\n",
            "301\n",
            "302\n",
            "303\n",
            "304\n",
            "305\n",
            "306\n",
            "307\n",
            "308\n",
            "309\n",
            "310\n",
            "311\n",
            "312\n",
            "313\n",
            "314\n",
            "315\n",
            "316\n",
            "317\n",
            "318\n",
            "319\n",
            "320\n",
            "321\n",
            "322\n",
            "323\n",
            "324\n",
            "325\n",
            "326\n",
            "327\n",
            "328\n",
            "329\n",
            "330\n",
            "331\n",
            "332\n",
            "333\n",
            "334\n",
            "335\n",
            "336\n",
            "337\n",
            "338\n",
            "339\n",
            "340\n",
            "341\n",
            "342\n",
            "343\n",
            "344\n",
            "345\n",
            "346\n",
            "347\n",
            "348\n",
            "349\n",
            "350\n",
            "351\n",
            "352\n",
            "353\n",
            "354\n",
            "355\n",
            "356\n",
            "357\n",
            "358\n",
            "359\n",
            "360\n",
            "361\n",
            "362\n",
            "363\n",
            "364\n",
            "365\n",
            "366\n",
            "367\n",
            "368\n",
            "369\n",
            "370\n",
            "371\n",
            "372\n",
            "373\n",
            "374\n",
            "375\n",
            "376\n",
            "377\n",
            "378\n",
            "379\n",
            "380\n",
            "381\n",
            "382\n",
            "383\n",
            "384\n",
            "385\n",
            "386\n",
            "387\n",
            "388\n",
            "389\n",
            "390\n",
            "391\n",
            "392\n",
            "393\n",
            "394\n",
            "395\n",
            "396\n",
            "397\n",
            "398\n",
            "399\n",
            "400\n",
            "401\n",
            "402\n",
            "403\n",
            "404\n",
            "405\n",
            "406\n",
            "407\n",
            "408\n",
            "409\n",
            "410\n",
            "411\n",
            "412\n",
            "413\n",
            "414\n",
            "415\n",
            "416\n",
            "417\n",
            "418\n",
            "419\n",
            "420\n",
            "421\n",
            "422\n",
            "423\n",
            "424\n",
            "425\n",
            "426\n",
            "427\n",
            "428\n",
            "429\n",
            "430\n",
            "431\n",
            "432\n",
            "433\n",
            "434\n",
            "435\n",
            "436\n",
            "437\n",
            "438\n",
            "439\n",
            "440\n",
            "441\n",
            "442\n",
            "443\n",
            "444\n",
            "445\n",
            "446\n",
            "447\n",
            "448\n",
            "449\n",
            "450\n",
            "451\n",
            "452\n",
            "453\n",
            "454\n",
            "455\n",
            "456\n",
            "457\n",
            "458\n",
            "459\n",
            "460\n",
            "461\n",
            "462\n",
            "463\n",
            "464\n",
            "465\n",
            "466\n",
            "467\n",
            "468\n",
            "469\n",
            "470\n",
            "471\n",
            "472\n",
            "473\n",
            "474\n",
            "475\n",
            "476\n",
            "477\n",
            "478\n",
            "479\n",
            "480\n",
            "481\n",
            "482\n",
            "483\n",
            "484\n",
            "485\n",
            "486\n",
            "487\n",
            "488\n",
            "489\n",
            "490\n",
            "491\n",
            "492\n",
            "493\n",
            "494\n",
            "495\n",
            "496\n",
            "497\n",
            "498\n",
            "499\n",
            "500\n"
          ]
        }
      ],
      "source": [
        "#38. Print 1-500 using while loops\n",
        "i=1\n",
        "while i<=500:\n",
        "  print(i)\n",
        "  i+=1"
      ]
    },
    {
      "cell_type": "code",
      "execution_count": null,
      "metadata": {
        "colab": {
          "base_uri": "https://localhost:8080/"
        },
        "id": "Nd8C-NS-HNGp",
        "outputId": "7958370d-4009-416f-e040-14d35e3c21a8"
      },
      "outputs": [
        {
          "name": "stdout",
          "output_type": "stream",
          "text": [
            "enter a number:-3\n",
            "-3 is less than zero\n"
          ]
        }
      ],
      "source": [
        "#39. Write a program using the if,elif, and else statement\n",
        "number=int(input(\"enter a number:\"))\n",
        "if number>0:\n",
        "  print(number,\"is greater than zero\")\n",
        "elif number<0:\n",
        "  print(number,\"is less than zero\")\n",
        "else:\n",
        "  print(\"number is zero\")"
      ]
    },
    {
      "cell_type": "code",
      "execution_count": null,
      "metadata": {
        "colab": {
          "base_uri": "https://localhost:8080/"
        },
        "id": "84Y5hZViLwqN",
        "outputId": "cfcf0cd1-dedb-486e-fe9b-8c2a1e15b3ec"
      },
      "outputs": [
        {
          "name": "stdout",
          "output_type": "stream",
          "text": [
            "1\n",
            "2\n",
            "3\n",
            "4\n",
            "6\n",
            "7\n",
            "8\n",
            "9\n",
            "10\n"
          ]
        }
      ],
      "source": [
        "#40. Use continue statement in while loops\n",
        "i=0\n",
        "while i<10:\n",
        "  i+=1\n",
        "  if i==5:\n",
        "    continue\n",
        "  print(i)"
      ]
    },
    {
      "cell_type": "code",
      "execution_count": null,
      "metadata": {
        "colab": {
          "base_uri": "https://localhost:8080/"
        },
        "id": "KmKoYbsXNYhP",
        "outputId": "3b764085-7170-4a03-91f0-c649979540bd"
      },
      "outputs": [
        {
          "name": "stdout",
          "output_type": "stream",
          "text": [
            "0\n",
            "1\n",
            "2\n",
            "3\n",
            "4\n"
          ]
        }
      ],
      "source": [
        "#41. Use break statement in while loops\n",
        "i=0\n",
        "while i<=10:\n",
        "  if i==5:\n",
        "    break\n",
        "  print(i)\n",
        "  i+=1"
      ]
    },
    {
      "cell_type": "code",
      "execution_count": null,
      "metadata": {
        "colab": {
          "base_uri": "https://localhost:8080/"
        },
        "id": "c6DSygDsOON-",
        "outputId": "1c2dc6e9-4843-48b7-ad4d-24f92b287aff"
      },
      "outputs": [
        {
          "name": "stdout",
          "output_type": "stream",
          "text": [
            "apple\n",
            "tomato\n",
            "10.5\n",
            "20\n",
            "['grapes', 'kiwi', 'tomato', 'mango', 'orange', 'banana', True]\n",
            "['cherry', 'grapes', 'kiwi', 'tomato', 'mango', 'orange', 'banana', True, False]\n",
            "['apple', True]\n",
            "['kiwi', 'tomato', 'mango', 'orange', 'banana', True, False, 10, 20, 10.5]\n",
            "['cherry', 'kiwi', 'mango', 'banana']\n",
            "['banana', 'kiwi', 'orange', False]\n",
            "['apple', 'grapes', 'mango', True, 20]\n",
            "[10.5, 10, True, 'orange', 'tomato', 'grapes', 'banana']\n",
            "[10.5, 20, 10, False, True, 'banana', 'orange', 'mango', 'tomato', 'kiwi', 'grapes', 'cherry', 'banana', 'apple']\n"
          ]
        }
      ],
      "source": [
        "#42 create a list with\n",
        "x=['apple','banana','cherry','grapes','kiwi','tomato','mango','orange','banana',True,False,10,20,10.5]\n",
        "print(x[0])\n",
        "print(x[5])\n",
        "print(x[-1])\n",
        "print(x[-2])\n",
        "print(x[3:10])\n",
        "print(x[2:11])\n",
        "print(x[::9])\n",
        "print(x[4::])\n",
        "print(x[2:10:2])\n",
        "print(x[1:11:3])\n",
        "print(x[::3])\n",
        "print(x[::-2])\n",
        "print(x[::-1])"
      ]
    },
    {
      "cell_type": "code",
      "execution_count": null,
      "metadata": {
        "colab": {
          "base_uri": "https://localhost:8080/"
        },
        "id": "IVs2UpvWPaxR",
        "outputId": "f0aa65c8-366c-4c82-ad55-86c61cac3044"
      },
      "outputs": [
        {
          "name": "stdout",
          "output_type": "stream",
          "text": [
            "[1, 'greeshma', 'manathavady']\n",
            "1\n",
            "3\n",
            "[2, 'greeshma', 'manathavady']\n",
            "['greeshma']\n",
            "[2, 'greeshma', 'manathavady', 'wayanad']\n",
            "['wayanad', 'manathavady', 'greeshma', 2]\n"
          ]
        }
      ],
      "source": [
        "#43. write a python program to create a new list\n",
        "my_list=[1,\"greeshma\",\"manathavady\"]\n",
        "print(my_list)\n",
        "#44. .write a program to retrieve the first item from a list\n",
        "print(my_list[0])\n",
        "#45. write a program to determine the length of a list\n",
        "print(len(my_list))\n",
        "#46. .write a python program to change the first item in a list\n",
        "my_list[0]=2\n",
        "print(my_list)\n",
        "#47. write a python program using negative indexing\n",
        "print(my_list[-2:-1])\n",
        "#48. write a program to add a new item to the end of a list\n",
        "my_list.append(\"wayanad\")\n",
        "print(my_list)\n",
        "#49. create a list and display the list in reverse order\n",
        "print(my_list[::-1])"
      ]
    },
    {
      "cell_type": "code",
      "execution_count": null,
      "metadata": {
        "colab": {
          "base_uri": "https://localhost:8080/"
        },
        "id": "B86L_VqbQ7Pz",
        "outputId": "ed587f94-f131-4af0-b0a1-768287d1ccd9"
      },
      "outputs": [
        {
          "name": "stdout",
          "output_type": "stream",
          "text": [
            "40\n"
          ]
        }
      ],
      "source": [
        "#50. write a program to find the maximum value in a list\n",
        "my_list=[10,20,30,40,15]\n",
        "#s=my_list.sort()\n",
        "#print(s)\n",
        "print(max(my_list))"
      ]
    },
    {
      "cell_type": "code",
      "execution_count": null,
      "metadata": {
        "colab": {
          "base_uri": "https://localhost:8080/"
        },
        "id": "TaeVR9e5PksM",
        "outputId": "10722da8-b68c-4aaa-8c28-7ed33f0a4609"
      },
      "outputs": [
        {
          "name": "stdout",
          "output_type": "stream",
          "text": [
            "3\n"
          ]
        }
      ],
      "source": [
        "#51. write a program to display the index of an element in a list\n",
        "my_list=[10,20,30,40]\n",
        "print(my_list.index(40))\n"
      ]
    },
    {
      "cell_type": "code",
      "execution_count": null,
      "metadata": {
        "colab": {
          "base_uri": "https://localhost:8080/"
        },
        "id": "tTa_vQOKSgaE",
        "outputId": "99676964-f154-4862-ad22-77b2371e05c1"
      },
      "outputs": [
        {
          "name": "stdout",
          "output_type": "stream",
          "text": [
            "Enter the limit:3\n",
            "Enter the numbers:1\n",
            "Enter the numbers:2\n",
            "Enter the numbers:1\n",
            "Enter the number to search:4\n",
            "Calculate the count\n",
            "4 comes from 0 times\n"
          ]
        }
      ],
      "source": [
        "#52. write a program to count the occurrence of an Element in a list\n",
        "limit=int(input(\"Enter the limit:\"))\n",
        "my_list=[]\n",
        "for i in range(limit):\n",
        "  numbers=int(input(\"Enter the numbers:\"))\n",
        "  my_list.append(numbers)\n",
        "num=int(input(\"Enter the number to search:\"))\n",
        "print(\"Calculate the count\")\n",
        "count=0\n",
        "for numbers in my_list:\n",
        "  if(numbers==num):\n",
        "    count+=1\n",
        "print(num,\"comes from\",count,\"times\")\n"
      ]
    },
    {
      "cell_type": "code",
      "execution_count": null,
      "metadata": {
        "colab": {
          "base_uri": "https://localhost:8080/"
        },
        "id": "T-Nb4inNSiPa",
        "outputId": "f560e52f-d6cd-4899-a1b4-af293e392cd1"
      },
      "outputs": [
        {
          "name": "stdout",
          "output_type": "stream",
          "text": [
            "1\n",
            "2\n",
            "3\n",
            "4\n",
            "5\n",
            "6\n",
            "7\n",
            "8\n",
            "9\n"
          ]
        }
      ],
      "source": [
        "#53.create a nested list and display each item from the list\n",
        "my_list=[[1,2,3],[4,5,6],[7,8,9]]\n",
        "for sublist in my_list:\n",
        "  for item in sublist:\n",
        "    print(item)"
      ]
    },
    {
      "cell_type": "code",
      "execution_count": null,
      "metadata": {
        "colab": {
          "base_uri": "https://localhost:8080/"
        },
        "id": "MRsYUaG8yBCQ",
        "outputId": "6e886e0f-e916-45a2-b6f7-7c7f9bc31ccd"
      },
      "outputs": [
        {
          "name": "stdout",
          "output_type": "stream",
          "text": [
            "['apple', 'banana', 'mango']\n"
          ]
        }
      ],
      "source": [
        "#54.Based on a list of fruits, create a new list, containing only the fruits with the letter \"a\" in the name.\n",
        "\n",
        "fruits = [\"apple\", \"banana\", \"cherry\", \"kiwi\", \"mango\"]\n",
        "my_list=[]\n",
        "for i in fruits:\n",
        "  if \"a\" in i:\n",
        "    my_list.append(i)\n",
        "print(my_list)\n"
      ]
    },
    {
      "cell_type": "code",
      "execution_count": null,
      "metadata": {
        "colab": {
          "base_uri": "https://localhost:8080/"
        },
        "id": "i2m2xlD69iFT",
        "outputId": "c1d11df0-0de6-4512-bda6-1595ff500c00"
      },
      "outputs": [
        {
          "name": "stdout",
          "output_type": "stream",
          "text": [
            "['apple', 'banana', 'cherry', 'mango']\n"
          ]
        }
      ],
      "source": [
        "#55. fruits = [\"apple\", \"banana\", \"cherry\", \"kiwi\", \"mango\"] Based on a list of fruits, create a new list, Only accept items that are not \"kiwi\"\n",
        "fruits = [\"apple\", \"banana\", \"cherry\", \"kiwi\", \"mango\"]\n",
        "my_list=[]\n",
        "for i in fruits:\n",
        "  if i!=\"kiwi\":\n",
        "     my_list.append(i)\n",
        "print(my_list)\n"
      ]
    },
    {
      "cell_type": "code",
      "execution_count": null,
      "metadata": {
        "colab": {
          "base_uri": "https://localhost:8080/"
        },
        "id": "MRunEcxeQO5e",
        "outputId": "5482a42f-676d-47f0-c4ab-de5946e0d5e9"
      },
      "outputs": [
        {
          "name": "stdout",
          "output_type": "stream",
          "text": [
            "['APPLE', 'BANANA', 'CHERRY', 'KIWI', 'MANGO']\n"
          ]
        }
      ],
      "source": [
        "#56 fruits = [\"apple\", \"banana\", \"cherry\", \"kiwi\", \"mango\"] Based on a list of fruits, create a new list, Set the values in the new list to upper case\n",
        "fruits = [\"apple\", \"banana\", \"cherry\", \"kiwi\", \"mango\"]\n",
        "my_list=[]\n",
        "for i in fruits:\n",
        "  my_list.append(i.upper())\n",
        "print(my_list)\n",
        "\n"
      ]
    },
    {
      "cell_type": "code",
      "execution_count": null,
      "metadata": {
        "colab": {
          "base_uri": "https://localhost:8080/"
        },
        "id": "BRNiSgEHdt6t",
        "outputId": "3b214cdc-e30c-4142-fb12-093b0b88389b"
      },
      "outputs": [
        {
          "name": "stdout",
          "output_type": "stream",
          "text": [
            "1\n",
            "2\n",
            "3\n",
            "4\n"
          ]
        }
      ],
      "source": [
        "#57. create a list and iterate over the list\n",
        "my_list=[1,2,3,4]\n",
        "for i in my_list:\n",
        "  print(i)"
      ]
    },
    {
      "cell_type": "code",
      "execution_count": null,
      "metadata": {
        "colab": {
          "base_uri": "https://localhost:8080/"
        },
        "id": "WVVCQIsueWNN",
        "outputId": "0ed8fce3-5257-4265-9d04-7f3889882fc6"
      },
      "outputs": [
        {
          "name": "stdout",
          "output_type": "stream",
          "text": [
            "2\n",
            "3\n",
            "4\n",
            "5\n"
          ]
        }
      ],
      "source": [
        "#58. write a program using for loop with a break statement\n",
        "for i in range(2,10):\n",
        "  if i==6:\n",
        "    break\n",
        "  print(i)"
      ]
    },
    {
      "cell_type": "code",
      "execution_count": null,
      "metadata": {
        "colab": {
          "base_uri": "https://localhost:8080/"
        },
        "id": "0k2xQDSretDH",
        "outputId": "e43377f2-c253-4f2b-d913-87153daa3264"
      },
      "outputs": [
        {
          "name": "stdout",
          "output_type": "stream",
          "text": [
            "2\n",
            "3\n",
            "4\n",
            "5\n",
            "7\n",
            "8\n",
            "9\n"
          ]
        }
      ],
      "source": [
        "#59. write a program using for loop with a continue statement\n",
        "for i in range(2,10):\n",
        "  if i==6:\n",
        "    continue\n",
        "  print(i)"
      ]
    },
    {
      "cell_type": "code",
      "execution_count": null,
      "metadata": {
        "colab": {
          "base_uri": "https://localhost:8080/"
        },
        "id": "iEQBkS_HfpFu",
        "outputId": "820ed6e6-015d-4612-c526-2e5178c83fc0"
      },
      "outputs": [
        {
          "name": "stdout",
          "output_type": "stream",
          "text": [
            "2\n",
            "5\n",
            "8\n",
            "11\n",
            "14\n",
            "17\n"
          ]
        }
      ],
      "source": [
        "#60. write a program using range function with starting parameter and increment parameter\n",
        "for i in range(2,20,3):\n",
        "  print(i)"
      ]
    },
    {
      "cell_type": "code",
      "execution_count": null,
      "metadata": {
        "colab": {
          "base_uri": "https://localhost:8080/"
        },
        "id": "O6OWDqhUf3Gf",
        "outputId": "224d354b-8201-49c4-82ed-ac0c018f4f40"
      },
      "outputs": [
        {
          "name": "stdout",
          "output_type": "stream",
          "text": [
            "(2, 6, 8, 10)\n",
            "4\n",
            "<class 'tuple'>\n"
          ]
        }
      ],
      "source": [
        "#61. write a program to create a tuple\n",
        "tuple=(2,6,8,10)\n",
        "print(tuple)\n",
        "#62. write a program to get the length of a tuple\n",
        "print(len(tuple))\n",
        "#63. write a program to return the data type of a tuple\n",
        "print(type(tuple))"
      ]
    },
    {
      "cell_type": "code",
      "execution_count": null,
      "metadata": {
        "colab": {
          "base_uri": "https://localhost:8080/"
        },
        "id": "ALXF8g6pBbSH",
        "outputId": "36591826-4e4d-457e-fa7b-71c09b1f32a7"
      },
      "outputs": [
        {
          "name": "stdout",
          "output_type": "stream",
          "text": [
            "('kiwi', 'orange', 'grapes', 'apple')\n",
            "['kiwi', 'orange', 'grapes', 'apple']\n",
            "['kiwi', 'melon', 'orange', 'apple', 'bananna']\n",
            "('kiwi', 'melon', 'orange', 'apple', 'bananna')\n"
          ]
        }
      ],
      "source": [
        "#64. create a tuple with items kiwi, orange, grapes, apple,\n",
        "tup=(\"kiwi\",\"orange\",\"grapes\",\"apple\")\n",
        "#65. then add a new item (melon) to the first index\n",
        "new_tup=list(tup)\n",
        "print(tup)\n",
        "print(new_tup)\n",
        "new_tup.insert(1,\"melon\")\n",
        "#66. write a program to append an item to the tuple\n",
        "new_tup.append(\"bananna\")\n",
        "#67. write a program to remove an item from a tuple\n",
        "new_tup.remove(\"grapes\")\n",
        "print(new_tup)\n",
        "tup=tuple(new_tup)\n",
        "print(tup)"
      ]
    },
    {
      "cell_type": "code",
      "execution_count": null,
      "metadata": {
        "colab": {
          "base_uri": "https://localhost:8080/"
        },
        "id": "WwZEXx14BgW6",
        "outputId": "a573a108-b932-4c16-e3a9-fa026e8c0bec"
      },
      "outputs": [
        {
          "name": "stdout",
          "output_type": "stream",
          "text": [
            "(1, 2, 3, 4)\n",
            "(5, 6, 7, 8)\n",
            "(1, 2, 3, 4, 5, 6, 7, 8)\n"
          ]
        }
      ],
      "source": [
        "#68. write a program to concatenate two tuples\n",
        "my_tup1=(1,2,3,4)\n",
        "my_tup2=(5,6,7,8)\n",
        "print(str(my_tup1))\n",
        "print(str(my_tup2))\n",
        "new=my_tup1+my_tup2\n",
        "print(new)"
      ]
    },
    {
      "cell_type": "code",
      "execution_count": null,
      "metadata": {
        "colab": {
          "base_uri": "https://localhost:8080/"
        },
        "id": "3sl8ewRCBkLC",
        "outputId": "dabe887a-5575-4cd1-df00-6b83c198441b"
      },
      "outputs": [
        {
          "name": "stdout",
          "output_type": "stream",
          "text": [
            "20\n",
            "30\n",
            "40\n"
          ]
        }
      ],
      "source": [
        "#69. write a program to extract the values from a tuple into variables\n",
        "my_tuple=(20,30,40)\n",
        "var1,var2,var3=my_tuple\n",
        "print(var1)\n",
        "print(var2)\n",
        "print(var3)"
      ]
    },
    {
      "cell_type": "code",
      "execution_count": null,
      "metadata": {
        "colab": {
          "base_uri": "https://localhost:8080/"
        },
        "id": "RoIpnvsNBxtA",
        "outputId": "6cd18af9-5697-4071-a2aa-ccf4ffc144e3"
      },
      "outputs": [
        {
          "name": "stdout",
          "output_type": "stream",
          "text": [
            "20\n",
            "30\n",
            "[40, 50, 60, 70]\n"
          ]
        }
      ],
      "source": [
        "#70. extract values from tuple using Asterix\n",
        "my_tup=(20,30,40,50,60,70)\n",
        "var1,var2,*rest_values=my_tup\n",
        "print(var1)\n",
        "print(var2)\n",
        "print(rest_values)"
      ]
    },
    {
      "cell_type": "code",
      "execution_count": null,
      "metadata": {
        "colab": {
          "base_uri": "https://localhost:8080/"
        },
        "id": "B56X95aqBrnP",
        "outputId": "8b3f255b-8025-40b6-9371-9976f4339644"
      },
      "outputs": [
        {
          "name": "stdout",
          "output_type": "stream",
          "text": [
            "enter the number to search2\n",
            "The number 2 occurs 3 times\n"
          ]
        }
      ],
      "source": [
        "#71. count the number of occurrences of an item in a tuple\n",
        "my_tup=(1,2,3,1,6,2,5,2)\n",
        "num=int(input(\"enter the number to search\"))\n",
        "count=my_tup.count(num)\n",
        "print(\"The number\",num,\"occurs\",count,\"times\")"
      ]
    },
    {
      "cell_type": "code",
      "execution_count": null,
      "metadata": {
        "id": "_vGX48sLBnvO"
      },
      "outputs": [],
      "source": [
        "#72remove items from a tuple by using merge with +Character"
      ]
    },
    {
      "cell_type": "code",
      "execution_count": null,
      "metadata": {
        "colab": {
          "base_uri": "https://localhost:8080/"
        },
        "id": "D_5iBm42kdDw",
        "outputId": "6318a5ba-1978-4805-8282-6c0c176e5fab"
      },
      "outputs": [
        {
          "name": "stdout",
          "output_type": "stream",
          "text": [
            "(2, 4, 6)\n",
            "(9, 7, 5)\n",
            "(1, 4, 7)\n",
            "9\n",
            "1\n",
            "45\n",
            "2\n"
          ]
        }
      ],
      "source": [
        "#73. slice a tuple using start-stop, step parameter\n",
        "my_tuple=(1,2,3,4,5,6,7,8,9)\n",
        "print(my_tuple[1:7:2])\n",
        "#74. slice a tuple with step parameter is negative\n",
        "print(my_tuple[-1:-6:-2])\n",
        "#75. returns a tuple with a jump every 3 times\n",
        "print(my_tuple[::3])\n",
        "#76. find the maximum value in a tuple\n",
        "print(max(my_tuple))\n",
        "#77. Find min value in a tuple\n",
        "print(min(my_tuple))\n",
        "#78. find the sum of items in a tuple\n",
        "sum_of_items=sum(my_tuple)\n",
        "print(sum_of_items)\n",
        "#79. write a program to find the index of an item\n",
        "print(my_tuple.index(3))"
      ]
    },
    {
      "cell_type": "code",
      "execution_count": null,
      "metadata": {
        "colab": {
          "base_uri": "https://localhost:8080/"
        },
        "id": "RghK1-RpDC8H",
        "outputId": "adcd1844-842e-4c67-98a9-877488c7b5cc"
      },
      "outputs": [
        {
          "name": "stdout",
          "output_type": "stream",
          "text": [
            "6\n",
            "{1, 2, 4, 5, 6}\n"
          ]
        }
      ],
      "source": [
        "#81. write a program to create a set\n",
        "my_set={1,2,3,4,5,6}\n",
        "#80. write a program to find the length of a set\n",
        "print(len(my_set))\n",
        "#82. write a program to remove an item from the set using the remove method\n",
        "my_set.remove(3)\n",
        "print(my_set)\n"
      ]
    },
    {
      "cell_type": "code",
      "execution_count": null,
      "metadata": {
        "colab": {
          "base_uri": "https://localhost:8080/"
        },
        "id": "dXem-01_JmVd",
        "outputId": "de8d473c-0fce-41fb-91d6-ec9d172c7c4a"
      },
      "outputs": [
        {
          "name": "stdout",
          "output_type": "stream",
          "text": [
            "{1, 2, 3, 4, 5, 6, 7, 8, 9}\n"
          ]
        }
      ],
      "source": [
        "#83. write a program to add items from one set to another\n",
        "set1={1,2,3,4,5}\n",
        "set2={6,7,8,9}\n",
        "set1.update(set2)\n",
        "print(set1)"
      ]
    },
    {
      "cell_type": "code",
      "execution_count": null,
      "metadata": {
        "colab": {
          "base_uri": "https://localhost:8080/"
        },
        "id": "yJxK5mbIKRDQ",
        "outputId": "8cf9fd13-bb8b-4ee2-cc09-8374f740a1c5"
      },
      "outputs": [
        {
          "name": "stdout",
          "output_type": "stream",
          "text": [
            "{1, 2, 3, 4, 5, 'c', 'a', 'b'}\n",
            "{1, 2, 3, 4, 5, 'c', 'b'}\n",
            "{1, 2, 3, 4, 5, 'c', 'b', 'd'}\n"
          ]
        }
      ],
      "source": [
        "#84. write a program to join two sets\n",
        "set1={1,2,3,4,5}\n",
        "set2={'a','b','c'}\n",
        "set3=set1.union(set2)\n",
        "print(set3)\n",
        "#85. write a program to remove an item from the set using the discard method\n",
        "set3.discard('a')\n",
        "print(set3)\n",
        "#86. write a program to add an item to a set\n",
        "set3.add('d')\n",
        "print(set3)"
      ]
    },
    {
      "cell_type": "code",
      "execution_count": null,
      "metadata": {
        "colab": {
          "base_uri": "https://localhost:8080/"
        },
        "id": "hA3Xd_6hLYIZ",
        "outputId": "f64247c4-1669-4ad4-92a2-f3a3b8a73cd1"
      },
      "outputs": [
        {
          "name": "stdout",
          "output_type": "stream",
          "text": [
            "{1, 2, 3, 4, 6, 7, 8}\n",
            "{5}\n"
          ]
        }
      ],
      "source": [
        "#87. write a program using the symmetric difference method\n",
        "x={1,2,3,4,5}\n",
        "y={5,6,7,8}\n",
        "z=x.symmetric_difference(y)\n",
        "print(z)\n",
        "#88. write a program using the intersection update method\n",
        "x.intersection_update(y)\n",
        "print(x)"
      ]
    },
    {
      "cell_type": "code",
      "execution_count": null,
      "metadata": {
        "colab": {
          "base_uri": "https://localhost:8080/"
        },
        "id": "6fmeyV-PMUMw",
        "outputId": "6d1270f1-9ce2-4311-f59a-f45009a7da8a"
      },
      "outputs": [
        {
          "name": "stdout",
          "output_type": "stream",
          "text": [
            "{1: 5, 2: 10, 3: 15}\n"
          ]
        }
      ],
      "source": [
        "#89. Write a Python script to add a key to a dictionary\n",
        "dict1={1:5,2:10}\n",
        "dict1.update({3:15})\n",
        "print(dict1)"
      ]
    },
    {
      "cell_type": "code",
      "execution_count": null,
      "metadata": {
        "colab": {
          "base_uri": "https://localhost:8080/"
        },
        "id": "bPVR4UeHNeOl",
        "outputId": "902b57e5-7d8a-4ba2-82f2-89f69b957e21"
      },
      "outputs": [
        {
          "name": "stdout",
          "output_type": "stream",
          "text": [
            "Enter the key to check: 1\n",
            "The key 1 does not exist in the dictionary.\n"
          ]
        }
      ],
      "source": [
        "#90. Write a Python script to check whether a given key already exists in a dictionary\n",
        "my_dict = {'a': 1, 'b': 2, 'c': 3}\n",
        "key= input(\"Enter the key to check: \")\n",
        "if key in my_dict:\n",
        "    print(\"The key\",key,\"exists in the dictionary.\")\n",
        "else:\n",
        "    print(\"The key\",key,\"does not exist in the dictionary.\")\n"
      ]
    },
    {
      "cell_type": "code",
      "execution_count": null,
      "metadata": {
        "colab": {
          "base_uri": "https://localhost:8080/"
        },
        "id": "-Rrax5snOMSV",
        "outputId": "1b9a5019-cdbf-460c-c36b-a02375a231c2"
      },
      "outputs": [
        {
          "name": "stdout",
          "output_type": "stream",
          "text": [
            "dict_keys(['name', 'age', 'city'])\n",
            "dict_values(['greeshma', 23, 'mndy'])\n",
            "dict_items([('name', 'greeshma'), ('age', 23), ('city', 'mndy')])\n"
          ]
        }
      ],
      "source": [
        "#91.Write a Python program to get the key, value, and item in a dictionary.\n",
        "mydict={'name': 'greeshma', 'age': 23, 'city': 'mndy'}\n",
        "k=mydict.keys()\n",
        "v=mydict.values()\n",
        "i=mydict.items()\n",
        "print(k)\n",
        "print(v)\n",
        "print(i)"
      ]
    },
    {
      "cell_type": "code",
      "execution_count": null,
      "metadata": {
        "colab": {
          "base_uri": "https://localhost:8080/"
        },
        "id": "YbIMvJVmF8Sg",
        "outputId": "73790392-1ee3-4681-c9c0-0590f95c19a3"
      },
      "outputs": [
        {
          "name": "stdout",
          "output_type": "stream",
          "text": [
            "{'brand': 'Ford', 'model': 'Mustang', 'year': 1964}\n",
            "value of model key is: Mustang\n"
          ]
        }
      ],
      "source": [
        "#92. print the value of the \"model\" key of the car dictionary using the get method car = {\"brand\": \"Ford\",\"model\": \"Mustang\",\"year\": 1964}\n",
        "car = {\"brand\": \"Ford\",\"model\": \"Mustang\",\"year\": 1964}\n",
        "print(car)\n",
        "val=car.get(\"model\")\n",
        "print(\"value of model key is:\",val)\n"
      ]
    },
    {
      "cell_type": "code",
      "execution_count": null,
      "metadata": {
        "colab": {
          "base_uri": "https://localhost:8080/"
        },
        "id": "UKDTPV2KGA2f",
        "outputId": "d445f07d-304a-484f-e1c9-294152522acf"
      },
      "outputs": [
        {
          "name": "stdout",
          "output_type": "stream",
          "text": [
            "{'brand': 'Ford', 'model': 'Mustang', 'year': 2020}\n"
          ]
        }
      ],
      "source": [
        "#93. Change the \"year\" value from 1964 to 2020. in the above dictionary\n",
        "car[\"year\"]=2020\n",
        "print(car)"
      ]
    },
    {
      "cell_type": "code",
      "execution_count": null,
      "metadata": {
        "colab": {
          "base_uri": "https://localhost:8080/"
        },
        "id": "fkZAjBTFGFV6",
        "outputId": "8014eb32-1c7d-4adb-ebab-ac389dcff457"
      },
      "outputs": [
        {
          "name": "stdout",
          "output_type": "stream",
          "text": [
            "{'brand': 'Ford', 'year': 1964}\n",
            "{'brand': 'Ford'}\n"
          ]
        }
      ],
      "source": [
        "#94. Write a Python program to remove a key from a dictionary.\n",
        "car = {\"brand\": \"Ford\",\"model\": \"Mustang\",\"year\": 1964}\n",
        "car1=car.pop(\"model\")\n",
        "print(car)\n",
        "del car[\"year\"]\n",
        "print(car)"
      ]
    },
    {
      "cell_type": "code",
      "execution_count": null,
      "metadata": {
        "colab": {
          "base_uri": "https://localhost:8080/"
        },
        "id": "pVXMjGblGJzx",
        "outputId": "276af009-ca6f-401c-a6f4-3cdbd268d403"
      },
      "outputs": [
        {
          "name": "stdout",
          "output_type": "stream",
          "text": [
            "without using constructor {2: 4, 4: 8, 8: 16, 16: 32}\n",
            "using constructor: {2: 4, 4: 8, 8: 16, 16: 32}\n"
          ]
        }
      ],
      "source": [
        "#95.create a dictionary using dict constructor\n",
        "dict1={}\n",
        "mydict={2:4,4:8,8:16,16:32}\n",
        "print(\"without using constructor\",mydict)\n",
        "dict1=dict(mydict)\n",
        "print(\"using constructor:\",dict1)"
      ]
    },
    {
      "cell_type": "code",
      "execution_count": null,
      "metadata": {
        "colab": {
          "base_uri": "https://localhost:8080/"
        },
        "id": "UoNd8rWfGOLm",
        "outputId": "e5b56aec-913a-4c70-bc76-da1edb67628c"
      },
      "outputs": [
        {
          "name": "stdout",
          "output_type": "stream",
          "text": [
            "{'brand': 'Ford', 'model': 'Mustang', 'year': 1964, 'color': 'Black'}\n"
          ]
        }
      ],
      "source": [
        "#96. write a program with a dictionary update method\n",
        "car = {\"brand\": \"Ford\",\"model\": \"Mustang\",\"year\": 1964}\n",
        "car.update({\"color\":\"Black\"})\n",
        "print(car)\n"
      ]
    },
    {
      "cell_type": "code",
      "execution_count": null,
      "metadata": {
        "colab": {
          "base_uri": "https://localhost:8080/"
        },
        "id": "QIT3NEGFGRWb",
        "outputId": "c582b9a7-7b04-4962-b828-feb9e88543c8"
      },
      "outputs": [
        {
          "name": "stdout",
          "output_type": "stream",
          "text": [
            "{'name': 'greeshma', 'age': 23, 'city': 'mndy'}\n",
            "{'name': 'greeshma', 'age': 23}\n"
          ]
        }
      ],
      "source": [
        "#97. write a program to remove the last inserted item from a dictionary\n",
        "mydict={'name': 'greeshma', 'age': 23, 'city': 'mndy'}\n",
        "print(mydict)\n",
        "result=mydict.popitem()\n",
        "print(mydict)"
      ]
    },
    {
      "cell_type": "code",
      "execution_count": null,
      "metadata": {
        "colab": {
          "base_uri": "https://localhost:8080/"
        },
        "id": "6ZMs149iGVS8",
        "outputId": "7067c81b-e21e-4a71-d6f6-1c33a8dd0c27"
      },
      "outputs": [
        {
          "name": "stdout",
          "output_type": "stream",
          "text": [
            "{'name': 'greeshma', 'age': 23, 'city': 'mndy'}\n",
            "{}\n"
          ]
        }
      ],
      "source": [
        "#98. write a program to empty a dictionary\n",
        "mydict={'name': 'greeshma', 'age': 23, 'city': 'mndy'}\n",
        "print(mydict)\n",
        "mydict.clear()\n",
        "print(mydict)\n"
      ]
    },
    {
      "cell_type": "code",
      "execution_count": null,
      "metadata": {
        "colab": {
          "base_uri": "https://localhost:8080/"
        },
        "id": "a1PdEP5YGpmJ",
        "outputId": "0ac3be79-a8e7-4c58-de82-61bb6f1f7940"
      },
      "outputs": [
        {
          "name": "stdout",
          "output_type": "stream",
          "text": [
            "original dictionary: {'name': 'greeshma', 'age': 23, 'city': 'mndy'}\n",
            "copied dictionary: {'name': 'greeshma', 'age': 23, 'city': 'mndy'}\n"
          ]
        }
      ],
      "source": [
        "#99. write a program to copy a dictionary\n",
        "mydict={'name': 'greeshma', 'age': 23, 'city': 'mndy'}\n",
        "print(\"original dictionary:\",mydict)\n",
        "dicts=dict(mydict)\n",
        "print(\"copied dictionary:\",dicts)"
      ]
    },
    {
      "cell_type": "code",
      "execution_count": null,
      "metadata": {
        "colab": {
          "base_uri": "https://localhost:8080/"
        },
        "id": "yTk8YItCcr2Y",
        "outputId": "c853ddb3-8712-40c8-80de-8202b576377f"
      },
      "outputs": [
        {
          "name": "stdout",
          "output_type": "stream",
          "text": [
            "enter the number:5\n",
            "The factorial of 5 is: 120\n"
          ]
        }
      ],
      "source": [
        "#factorial using function\n",
        "#factorial\n",
        "def factorial():\n",
        "  num=int(input(\"enter the number:\"))\n",
        "#factorial=1\n",
        "  if num<=0:\n",
        "    print(\"negative number does't have factorial\")\n",
        "  elif num==0:\n",
        "    print(\"factorial of zero is one\")\n",
        "  else:\n",
        "    factorial=1\n",
        "    i=1\n",
        "  while i <= num:\n",
        "        factorial *= i\n",
        "        i += 1\n",
        "  print(\"The factorial of\", num, \"is:\", factorial)\n",
        "factorial()"
      ]
    },
    {
      "cell_type": "code",
      "execution_count": null,
      "metadata": {
        "colab": {
          "base_uri": "https://localhost:8080/"
        },
        "id": "X84cVcN7jYUV",
        "outputId": "31a49b81-5ee3-454a-eb04-d9bb8cc2dc38"
      },
      "outputs": [
        {
          "data": {
            "text/plain": [
              "30"
            ]
          },
          "execution_count": 9,
          "metadata": {},
          "output_type": "execute_result"
        }
      ],
      "source": [
        "#default argument\n",
        "def sum(a,b):\n",
        "  c=a+b\n",
        "  return c\n",
        "sum(10,20)"
      ]
    },
    {
      "cell_type": "code",
      "execution_count": null,
      "metadata": {
        "colab": {
          "base_uri": "https://localhost:8080/"
        },
        "id": "eBRsxPxbjmxG",
        "outputId": "e3e503df-4927-4db7-cff6-668b03d858fa"
      },
      "outputs": [
        {
          "data": {
            "text/plain": [
              "30"
            ]
          },
          "execution_count": 10,
          "metadata": {},
          "output_type": "execute_result"
        }
      ],
      "source": [
        "#keyword parameter passing\n",
        "def sum(a=10,b=20):\n",
        "  c=a+b\n",
        "  return c\n",
        "sum()"
      ]
    },
    {
      "cell_type": "code",
      "execution_count": null,
      "metadata": {
        "colab": {
          "base_uri": "https://localhost:8080/"
        },
        "id": "9Qq5dc_Fj0kJ",
        "outputId": "e59e7743-899e-44bf-e13f-c6e479cff832"
      },
      "outputs": [
        {
          "name": "stdout",
          "output_type": "stream",
          "text": [
            "(10, 20, 30, 40)\n"
          ]
        }
      ],
      "source": [
        "#aribitary argument parameter passing\n",
        "def sum(*a):\n",
        "  print(a)\n",
        "sum(10,20,30,40)"
      ]
    },
    {
      "cell_type": "code",
      "execution_count": null,
      "metadata": {
        "colab": {
          "base_uri": "https://localhost:8080/"
        },
        "id": "KOUBtpkZqO_j",
        "outputId": "44a60e70-102d-4c01-a6c3-9dd1782d5a05"
      },
      "outputs": [
        {
          "name": "stdout",
          "output_type": "stream",
          "text": [
            "10\n"
          ]
        }
      ],
      "source": [
        "#reference parameter passing\n",
        "def sum(a):\n",
        "  print(a)\n",
        "s=10\n",
        "sum(s)"
      ]
    },
    {
      "cell_type": "code",
      "execution_count": null,
      "metadata": {
        "colab": {
          "base_uri": "https://localhost:8080/"
        },
        "id": "8HwaWH16qdWK",
        "outputId": "3ebc88cd-9d45-47d1-a8e2-3232807b6c60"
      },
      "outputs": [
        {
          "name": "stdout",
          "output_type": "stream",
          "text": [
            "{'name': 'greeshma', 'age': '23'}\n"
          ]
        }
      ],
      "source": [
        "#keyword aribitary parameter passing\n",
        "def word(**x):\n",
        "  print(x)\n",
        "word(name=\"greeshma\",age=\"23\")\n"
      ]
    },
    {
      "cell_type": "code",
      "execution_count": null,
      "metadata": {
        "colab": {
          "base_uri": "https://localhost:8080/"
        },
        "id": "Qj-PUTJFtWwg",
        "outputId": "e08bd987-4fed-42ae-cadb-e61c0d81ed21"
      },
      "outputs": [
        {
          "name": "stdout",
          "output_type": "stream",
          "text": [
            "hello welcome to python\n"
          ]
        }
      ],
      "source": [
        "#100.create and call a function\n",
        "def function():\n",
        "  print(\"hello welcome to python\")\n",
        "function()"
      ]
    },
    {
      "cell_type": "code",
      "execution_count": null,
      "metadata": {
        "colab": {
          "base_uri": "https://localhost:8080/"
        },
        "id": "m0TTNL94tnzo",
        "outputId": "b07c5785-5491-4bfa-fe99-b5395157de26"
      },
      "outputs": [
        {
          "name": "stdout",
          "output_type": "stream",
          "text": [
            "(2, 5, 8, 9)\n"
          ]
        }
      ],
      "source": [
        "#101.create function with aribitary argument\n",
        "def sum(*a):\n",
        "  print(a)\n",
        "sum(2,5,8,9)"
      ]
    },
    {
      "cell_type": "code",
      "execution_count": null,
      "metadata": {
        "colab": {
          "base_uri": "https://localhost:8080/"
        },
        "id": "PTzrZ76uuTaK",
        "outputId": "6c07e508-451c-479f-b469-f5fa9d59dc34"
      },
      "outputs": [
        {
          "data": {
            "text/plain": [
              "30"
            ]
          },
          "execution_count": 1,
          "metadata": {},
          "output_type": "execute_result"
        }
      ],
      "source": [
        "#103. create a function with a return statement\n",
        "def function(a,b):\n",
        "  c=a+b\n",
        "  return c\n",
        "function(10,20)\n"
      ]
    },
    {
      "cell_type": "code",
      "execution_count": null,
      "metadata": {
        "colab": {
          "base_uri": "https://localhost:8080/"
        },
        "id": "yE7hVjR6XzEH",
        "outputId": "ab0e0602-5936-40ec-a992-ca315727ca7e"
      },
      "outputs": [
        {
          "name": "stdout",
          "output_type": "stream",
          "text": [
            "30\n"
          ]
        }
      ],
      "source": [
        "#104. create a function with a default parameter value\n",
        "def sum(a,b):\n",
        "  c=a+b\n",
        "  print(c)\n",
        "sum(10,20)"
      ]
    },
    {
      "cell_type": "code",
      "execution_count": null,
      "metadata": {
        "colab": {
          "base_uri": "https://localhost:8080/"
        },
        "id": "ziQzvu8KYhGA",
        "outputId": "ab7b3c1f-e9d8-4c57-82f0-ec0838834b4f"
      },
      "outputs": [
        {
          "name": "stdout",
          "output_type": "stream",
          "text": [
            "Enter choice 1.farenheit 2.celsius:1\n",
            "Enter temperature in celsius:90\n",
            "194.0\n"
          ]
        }
      ],
      "source": [
        "#Write a Python program that includes functions to convert temperatures between Celsius and Fahrenheit.\n",
        "def faren(temp1):\n",
        "  faren1=(temp1 * 1.8) + 32\n",
        "  print(faren1)\n",
        "\n",
        "def cel(temp2):\n",
        "  cels=(temp2-32)*(5/9)\n",
        "  print(cels)\n",
        "choice=int(input(\"Enter choice 1.farenheit 2.celsius:\"))\n",
        "\n",
        "if(choice==1):\n",
        "  temp1=float(input(\"Enter temperature in celsius:\"))\n",
        "  faren(temp1)\n",
        "\n",
        "elif(choice==2):\n",
        "  temp2=float(input(\"Enter temperature in farenheit:\"))\n",
        "  cel(temp2)\n",
        "\n",
        "else:\n",
        "  print(\"No input\")\n",
        "\n"
      ]
    },
    {
      "cell_type": "code",
      "execution_count": null,
      "metadata": {
        "colab": {
          "base_uri": "https://localhost:8080/"
        },
        "id": "kQlK5k9q4YGI",
        "outputId": "b8aff332-0c4c-4586-dc2c-4d47ce8d9c50"
      },
      "outputs": [
        {
          "name": "stdout",
          "output_type": "stream",
          "text": [
            "Enter the string:malayalam\n",
            "malayalam is a palindrome string\n"
          ]
        }
      ],
      "source": [
        "#palindrome\n",
        "def pal(str1):\n",
        "  str2=\"\"\n",
        "  for i in str1:\n",
        "    str2=i+str2\n",
        "  if(str1==str2):\n",
        "    print(str1,\"is a palindrome string\")\n",
        "  else:\n",
        "    print(str1,\"not a palindrome string\")\n",
        "\n",
        "str1=str(input(\"Enter the string:\"))\n",
        "pal(str1)"
      ]
    },
    {
      "cell_type": "code",
      "execution_count": null,
      "metadata": {
        "colab": {
          "base_uri": "https://localhost:8080/"
        },
        "id": "6hcSlbhE4phR",
        "outputId": "fd48442d-a6d3-4417-e5cf-68bbb2c9cb89"
      },
      "outputs": [
        {
          "name": "stdout",
          "output_type": "stream",
          "text": [
            "Enter the limit:5\n",
            "Enter the numbers:1\n",
            "Enter the numbers:2\n",
            "Enter the numbers:3\n",
            "Enter the numbers:4\n",
            "Enter the numbers:5\n",
            "[1, 2, 3, 4, 5]\n",
            "Sum of values in list: 15\n"
          ]
        }
      ],
      "source": [
        "#3.\n",
        "def sums(my_list):\n",
        "  sum=0\n",
        "  for x in my_list:\n",
        "    sum=sum+x\n",
        "  print(\"Sum of values in list:\",sum)\n",
        "\n",
        "limit=int(input(\"Enter the limit:\"))\n",
        "my_list=[]\n",
        "for i in range(limit):\n",
        "  numbers=int(input(\"Enter the numbers:\"))\n",
        "  my_list.append(numbers)\n",
        "print(my_list)\n",
        "sums(my_list)\n",
        "\n"
      ]
    },
    {
      "cell_type": "code",
      "execution_count": null,
      "metadata": {
        "colab": {
          "base_uri": "https://localhost:8080/"
        },
        "id": "fi7F6oJO5HaU",
        "outputId": "9c5c646b-74d8-46a4-eba0-890853fd39b8"
      },
      "outputs": [
        {
          "name": "stdout",
          "output_type": "stream",
          "text": [
            "Enter the limit:5\n",
            "Enter the numbers:4\n",
            "Enter the numbers:5\n",
            "Enter the numbers:6\n",
            "Enter the numbers:7\n",
            "Enter the numbers:2\n",
            "Original list: [4, 5, 6, 7, 2]\n",
            "After removing duplicates: [4, 5, 6, 7, 2]\n"
          ]
        }
      ],
      "source": [
        "#duplicate\n",
        "def dupli(my_list):\n",
        "  list1=[]\n",
        "  for i in my_list:\n",
        "    if(i not in list1):\n",
        "      list1.append(i)\n",
        "  print(\"After removing duplicates:\",list1)\n",
        "\n",
        "limit=int(input(\"Enter the limit:\"))\n",
        "my_list=[]\n",
        "for i in range(limit):\n",
        "  numbers=int(input(\"Enter the numbers:\"))\n",
        "  my_list.append(numbers)\n",
        "print(\"Original list:\",my_list)\n",
        "dupli(my_list)\n"
      ]
    },
    {
      "cell_type": "code",
      "execution_count": null,
      "metadata": {
        "colab": {
          "base_uri": "https://localhost:8080/"
        },
        "id": "UaYnfOmJ5VVe",
        "outputId": "936684b8-bd16-42b4-8bf5-df3ede43b49d"
      },
      "outputs": [
        {
          "name": "stdout",
          "output_type": "stream",
          "text": [
            "Enter the sentence:hello\n",
            "No of words: 1\n"
          ]
        }
      ],
      "source": [
        "#count\n",
        "def counts(str1):\n",
        "  str2=str1.split(\" \")\n",
        "  print(\"No of words:\",len(str2))\n",
        "\n",
        "str1=str(input(\"Enter the sentence:\"))\n",
        "counts(str1)\n",
        "\n"
      ]
    },
    {
      "cell_type": "code",
      "execution_count": null,
      "metadata": {
        "colab": {
          "base_uri": "https://localhost:8080/"
        },
        "id": "968jGHYA7Znp",
        "outputId": "986b6f16-5000-4da9-a409-eb2736798ab3"
      },
      "outputs": [
        {
          "name": "stdout",
          "output_type": "stream",
          "text": [
            "Sum is  10\n",
            "Sum is  10\n",
            "Sum is  25.5\n"
          ]
        }
      ],
      "source": [
        "#1.arbitoryarg\n",
        "def add(*n):\n",
        "  s=0\n",
        "  for x in n:\n",
        "    s=s+x\n",
        "    return s\n",
        "p=add(10,20,30)\n",
        "print(\"Sum is \",p)\n",
        "q=add(10,20,30,40,50)\n",
        "print(\"Sum is \",q)\n",
        "r=add(25.5,36.6,42.7,52.8)\n",
        "print(\"Sum is \",r)\n"
      ]
    },
    {
      "cell_type": "code",
      "execution_count": null,
      "metadata": {
        "colab": {
          "base_uri": "https://localhost:8080/"
        },
        "id": "dWErwJaFHgMS",
        "outputId": "369758f6-bbaa-4b28-e962-6fd0f93a3ad2"
      },
      "outputs": [
        {
          "name": "stdout",
          "output_type": "stream",
          "text": [
            "Enter the number : 5\n",
            "Menu\n",
            "1.Automorphic\n",
            "2.Trimorphic\n",
            "Enter your choice : 1\n",
            "5  is automorphic\n"
          ]
        }
      ],
      "source": [
        "#2.auto_trimorphic.py\n",
        "num=int(input(\"Enter the number : \"))\n",
        "print(\"Menu\")\n",
        "print(\"1.Automorphic\")\n",
        "print(\"2.Trimorphic\")\n",
        "choice=int(input(\"Enter your choice : \"))\n",
        "l=len(str(num))\n",
        "if choice==1:\n",
        "\tsq=num**2\n",
        "\tif sq%(10**l)==num:\n",
        "\t\tprint(num,\" is automorphic\")\n",
        "\telse:\n",
        "\t\tprint(num,\" is not automorphic\")\n",
        "elif choice==2:\n",
        "\tcb=num**3\n",
        "\tif cb%(10**l)==num:\n",
        "\t\tprint(num,\" is trimorphic\")\n",
        "\telse:\n",
        "\t\tprint(num,\" is not trimorphic\")\n",
        "else:\n",
        "\tprint(\"Invalid choice!!!\")"
      ]
    },
    {
      "cell_type": "code",
      "execution_count": null,
      "metadata": {
        "id": "PLJoKxdkQdup"
      },
      "outputs": [],
      "source": []
    },
    {
      "cell_type": "code",
      "execution_count": null,
      "metadata": {
        "colab": {
          "base_uri": "https://localhost:8080/"
        },
        "id": "0rDREXikH6_h",
        "outputId": "2949ca41-6cf0-4bbc-ccbc-7a51b66f4b53"
      },
      "outputs": [
        {
          "name": "stdout",
          "output_type": "stream",
          "text": [
            "enter the first number4\n",
            "enter the second number7\n",
            "enter the third number3\n",
            "Biggest is  7\n"
          ]
        }
      ],
      "source": [
        "#3.big3elif.py\n",
        "a=int(input(\"enter the first number\"))\n",
        "b=int(input(\"enter the second number\"))\n",
        "c=int(input(\"enter the third number\"))\n",
        "if a>b and a>c:\n",
        "\tbig=a\n",
        "elif b>a and b>c:\n",
        "\tbig=b\n",
        "else:\n",
        "\tbig=c\n",
        "print(\"Biggest is \",big)"
      ]
    },
    {
      "cell_type": "code",
      "execution_count": null,
      "metadata": {
        "colab": {
          "base_uri": "https://localhost:8080/"
        },
        "id": "6ADsqowEIft1",
        "outputId": "ea61303c-6e28-4dd5-cdc8-fd98bda0d43a"
      },
      "outputs": [
        {
          "name": "stdout",
          "output_type": "stream",
          "text": [
            "Enter the first number5\n",
            "Enter the second number7\n",
            "Biggest is :  7\n"
          ]
        }
      ],
      "source": [
        "#4.bigifelse.py\n",
        "a=int(input(\"Enter the first number\"))\n",
        "b=int(input(\"Enter the second number\"))\n",
        "if a>b:\n",
        "\tbig=a\n",
        "else:\n",
        "\tbig=b\n",
        "print(\"Biggest is : \",big)"
      ]
    },
    {
      "cell_type": "code",
      "execution_count": null,
      "metadata": {
        "colab": {
          "base_uri": "https://localhost:8080/"
        },
        "id": "5QXfMRq4I82h",
        "outputId": "8cd66cc7-ab82-4d8f-c934-b010a5968afd"
      },
      "outputs": [
        {
          "name": "stdout",
          "output_type": "stream",
          "text": [
            "Enter the limit array :5\n",
            "Enter the elements : \n",
            "1\n",
            "3\n",
            "5\n",
            "1\n",
            "7\n",
            "Second largest is :  5\n"
          ]
        }
      ],
      "source": [
        "#5.biglist.py\n",
        "a=[]\n",
        "n=int(input(\"Enter the limit array :\"))\n",
        "print(\"Enter the elements : \")\n",
        "for i in range(0,n):\n",
        "\tno=int(input())\n",
        "\ta.append(no)\n",
        "big=a[0]\n",
        "for i in range(1,n):\n",
        "\tif a[i]>big:\n",
        "\t\tbig=a[i]\n",
        "if big==a[0]:\n",
        "\tsbig=a[1]\n",
        "else:\n",
        "\tsbig=a[0]\n",
        "for i in range(0,n):\n",
        "\tif a[i]<big and a[i]>sbig:\n",
        "\t\tsbig=a[i]\n",
        "print(\"Second largest is : \",sbig)\n"
      ]
    },
    {
      "cell_type": "code",
      "execution_count": null,
      "metadata": {
        "colab": {
          "base_uri": "https://localhost:8080/"
        },
        "id": "AT5G8AoXJKZi",
        "outputId": "76fd9682-f83d-4a3e-edf9-4909f60ab6ea"
      },
      "outputs": [
        {
          "name": "stdout",
          "output_type": "stream",
          "text": [
            "Enter the first number6\n",
            "Enter the second number5\n",
            "Enter the third number7\n",
            "Biggest is :  7\n"
          ]
        }
      ],
      "source": [
        "#6.bignestedif.py\n",
        "a=int(input(\"Enter the first number\"))\n",
        "b=int(input(\"Enter the second number\"))\n",
        "c=int(input(\"Enter the third number\"))\n",
        "if a>b:\n",
        "\tif a>c:\n",
        "\t\tbig=a\n",
        "\telse:\n",
        "\t\tbig=c\n",
        "else:\n",
        "\tif b>c:\n",
        "\t\tbig=b\n",
        "\telse:\n",
        "\t\tbig=c\n",
        "print(\"Biggest is : \",big)"
      ]
    },
    {
      "cell_type": "code",
      "execution_count": null,
      "metadata": {
        "colab": {
          "base_uri": "https://localhost:8080/"
        },
        "id": "e86ETOkUJWBw",
        "outputId": "b00e57f0-d393-4b98-81c3-16dea023d867"
      },
      "outputs": [
        {
          "name": "stdout",
          "output_type": "stream",
          "text": [
            "Enter a number6\n",
            "Enter a number8\n",
            "Biggest is :  8\n"
          ]
        }
      ],
      "source": [
        "#7.bigsimif.py\n",
        "a=int(input(\"Enter a number\"))\n",
        "b=int(input(\"Enter a number\"))\n",
        "big=a\n",
        "if a<b:\n",
        "\tbig=b\n",
        "print(\"Biggest is : \",big)"
      ]
    },
    {
      "cell_type": "code",
      "execution_count": null,
      "metadata": {
        "colab": {
          "base_uri": "https://localhost:8080/"
        },
        "id": "9A_lNGHeJfx_",
        "outputId": "6206141c-70dd-4804-c375-b961e91801f0"
      },
      "outputs": [
        {
          "name": "stdout",
          "output_type": "stream",
          "text": [
            "Enter your requirements :(1-required/0-not required)\n",
            "School1\n",
            "Gym1\n",
            "Pool0\n",
            "Hospital1\n",
            "Store0\n",
            "['School', 'Gym', 'Hospital']\n"
          ]
        }
      ],
      "source": [
        "#8.block_selection.py\n",
        "required_amenities=[]\n",
        "block_details=[{\"School\":True,\"Gym\":False,\"Pool\":False,\"Hospital\":True,\"Store\":False},]\n",
        "amenities={\"School\":False,\"Gym\":False,\"Pool\":False,\"Hospital\":False,\"Store\":False}\n",
        "print(\"Enter your requirements :(1-required/0-not required)\")\n",
        "for x in amenities.keys():\n",
        "\tk=int(input(x))\n",
        "\tif k==1:\n",
        "\t\trequired_amenities.append(x)\n",
        "print(required_amenities)"
      ]
    },
    {
      "cell_type": "code",
      "execution_count": null,
      "metadata": {
        "colab": {
          "base_uri": "https://localhost:8080/"
        },
        "id": "KFCmTJs6J0tY",
        "outputId": "832b02b3-e3f9-446f-f1fb-1c91d88c8de1"
      },
      "outputs": [
        {
          "name": "stdout",
          "output_type": "stream",
          "text": [
            "1. Addition\n",
            "2. Subtraction\n",
            "3. Multiplication\n",
            "4. Division \n",
            "5. Exponet\n",
            "Enter your choice of operation :1\n",
            "Enter a number5\n",
            "Enter a number6\n",
            "The result is  11\n"
          ]
        }
      ],
      "source": [
        "#8.calculatorelif.py\n",
        "print(\"1. Addition\")\n",
        "print(\"2. Subtraction\")\n",
        "print(\"3. Multiplication\")\n",
        "print(\"4. Division \")\n",
        "print(\"5. Exponet\")\n",
        "choice=int(input(\"Enter your choice of operation :\"))\n",
        "a=int(input(\"Enter a number\"))\n",
        "b=int(input(\"Enter a number\"))\n",
        "if choice==1:\n",
        "\tres=a+b\n",
        "elif choice==2:\n",
        "\tres=a-b\n",
        "elif choice==3:\n",
        "\tres=a*b\n",
        "elif choice==4:\n",
        "\tres=a/b\n",
        "elif choice==5:\n",
        "\tres=a**b\n",
        "else:\n",
        "\tprint(\"Invalid choice!!!\")\n",
        "print(\"The result is \",res)"
      ]
    },
    {
      "cell_type": "code",
      "execution_count": null,
      "metadata": {
        "colab": {
          "base_uri": "https://localhost:8080/"
        },
        "id": "7f-XPLvGKBVm",
        "outputId": "d92294d1-ebfd-4512-c015-da9fd7cd302d"
      },
      "outputs": [
        {
          "name": "stdout",
          "output_type": "stream",
          "text": [
            "Enter no of elements : 5\n",
            "Enter the elements : \n",
            "3\n",
            "4\n",
            "5\n",
            "8\n",
            "5\n",
            "[3, 4, 5, 8, 5]\n",
            "[5, 3, 4, 5, 8]\n"
          ]
        }
      ],
      "source": [
        "#9.circularrightshift.py\n",
        "a=[]\n",
        "n=int(input(\"Enter no of elements : \"))\n",
        "print(\"Enter the elements : \")\n",
        "for i in range(0,n):\n",
        "\telmnt=int(input())\n",
        "\ta.append(elmnt)\n",
        "print(a)\n",
        "b=[a[n-1]]+a[:n-1]\n",
        "a=b\n",
        "print(a)"
      ]
    },
    {
      "cell_type": "code",
      "execution_count": null,
      "metadata": {
        "colab": {
          "base_uri": "https://localhost:8080/"
        },
        "id": "qaV3Coy1KPA_",
        "outputId": "b16eb0e1-e719-4bf5-fdf3-860b3f48999c"
      },
      "outputs": [
        {
          "name": "stdout",
          "output_type": "stream",
          "text": [
            "1.Add a contact \n",
            "2.Delete a contact\n",
            "3.Edit a contact \n",
            "4.Search a contact\n",
            "5.List all contacts\n",
            "6.Exit\n",
            "Enter your choice 1\n",
            "Enter the name : fr\n",
            "Enter the phone number : 45\n",
            "1 contact added successfully\n",
            "Enter your choice 6\n"
          ]
        }
      ],
      "source": [
        "#10.contactbook.py\n",
        "print(\"1.Add a contact \")\n",
        "print(\"2.Delete a contact\")\n",
        "print(\"3.Edit a contact \")\n",
        "print(\"4.Search a contact\")\n",
        "print(\"5.List all contacts\")\n",
        "print(\"6.Exit\")\n",
        "contactbook={}\n",
        "choice=int(input(\"Enter your choice \"))\n",
        "while choice!=6:\n",
        "\tif choice==1:\n",
        "\t\tname=input(\"Enter the name : \")\n",
        "\t\tphno=int(input(\"Enter the phone number : \"))\n",
        "\t\tcontactbook[name]=phno\n",
        "\t\tprint(\"1 contact added successfully\")\n",
        "\telif choice==2:\n",
        "\t\tname=input(\"enter the name of contact to delete :\")\n",
        "\t\tcontactbook.pop(name)\n",
        "\t\tprint(\"1 contact deleted succefully\")\n",
        "\telif choice==3:\n",
        "\t\tname=input(\"enter the name of contact to edit :\")\n",
        "\t\tphno=int(input(\"Enter the phone number : \"))\n",
        "\t\tcontactbook[name]=phno\n",
        "\t\tprint(\"contact edited successfully\")\n",
        "\telif choice==4:\n",
        "\t\tname=input(\"enter the name :\")\n",
        "\t\tprint(\"Phone Number of \",name,\" : \",contactbook[name])\n",
        "\telif choice==5:\n",
        "\t\tprint(\"Name\\t\\t Phone Number\")\n",
        "\t\tfor x,y in contactbook.items():\n",
        "\t\t\tprint(x,\"\\t\\t\",y)\n",
        "\telse:\n",
        "\t\tprint(\"Invalid choice !!!\")\n",
        "\tchoice=int(input(\"Enter your choice \"))\n"
      ]
    },
    {
      "cell_type": "code",
      "execution_count": null,
      "metadata": {
        "colab": {
          "base_uri": "https://localhost:8080/"
        },
        "id": "iqwltikwKw_x",
        "outputId": "e86a4d3c-8853-4cdc-ecc0-56ca4353dafd"
      },
      "outputs": [
        {
          "name": "stdout",
          "output_type": "stream",
          "text": [
            "Interest  9000.0\n",
            "Interest  7500.0\n"
          ]
        }
      ],
      "source": [
        "#11.defaultarg.py\n",
        "def simple_interest(p,n,r=0.25):\n",
        "\ti=p*r*n\n",
        "\treturn i\n",
        "i1=simple_interest(5000,6,0.3)\n",
        "print(\"Interest \",i1)\n",
        "i2=simple_interest(5000,6)\n",
        "print(\"Interest \",i2)\n"
      ]
    },
    {
      "cell_type": "code",
      "execution_count": null,
      "metadata": {
        "colab": {
          "base_uri": "https://localhost:8080/"
        },
        "id": "JMDd8FTeJLKl",
        "outputId": "56b3ebd5-2d56-43ee-b546-8268a11b3e48"
      },
      "outputs": [
        {
          "name": "stdout",
          "output_type": "stream",
          "text": [
            "Interest  9000.0\n",
            "Interest  7500.0\n"
          ]
        }
      ],
      "source": [
        "#12.defaultarg.py\n",
        "\n",
        "def inrst(p,n,r=0.25):\n",
        "  i=p*r*n\n",
        "  return i\n",
        "i1=inrst(5000,6,0.3)\n",
        "print(\"Interest \",i1)\n",
        "i2=inrst(5000,6)\n",
        "print(\"Interest \",i2)"
      ]
    },
    {
      "cell_type": "code",
      "execution_count": null,
      "metadata": {
        "colab": {
          "base_uri": "https://localhost:8080/"
        },
        "id": "GNI3HorZJLql",
        "outputId": "ea4bdc41-b27f-48a1-96e9-0f013767cf0d"
      },
      "outputs": [
        {
          "name": "stdout",
          "output_type": "stream",
          "text": [
            "kiran\n",
            "kiran\n",
            "dict_keys(['Routeno', 'Driver', 'Cleaner', 'points'])\n",
            "dict_values([5, 'kiran', 'Manu', ['karamana', 'PMG', 'pattom']])\n",
            "dict_items([('Routeno', 5), ('Driver', 'kiran'), ('Cleaner', 'Manu'), ('points', ['karamana', 'PMG', 'pattom'])])\n",
            "{'Routeno': 5, 'Driver': 'kiran', 'Cleaner': 'Manu', 'points': ['karamana', 'PMG', 'pattom'], 'color': 'Red'}\n",
            "{'Routeno': 5, 'Driver': 'kiran', 'Cleaner': 'Manu', 'points': ['karamana', 'PMG', 'pattom'], 'color': 'Red', 'Fare': 1500}\n",
            "{'Routeno': 5, 'Driver': 'Mohan', 'Cleaner': 'Manu', 'points': ['karamana', 'PMG', 'pattom'], 'color': 'Red', 'Fare': 1500}\n",
            "{'Routeno': 5, 'Driver': 'Mohan', 'Cleaner': 'Manu', 'points': ['karamana', 'PMG', 'pattom'], 'color': 'Red'}\n",
            "{'Routeno': 5, 'Driver': 'Mohan', 'Cleaner': 'Manu', 'points': ['karamana', 'PMG', 'pattom']}\n",
            "{'Routeno': 5, 'Cleaner': 'Manu', 'points': ['karamana', 'PMG', 'pattom']}\n",
            "Routeno\n",
            "Cleaner\n",
            "points\n",
            "5\n",
            "Manu\n",
            "['karamana', 'PMG', 'pattom']\n"
          ]
        }
      ],
      "source": [
        "#13.dicfunctions.py\n",
        "\n",
        "bus={\"Routeno\":5,\"Driver\":\"kiran\",\"Cleaner\":\"Manu\",\"points\":[\"karamana\",\"PMG\",\"pattom\"]}\n",
        "print(bus[\"Driver\"])\n",
        "print(bus.get(\"Driver\"))\n",
        "print(bus.keys())\n",
        "print(bus.values())\n",
        "print(bus.items())\n",
        "\n",
        "bus[\"color\"]=\"Red\"\n",
        "print(bus)\n",
        "\n",
        "bus.update({\"Fare\":1500})\n",
        "print(bus)\n",
        "\n",
        "bus[\"Driver\"]=\"Mohan\"\n",
        "print(bus)\n",
        "\n",
        "bus.pop(\"Fare\")\n",
        "print(bus)\n",
        "\n",
        "bus.popitem()\n",
        "print(bus)\n",
        "\n",
        "del bus[\"Driver\"]\n",
        "print(bus)\n",
        "\n",
        "\n",
        "for x in bus:\n",
        "  print(x)\n",
        "\n",
        "for x in bus:\n",
        "  print(bus[x])\n",
        "\n",
        "del bus\n",
        "#bus.clear()\n",
        "\n",
        "\n",
        "\n"
      ]
    },
    {
      "cell_type": "code",
      "execution_count": null,
      "metadata": {
        "colab": {
          "base_uri": "https://localhost:8080/"
        },
        "id": "nxqAwgK5OflC",
        "outputId": "4c2a7ccf-3a4f-4463-f4f8-f6f54dcec1ed"
      },
      "outputs": [
        {
          "name": "stdout",
          "output_type": "stream",
          "text": [
            "Enter the number of contacts : 2\n",
            "Enter the contact name :gh\n",
            "Enter the phone number :788\n",
            "Enter the contact name :jj\n",
            "Enter the phone number :889\n",
            "Keys\n",
            "gh\n",
            "jj\n",
            "Values\n",
            "788\n",
            "889\n",
            "Keys-value pairs\n",
            "gh - 788\n",
            "jj - 889\n"
          ]
        }
      ],
      "source": [
        "#14.dictionarydemo.py\n",
        "contactlist={}\n",
        "n=int(input(\"Enter the number of contacts : \"))\n",
        "for i in range(1,n+1):\n",
        "\tname=input(\"Enter the contact name :\")\n",
        "\tphno=int(input(\"Enter the phone number :\"))\n",
        "\tcontactlist[name]=phno\n",
        "print(\"Keys\")\n",
        "for x in contactlist.keys():\n",
        "\tprint(x)\n",
        "print(\"Values\")\n",
        "for x in contactlist.values():\n",
        "\tprint(x)\n",
        "print(\"Keys-value pairs\")\n",
        "for x,y in contactlist.items():\n",
        "\tprint(x,\"-\",y)"
      ]
    },
    {
      "cell_type": "code",
      "execution_count": null,
      "metadata": {
        "colab": {
          "base_uri": "https://localhost:8080/"
        },
        "id": "be_a8cRROx6O",
        "outputId": "64cc9bcf-7da4-427b-cbc7-66745b42136d"
      },
      "outputs": [
        {
          "name": "stdout",
          "output_type": "stream",
          "text": [
            "Enter any number6\n",
            "The number is :  6\n",
            "The number Name is :  Six Ones\n"
          ]
        }
      ],
      "source": [
        "#15.dictnumber.py\n",
        "numberNames={0:'Zero',1:'One',2:'Two',3:'Three',4:'Four',5:'Five',6:'Six',7:'Seven',8:'Eight',9:'Nine'}\n",
        "positionvalues={0:'Ones',1:'Tens',2:'Humdreds',3:'Thousands',4:'Ten Thousands',5:'Lakhs',6:'Ten Lakhs',7:'Crore',8:'Ten Crores',9:'Hundred Crores'}\n",
        "num=input(\"Enter any number\")\n",
        "result=''\n",
        "l=len(num)-1\n",
        "for ch in num:\n",
        "\tkey=int(ch)\n",
        "\tvalue=numberNames[key]\n",
        "\tresult=result + ' ' + value+' '+ positionvalues[l]\n",
        "\tl-=1\n",
        "print(\"The number is : \",num)\n",
        "print(\"The number Name is :\",result)"
      ]
    },
    {
      "cell_type": "code",
      "execution_count": null,
      "metadata": {
        "colab": {
          "base_uri": "https://localhost:8080/"
        },
        "id": "YS9zDy-4O628",
        "outputId": "bb774b31-7bc7-4864-c7ca-da27d14152cc"
      },
      "outputs": [
        {
          "name": "stdout",
          "output_type": "stream",
          "text": [
            "Enter the number : 7\n",
            "sum of digits :  7\n"
          ]
        }
      ],
      "source": [
        "\n",
        "#16.digitsumfun.py\n",
        "\n",
        "def  digitsum(n):\n",
        "\tif n==0:\n",
        "\t\treturn 0\n",
        "\td=n%10\n",
        "\ts=d+digitsum(n//10)\n",
        "\treturn s\n",
        "no=int(input(\"Enter the number : \"))\n",
        "sum=digitsum(no)\n",
        "print(\"sum of digits : \",sum)\n",
        "\n"
      ]
    },
    {
      "cell_type": "code",
      "execution_count": null,
      "metadata": {
        "colab": {
          "base_uri": "https://localhost:8080/"
        },
        "id": "3FQI8XZu_YJT",
        "outputId": "d0f351dc-c495-4251-f922-d8169fac64c5"
      },
      "outputs": [
        {
          "name": "stdout",
          "output_type": "stream",
          "text": [
            "Enter a number : 6\n",
            "Enter a number : 7\n",
            "6  is  not divisible  by  7\n"
          ]
        }
      ],
      "source": [
        "#17.divisiblesimpif.py\n",
        "m=int(input(\"Enter a number : \"))\n",
        "n=int(input(\"Enter a number : \"))\n",
        "result=\"not divisible\"\n",
        "if(m%n==0):\n",
        "\tresult=\"divisible\"\n",
        "print(m,\" is \",result,\" by \",n)\n"
      ]
    },
    {
      "cell_type": "code",
      "execution_count": null,
      "metadata": {
        "colab": {
          "base_uri": "https://localhost:8080/"
        },
        "id": "mOwsEYCp_yvc",
        "outputId": "84e87c33-598c-4540-ccbc-8aec60657e38"
      },
      "outputs": [
        {
          "name": "stdout",
          "output_type": "stream",
          "text": [
            "Enter the number of units consumed : 69\n",
            "Amount to be paid :  34.5\n"
          ]
        }
      ],
      "source": [
        "#18.ebillelif.py\n",
        "u=int(input(\"Enter the number of units consumed : \"))\n",
        "if u<=100:\n",
        "\tamount=u*0.5\n",
        "elif u>100 and u<=150:\n",
        "\tamount=(100*0.5)+(u-100)*0.75\n",
        "elif u>150 and u<=200:\n",
        "\tamount=(100*0.5)+(50*0.75)+(u-150)*1\n",
        "else:\n",
        "\tamount=(100*0.5)+(50*0.75)+(50*1)+(u-200)*2\n",
        "print(\"Amount to be paid : \",amount)"
      ]
    },
    {
      "cell_type": "code",
      "execution_count": null,
      "metadata": {
        "colab": {
          "base_uri": "https://localhost:8080/"
        },
        "id": "6BEeOwmpJzNQ",
        "outputId": "2183428a-50e5-4e11-f467-cc1452e8ba9e"
      },
      "outputs": [
        {
          "name": "stdout",
          "output_type": "stream",
          "text": [
            "Enter the type of connection : 69\n",
            "Enter the units consumed : 78\n",
            "Invalid connection type \n",
            "Tarriff\t:  0\n"
          ]
        }
      ],
      "source": [
        "#19.electrictybill_type.py\n",
        "type=input(\"Enter the type of connection : \")\n",
        "u=int(input(\"Enter the units consumed : \"))\n",
        "charge=0\n",
        "if type==\"domestic\":\n",
        "\tif u<=100:\n",
        "\t\tcharge=u*1\n",
        "\telif u<150:\n",
        "\t\tcharge=(100*1)+(u-100)*1.5\n",
        "\telif u<=200:\n",
        "\t\tcharge=(100*1)+(50*1.5)+(u-150)*2\n",
        "\telse:\n",
        "\t\tcharge=(100*1)+(50*1.5)+(50*2)+(u-200)*3\n",
        "elif type==\"commercial\":\n",
        "\tif u<=100:\n",
        "\t\tcharge=u*3\n",
        "\telif u<150:\n",
        "\t\tcharge=(100*3)+(u-100)*4\n",
        "\telif u<=200:\n",
        "\t\tcharge=(100*3)+(50*4)+(u-150)*6\n",
        "\telse:\n",
        "\t\tcharge=(100*3)+(50*4)+(50*6)+(u-200)*10\n",
        "else:\n",
        "\tprint(\"Invalid connection type \")\n",
        "print(\"Tarriff\t: \",charge)\n",
        "\n"
      ]
    },
    {
      "cell_type": "code",
      "execution_count": null,
      "metadata": {
        "colab": {
          "base_uri": "https://localhost:8080/"
        },
        "id": "nhHFoT5sJ-49",
        "outputId": "19a57d87-fc44-45a1-e304-de04074cb9a9"
      },
      "outputs": [
        {
          "name": "stdout",
          "output_type": "stream",
          "text": [
            "Enter the number : 32\n",
            "Sum  is :  528\n"
          ]
        }
      ],
      "source": [
        "#20.factorialsum.py\n",
        "def sum(n):\n",
        "\tif n==1:\n",
        "\t\treturn 1\n",
        "\ts=n+sum(n-1)\n",
        "\treturn s\n",
        "no=int(input(\"Enter the number : \"))\n",
        "total=sum(no)\n",
        "print(\"Sum  is : \",total)\n",
        "\n"
      ]
    },
    {
      "cell_type": "code",
      "execution_count": null,
      "metadata": {
        "colab": {
          "base_uri": "https://localhost:8080/"
        },
        "id": "80UeEg2oMCIp",
        "outputId": "e1505c50-d420-42a2-d8b9-ca1013a86260"
      },
      "outputs": [
        {
          "name": "stdout",
          "output_type": "stream",
          "text": [
            "Kiran\n",
            "Manu\n",
            "Vinu\n",
            "10\n",
            "20\n",
            "30\n",
            "40\n",
            "50\n"
          ]
        }
      ],
      "source": [
        "#21.fun_arbitoryarg.py\n",
        "def my_function(*students):\n",
        "\t#print(type(students))\n",
        "\tfor x in students:\n",
        "\t\tprint(x)\n",
        "\n",
        "my_function(\"Kiran\", \"Manu\", \"Vinu\")\n",
        "my_function(10,20,30,40,50)\n"
      ]
    },
    {
      "cell_type": "code",
      "execution_count": null,
      "metadata": {
        "colab": {
          "base_uri": "https://localhost:8080/"
        },
        "id": "dCwDF7r1KIkD",
        "outputId": "83378475-fc72-4e88-fb8a-458e9b22c58b"
      },
      "outputs": [
        {
          "name": "stdout",
          "output_type": "stream",
          "text": [
            "Sum is  30\n",
            "Sum is  150\n",
            "Sum is  52.0\n"
          ]
        }
      ],
      "source": [
        "#22.fun_arbitoryarg1.py\n",
        "def my_function(*formal):\n",
        "  #print(type(formal))\n",
        "  s=0\n",
        "  for x in formal:\n",
        "    s=s+x\n",
        "  print(\"Sum is \",s)\n",
        "my_function(10,20)\n",
        "my_function(10,20,30,40,50)\n",
        "my_function(10.2,15.5,26.3)\n"
      ]
    },
    {
      "cell_type": "code",
      "execution_count": null,
      "metadata": {
        "colab": {
          "base_uri": "https://localhost:8080/"
        },
        "id": "mqI8jCULLQrw",
        "outputId": "03b4649f-04f9-43ae-bd53-cde1ee255b67"
      },
      "outputs": [
        {
          "name": "stdout",
          "output_type": "stream",
          "text": [
            "600\n",
            "47.2\n"
          ]
        }
      ],
      "source": [
        "#23.functionarguments.py\n",
        "def sum(*no):\n",
        "\t#print(type(no))\n",
        "\ts=0\n",
        "\tfor x in no:\n",
        "\t\ts=s+x\n",
        "\treturn s\n",
        "def add(p):\n",
        "\tprint(p*6)\n",
        "def avg(s):\n",
        "\tprint(s/5)\n",
        "sm=sum(10,20,30,40)\n",
        "add(sm)\n",
        "sm=sum(25,36,45,78,52)\n",
        "avg(sm)"
      ]
    },
    {
      "cell_type": "code",
      "execution_count": null,
      "metadata": {
        "colab": {
          "base_uri": "https://localhost:8080/"
        },
        "id": "gKqIEEsFLeCm",
        "outputId": "84f17749-1bb2-4cf7-cb41-7dcd71aa3d47"
      },
      "outputs": [
        {
          "name": "stdout",
          "output_type": "stream",
          "text": [
            "Enter the principle amount : 67\n",
            "Enter the time duration : 2\n",
            "Enter the rate of interest : 34\n",
            "Interest :  6.7\n",
            "Interest :  45.56\n"
          ]
        }
      ],
      "source": [
        "#24.functioninterestdefault.py\n",
        "def simple_interest(p,t,r=5):\n",
        "\ti=p*r*t/100\n",
        "\treturn i\n",
        "principle_amount=int(input(\"Enter the principle amount : \"))\n",
        "time_period=int(input(\"Enter the time duration : \"))\n",
        "rate_of_interest=int(input(\"Enter the rate of interest : \"))\n",
        "i1=simple_interest(principle_amount,time_period)\n",
        "print(\"Interest : \",i1)\n",
        "i2=simple_interest(principle_amount,time_period,rate_of_interest)\n",
        "print(\"Interest : \",i2)\n",
        "\n"
      ]
    },
    {
      "cell_type": "code",
      "execution_count": null,
      "metadata": {
        "colab": {
          "base_uri": "https://localhost:8080/"
        },
        "id": "tyLKEo8mLs6y",
        "outputId": "d48105ec-babe-4439-9d55-fa936f92b3f1"
      },
      "outputs": [
        {
          "name": "stdout",
          "output_type": "stream",
          "text": [
            "100\n",
            "174\n",
            "150\n"
          ]
        }
      ],
      "source": [
        "#25.functionlist.py\n",
        "def sum(no):\n",
        "\t#print(type(no))\n",
        "\ts=0\n",
        "\tfor x in no:\n",
        "\t\ts=s+x\n",
        "\treturn s\n",
        "a=[10,20,30,40]\n",
        "print(sum(a))\n",
        "b=(25,36,49,64)\n",
        "print(sum(b))\n",
        "c={25,50,75}\n",
        "print(sum(c))"
      ]
    },
    {
      "cell_type": "code",
      "execution_count": null,
      "metadata": {
        "colab": {
          "background_save": true,
          "base_uri": "https://localhost:8080/"
        },
        "id": "bwnC842lQzy8",
        "outputId": "5ee09feb-0b50-43ad-c086-1fafd4babad7"
      },
      "outputs": [
        {
          "name": "stdout",
          "output_type": "stream",
          "text": [
            "1.add contact\n",
            "2.search contact\n",
            "3.update contact\n",
            "4.display contact\n",
            "5.delete contact\n",
            "6.exit\n",
            "sucessfully added contact\n",
            "phone number of is greeshma : 6778\n",
            "the phno of greeshma : 67888\n",
            "delete sucessfully\n"
          ]
        }
      ],
      "source": [
        "#phone book\n",
        "print(\"1.add contact\")\n",
        "print(\"2.search contact\")\n",
        "print(\"3.update contact\")\n",
        "#print(\"4.display contact\")\n",
        "print(\"4.delete contact\")\n",
        "print(\"5.exit\")\n",
        "phonebook={}\n",
        "while(True):\n",
        "  choice=int(input(\"enter the choice\"))\n",
        "  if choice==1:\n",
        "    name=input(\"enter name:\")\n",
        "    phno=int(input(\"enter the phone number\"))\n",
        "    phonebook[name]=phno\n",
        "    print(\"sucessfully added contact\")\n",
        "  elif choice==2:\n",
        "     name=input(\"enter name:\")\n",
        "     print(\"phone number of is\",name,\":\",phonebook[name])\n",
        "  elif choice==3:\n",
        "    name=input(\"enter name:\")\n",
        "    phno=int(input(\"enter the phone number\"))\n",
        "    phonebook[name]=phno\n",
        "    print(\"the phno of\",name,\":\",phonebook[name])\n",
        "  elif choice==4:\n",
        "    name=input(\"enter name:\")\n",
        "    phonebook.pop(name)\n",
        "    print(\"delete sucessfully\")\n",
        "  elif choice==5:\n",
        "    break\n"
      ]
    },
    {
      "cell_type": "code",
      "execution_count": null,
      "metadata": {
        "id": "WRZZrhGUWXZu",
        "colab": {
          "base_uri": "https://localhost:8080/"
        },
        "outputId": "433bf7f3-a35c-403c-943a-0d433cdac463"
      },
      "outputs": [
        {
          "name": "stdout",
          "output_type": "stream",
          "text": [
            "1.addcontact \n",
            " 2.Search contact \n",
            " 3.Display contact \n",
            " 4.Edit contact \n",
            " 5.delete contact \n",
            " 6.exit 1\n",
            "enter the name :greeshma\n",
            "enter the phone number567\n",
            "1.addcontact \n",
            " 2.Search contact \n",
            " 3.Display contact \n",
            " 4.Edit contact \n",
            " 5.delete contact \n",
            " 6.exit 6\n"
          ]
        }
      ],
      "source": [
        "#phone book\n",
        "contact={}\n",
        "\n",
        "def add():\n",
        "    contact[name]=phone\n",
        "\n",
        "def search():\n",
        "    search_name=input(\"enter the searchname :\")\n",
        "    if search_name in contact:\n",
        "        print(search_name,\"yes contact number is :\",contact[search_name])\n",
        "    else:\n",
        "            print(\"sorry name is in valid\")\n",
        "\n",
        "def edit():\n",
        "    edit_contact=input(\"enter the edit contact :\")\n",
        "    if edit_contact in contact:\n",
        "            phone=input(\"enter the mobile number\")\n",
        "            contact[edit_contact]=phone\n",
        "            print(\"contact updated\")\n",
        "    else :\n",
        "            print(\"Name is not found\")\n",
        "\n",
        "def display():\n",
        "     print(\"NAME \\t\\t\\t\\t CONTACT NUMBER\")\n",
        "     for x in contact:\n",
        "        print(\"{}\\t\\t\\t\\t{}\".format(x,contact.get(x)))\n",
        "\n",
        "def dele():\n",
        "    del_contact=input(\"enter the delete contact name :\")\n",
        "    if del_contact in contact:\n",
        "            confirm=input(\"do you want to delete contact y / n :\")\n",
        "            if confirm==\"Y\" or confirm==\"y\":\n",
        "                contact.pop(del_contact)\n",
        "            else:\n",
        "                print(\"name is not found\")\n",
        "\n",
        "\n",
        "while True:\n",
        "    choice=int(input(\"1.addcontact \\n 2.Search contact \\n 3.Display contact \\n 4.Edit contact \\n 5.delete contact \\n 6.exit \"))\n",
        "\n",
        "    if choice==1:\n",
        "        name=input(\"enter the name :\")\n",
        "        phone=input((\"enter the phone number\"))\n",
        "        add()\n",
        "\n",
        "    elif choice==2:\n",
        "        search()\n",
        "\n",
        "    elif choice==3:\n",
        "        display()\n",
        "        print(\"display contact as soon as possibile\")\n",
        "\n",
        "    elif choice==4:\n",
        "         edit()\n",
        "\n",
        "\n",
        "    elif choice ==5:\n",
        "         dele()\n",
        "\n",
        "    else:\n",
        "        break\n",
        "\n"
      ]
    },
    {
      "cell_type": "code",
      "source": [
        "#1.gradeelif.py\n",
        "m1=int(input(\"enter the mark of physcics\"))\n",
        "m2=int(input(\"enter the mark of chemistry\"))\n",
        "m3=int(input(\"enter the mark of maths\"))\n",
        "p=m1+m2+m3*100/300\n",
        "if p>=90:\n",
        "  grade=\"A+\"\n",
        "elif p<90 and p>=80:\n",
        "\tgrade=\"A\"\n",
        "elif p<80 and p>=70:\n",
        "\tgrade=\"B+\"\n",
        "elif p<70 and p>=60:\n",
        "\tgrade=\"B\"\n",
        "elif p<60 and p>=50:\n",
        "\tgrade=\"C\"\n",
        "else:\n",
        "\tgrade=\"Failed\"\n",
        "print(\"His grade is \",grade)\n",
        "\n"
      ],
      "metadata": {
        "colab": {
          "base_uri": "https://localhost:8080/"
        },
        "id": "bhUd_T7o2z-k",
        "outputId": "e2d1208d-1062-475a-a1af-c7708e967e02"
      },
      "execution_count": null,
      "outputs": [
        {
          "output_type": "stream",
          "name": "stdout",
          "text": [
            "enter the mark of physcics67\n",
            "enter the mark of chemistry89\n",
            "enter the mark of maths69\n",
            "His grade is  A+\n"
          ]
        }
      ]
    },
    {
      "cell_type": "code",
      "source": [
        "#1 using function\n",
        "def cal_grade(m1,m2,m3):\n",
        "  p=m1+m2+m3*100/300\n",
        "  if p>=90:\n",
        "    grade=\"A+\"\n",
        "  elif 80<= p<90:\n",
        "    grade=\"A\"\n",
        "  elif 70<= p<80:\n",
        "    grade=\"B+\"\n",
        "  elif 60<= p<70:\n",
        "    grade=\"B\"\n",
        "  elif 50<=p<60:\n",
        "    grade=\"C\"\n",
        "  else:\n",
        "    grade=\"failed\"\n",
        "  return grade\n",
        "m1=int(input(\"enter the mark of physics:\"))\n",
        "m2=int(input(\"enter mark of chemistry:\"))\n",
        "m3=int(input(\"enter mark of mathematics:\"))\n",
        "result=cal_grade(m1,m2,m3)\n",
        "print(\"the grade is\",result)\n"
      ],
      "metadata": {
        "colab": {
          "base_uri": "https://localhost:8080/"
        },
        "id": "yf-bikNCRvmh",
        "outputId": "ebaaa95c-b11b-4eae-9bad-eb5b1dc28298"
      },
      "execution_count": null,
      "outputs": [
        {
          "output_type": "stream",
          "name": "stdout",
          "text": [
            "enter the mark of physics:10\n",
            "enter mark of chemistry:13\n",
            "enter mark of mathematics:13\n",
            "the grade is failed\n"
          ]
        }
      ]
    },
    {
      "cell_type": "code",
      "source": [
        "#2.gradenestedif.py\n",
        "m1=int(input(\"Enter the marks for physics\"))\n",
        "m2=int(input(\"Enter the marks for chemistry\"))\n",
        "m3=int(input(\"Enter the marks for maths\"))\n",
        "if m1>=50 and m2>=50 and m3>=50:\n",
        "\tp=(m1+m2+m3)*100/300\n",
        "\tif p>=90:\n",
        "\t\tgrade=\"A+\"\n",
        "\telif p<90 and p>=80:\n",
        "\t\tgrade=\"A\"\n",
        "\telif p<80 and p>=70:\n",
        "\t\tgrade=\"B+\"\n",
        "\telif p<70 and p>=60:\n",
        "\t\tgrade=\"B\"\n",
        "\telse:\n",
        "\t\tgrade=\"C\"\n",
        "else:\n",
        "\tgrade=\"Failed\"\n",
        "print(\"His grade is \",grade)\n"
      ],
      "metadata": {
        "id": "D83LVrmT4FEt",
        "colab": {
          "base_uri": "https://localhost:8080/"
        },
        "outputId": "459451db-1737-4b0c-afc5-23741c132d5e"
      },
      "execution_count": null,
      "outputs": [
        {
          "output_type": "stream",
          "name": "stdout",
          "text": [
            "Enter the marks for physics60\n",
            "Enter the marks for chemistry89\n",
            "Enter the marks for maths90\n",
            "His grade is  B+\n"
          ]
        }
      ]
    },
    {
      "cell_type": "code",
      "source": [
        "#3.interestifelse.py\n",
        "p=int(input(\"enter the principle amount\"))\n",
        "n=int(input(\"enter the year\"))\n",
        "if n>=10:\n",
        "  r=12\n",
        "else:\n",
        "  r=8\n",
        "i=p*r*n/100\n",
        "print(\"intrest=\",i)"
      ],
      "metadata": {
        "colab": {
          "base_uri": "https://localhost:8080/"
        },
        "id": "2PS3Gz1mcybf",
        "outputId": "5b685afc-5b3f-432a-b036-3b4c4984df7b"
      },
      "execution_count": null,
      "outputs": [
        {
          "output_type": "stream",
          "name": "stdout",
          "text": [
            "enter the principle amount69000\n",
            "enter the year10\n",
            "intrest= 82800.0\n"
          ]
        }
      ]
    },
    {
      "cell_type": "code",
      "source": [
        "#3using function\n",
        "def intrest_cal(p,n,r):\n",
        "  if n>=10:\n",
        "    r=12\n",
        "  else:\n",
        "    r=8\n",
        "  i=p*r*n\n",
        "  return i\n",
        "p=int(input(\"enter the principal amount\"))\n",
        "n=int(input(\"enter the year\"))\n",
        "intrest=intrest_cal(p,n,r)\n",
        "print(\"intrest=\",intrest)\n"
      ],
      "metadata": {
        "colab": {
          "base_uri": "https://localhost:8080/"
        },
        "id": "F-2yygEbd7Yz",
        "outputId": "e4d99897-0aa6-4ef0-e687-efe460a6c5cb"
      },
      "execution_count": null,
      "outputs": [
        {
          "output_type": "stream",
          "name": "stdout",
          "text": [
            "enter the principal amount69000\n",
            "enter the year10\n",
            "intrest= 8280000\n"
          ]
        }
      ]
    },
    {
      "cell_type": "code",
      "source": [
        "#4.keywordarg.py\n",
        "def add(a,b,c):\n",
        "  return(a+b+c)\n",
        "s=add(20,25,36)\n",
        "print(\"Sum is \",s)"
      ],
      "metadata": {
        "colab": {
          "base_uri": "https://localhost:8080/"
        },
        "id": "hqkKqjj3NNVD",
        "outputId": "dabb4072-ab4e-4e80-ee3f-0d48470dcbec"
      },
      "execution_count": null,
      "outputs": [
        {
          "output_type": "stream",
          "name": "stdout",
          "text": [
            "Sum is  81\n"
          ]
        }
      ]
    },
    {
      "cell_type": "code",
      "source": [
        "#5.list.py\n",
        "a=[]\n",
        "n= int(input(\"Enter the number of elements : \"))\n",
        "print(\"Enter the elements : \")\n",
        "for i in range(0,n):\n",
        "\tk=int(input())\n",
        "\ta.append(k)\n",
        "print(\"List elements are : \")\n",
        "for i in range(0,n):\n",
        "\tprint(a[i])"
      ],
      "metadata": {
        "colab": {
          "base_uri": "https://localhost:8080/"
        },
        "id": "u4b9OwA7OGcC",
        "outputId": "aa5c511e-29d9-499f-bc7f-850b8343ba81"
      },
      "execution_count": null,
      "outputs": [
        {
          "output_type": "stream",
          "name": "stdout",
          "text": [
            "Enter the number of elements : 6\n",
            "Enter the elements : \n",
            "4\n",
            "6\n",
            "5\n",
            "9\n",
            "1\n",
            "7\n",
            "List elements are : \n",
            "4\n",
            "6\n",
            "5\n",
            "9\n",
            "1\n",
            "7\n"
          ]
        }
      ]
    },
    {
      "cell_type": "code",
      "source": [
        "#6.listbig.py\n",
        "a=[]\n",
        "n=int(input(\"enter number of elements\"))\n",
        "print(\"the elements are\")\n",
        "for i in range(0,n):\n",
        "  k=int(input())\n",
        "  a.append(k)\n",
        "big=a[0]\n",
        "for i in range(1,n):\n",
        "  if a[i]>big:\n",
        "    big=a[i]\n",
        "print(\"biggest\",big)\n"
      ],
      "metadata": {
        "colab": {
          "base_uri": "https://localhost:8080/"
        },
        "id": "eG0RhwtaPWFw",
        "outputId": "760783a9-120b-40d3-bda4-c6510ef3eed3"
      },
      "execution_count": null,
      "outputs": [
        {
          "output_type": "stream",
          "name": "stdout",
          "text": [
            "enter number of elements5\n",
            "the elements are\n",
            "3\n",
            "4\n",
            "5\n",
            "6\n",
            "7\n",
            "biggest 7\n"
          ]
        }
      ]
    },
    {
      "cell_type": "code",
      "source": [
        "#7.listbinarysearch.py\n",
        "a=[]\n",
        "n=int(input(\"enter the number of elements\"))\n",
        "print(\"enter the elements ascending order\")\n",
        "for i in range(0,n):\n",
        "  k=int(input())\n",
        "  a.append(k)\n",
        "key=int(input(\"Enter the element to search : \"))\n",
        "l=0\n",
        "u=n-1\n",
        "while l<=u:\n",
        "\tmid=(l+u)//2\n",
        "\tif a[mid]==key:\n",
        "\t\tprint(key,\"found at index \",mid)\n",
        "\t\tbreak\n",
        "\telif a[mid]>key:\n",
        "\t\tu=mid-1\n",
        "\telse:\n",
        "\t\tl=mid+1\n",
        "else:\n",
        "\tprint(key,\"not in the list \")\n"
      ],
      "metadata": {
        "colab": {
          "base_uri": "https://localhost:8080/"
        },
        "id": "bysOzUSlZC70",
        "outputId": "057ef42e-f71c-4eec-a9bb-b2c37cc77df0"
      },
      "execution_count": null,
      "outputs": [
        {
          "output_type": "stream",
          "name": "stdout",
          "text": [
            "enter the number of elements6\n",
            "enter the elements ascending order\n",
            "1\n",
            "2\n",
            "3\n",
            "4\n",
            "5\n",
            "6\n",
            "Enter the element to search : 3\n",
            "3 found at index  2\n"
          ]
        }
      ]
    },
    {
      "cell_type": "code",
      "source": [
        "#8.listcompr.py\n",
        "a=[10,20,30,40]\n",
        "b=[10,20,30,50]\n",
        "if a==b:\n",
        "\tprint(\"ok\")\n",
        "else:\n",
        "\tprint(\"not ok\")\n"
      ],
      "metadata": {
        "colab": {
          "base_uri": "https://localhost:8080/"
        },
        "id": "g6WIBphselr1",
        "outputId": "708cfda1-a5bb-402f-c1cd-ef0c6355066a"
      },
      "execution_count": null,
      "outputs": [
        {
          "output_type": "stream",
          "name": "stdout",
          "text": [
            "not ok\n"
          ]
        }
      ]
    },
    {
      "cell_type": "code",
      "source": [
        "#9.listcount.py\n",
        "a=[]\n",
        "n= int(input(\"Enter the number of elements : \"))\n",
        "print(\"Enter the elements : \")\n",
        "for i in range(0,n):\n",
        "\tk=int(input())\n",
        "\ta.append(k)\n",
        "count=0\n",
        "ele=int(input(\"Enter the element to count : \"))\n",
        "for x in a:\n",
        "\tif x==ele:\n",
        "\t\tcount+=1\n",
        "print(ele,\" occured \",count,\" times\")"
      ],
      "metadata": {
        "colab": {
          "base_uri": "https://localhost:8080/"
        },
        "id": "xJ7ufQrogLS5",
        "outputId": "3947f815-9a16-45c6-80e6-dc995be5bdc6"
      },
      "execution_count": null,
      "outputs": [
        {
          "output_type": "stream",
          "name": "stdout",
          "text": [
            "Enter the number of elements : 4\n",
            "Enter the elements : \n",
            "1\n",
            "3\n",
            "1\n",
            "3\n",
            "Enter the element to count : 1\n",
            "1  occured  2  times\n"
          ]
        }
      ]
    },
    {
      "cell_type": "code",
      "source": [
        "#10.listdelete.py\n",
        "a=[]\n",
        "n= int(input(\"Enter the number of elements : \"))\n",
        "print(\"Enter the elements : \")\n",
        "for i in range(0,n):\n",
        "\tk=int(input())\n",
        "\ta.append(k)\n",
        "index=int(input(\"Enter the index : \"))\n",
        "for i in range(index,n-1):\n",
        "\ta[i]=a[i+1]\n",
        "n=n-1\n",
        "print(\"List elements are : \")\n",
        "for i in range(0,n):\n",
        "\tprint(a[i])\n",
        "\n"
      ],
      "metadata": {
        "colab": {
          "base_uri": "https://localhost:8080/"
        },
        "id": "NRQ7Z0zqgaVf",
        "outputId": "767727ba-ba28-4849-d908-09b867c09886"
      },
      "execution_count": null,
      "outputs": [
        {
          "output_type": "stream",
          "name": "stdout",
          "text": [
            "Enter the number of elements : 6\n",
            "Enter the elements : \n",
            "4\n",
            "6\n",
            "3\n",
            "1\n",
            "3\n",
            "8\n",
            "Enter the index : 1\n",
            "List elements are : \n",
            "4\n",
            "3\n",
            "1\n",
            "3\n",
            "8\n"
          ]
        }
      ]
    },
    {
      "cell_type": "code",
      "source": [
        "#11.listduplicate.py\n",
        "a=[]\n",
        "n= int(input(\"Enter the number of elements : \"))\n",
        "print(\"Enter the elements : \")\n",
        "for i in range(0,n):\n",
        "\tk=int(input())\n",
        "\ta.append(k)\n",
        "i=0\n",
        "while i<n-1:\n",
        "\tj=i+1\n",
        "\twhile j<n:\n",
        "\t\tif a[i]==a[j]:\n",
        "\t\t\ta.pop(j)\n",
        "\t\t\tn=n-1\n",
        "\t\telse:\n",
        "\t\t\tj+=1\n",
        "\ti+=1\n",
        "print(a)\n"
      ],
      "metadata": {
        "colab": {
          "base_uri": "https://localhost:8080/"
        },
        "id": "7-lVTJwwhtZW",
        "outputId": "3f38d2d1-082b-4f08-efec-0fac1a4fa2ed"
      },
      "execution_count": null,
      "outputs": [
        {
          "output_type": "stream",
          "name": "stdout",
          "text": [
            "Enter the number of elements : 3\n",
            "Enter the elements : \n",
            "1\n",
            "2\n",
            "1\n",
            "[1, 2]\n"
          ]
        }
      ]
    },
    {
      "cell_type": "code",
      "source": [
        "#12.listduplicateset.py\n",
        "a=[]\n",
        "n=int(input(\"Enter the number of elements : \"))\n",
        "for i in range(0,n):\n",
        "\tk=int(input())\n",
        "\ta.append(k)\n",
        "b=set(a)\n",
        "a=list(b)\n",
        "print(a)\n"
      ],
      "metadata": {
        "colab": {
          "base_uri": "https://localhost:8080/"
        },
        "id": "QDRQ04pzh9en",
        "outputId": "612dafc1-3108-4e60-b97e-5c97b87f18a7"
      },
      "execution_count": null,
      "outputs": [
        {
          "output_type": "stream",
          "name": "stdout",
          "text": [
            "Enter the number of elements : 3\n",
            "1\n",
            "2\n",
            "1\n",
            "[1, 2]\n"
          ]
        }
      ]
    },
    {
      "cell_type": "code",
      "source": [
        "#13.listelementcount.py\n",
        "a=[]\n",
        "n= int(input(\"Enter the number of elements : \"))\n",
        "print(\"Enter the elements : \")\n",
        "for i in range(0,n):\n",
        "\tk=int(input())\n",
        "\ta.append(k)\n",
        "no=int(input(\"Enter the element to count : \"))\n",
        "count=0\n",
        "for i in range(0,n):\n",
        "\tif a[i]==no:\n",
        "\t\tcount+=1\n",
        "if count==0:\n",
        "\tprint(no,\" not in the list\")\n",
        "else:\n",
        "\tprint(no,\" occured \",count,\" times\")"
      ],
      "metadata": {
        "colab": {
          "base_uri": "https://localhost:8080/"
        },
        "id": "Yh06DT_PiN_T",
        "outputId": "24f44569-1ef8-4875-c701-8e10f574d073"
      },
      "execution_count": null,
      "outputs": [
        {
          "output_type": "stream",
          "name": "stdout",
          "text": [
            "Enter the number of elements : 4\n",
            "Enter the elements : \n",
            "2\n",
            "3\n",
            "1\n",
            "4\n",
            "Enter the element to count : 5\n",
            "5  not in the list\n"
          ]
        }
      ]
    },
    {
      "cell_type": "code",
      "source": [
        "#14.listeven.py\n",
        "a=[]\n",
        "n= int(input(\"Enter the number of elements : \"))\n",
        "print(\"Enter the elements : \")\n",
        "for i in range(0,n):\n",
        "\tk=int(input())\n",
        "\ta.append(k)\n",
        "for i in range(0,n):\n",
        "\tif a[i]%2==0:\n",
        "\t\tprint(a[i])\n"
      ],
      "metadata": {
        "colab": {
          "base_uri": "https://localhost:8080/"
        },
        "id": "wRVgz05Nk1XB",
        "outputId": "f8c50967-106c-48ff-9d14-e1bbcb288e40"
      },
      "execution_count": null,
      "outputs": [
        {
          "output_type": "stream",
          "name": "stdout",
          "text": [
            "Enter the number of elements : 4\n",
            "Enter the elements : \n",
            "1\n",
            "2\n",
            "3\n",
            "4\n",
            "2\n",
            "4\n"
          ]
        }
      ]
    },
    {
      "cell_type": "code",
      "source": [
        "#15.listevensum.py\n",
        "a=[]\n",
        "n= int(input(\"Enter the number of elements : \"))\n",
        "print(\"Enter the elements : \")\n",
        "for i in range(0,n):\n",
        "\tk=int(input())\n",
        "\ta.append(k)\n",
        "s=0\n",
        "for i in range(0,n):\n",
        "\tif a[i]%2==0:\n",
        "\t\ts=s+a[i]\n",
        "print(\"sum is : \",s)"
      ],
      "metadata": {
        "colab": {
          "base_uri": "https://localhost:8080/"
        },
        "id": "ZxelhR-PlH3K",
        "outputId": "247a03b0-10ae-48ce-8ab1-8097aabe27e7"
      },
      "execution_count": null,
      "outputs": [
        {
          "output_type": "stream",
          "name": "stdout",
          "text": [
            "Enter the number of elements : 5\n",
            "Enter the elements : \n",
            "1\n",
            "2\n",
            "3\n",
            "4\n",
            "6\n",
            "sum is :  12\n"
          ]
        }
      ]
    },
    {
      "cell_type": "code",
      "source": [
        "#16.listinsert.py\n",
        "a=[]\n",
        "n= int(input(\"Enter the number of elements : \"))\n",
        "print(\"Enter the elements : \")\n",
        "for i in range(0,n):\n",
        "\tk=int(input())\n",
        "\ta.append(k)\n",
        "a.append(0)\n",
        "element=int(input(\"Enter the element to insert\"))\n",
        "index=int(input(\"Enter the index : \"))\n",
        "for i in range(n,index,-1):\n",
        "\ta[i]=a[i-1]\n",
        "a[index]=element\n",
        "print(\"List elements are : \")\n",
        "for i in range(0,n+1):\n",
        "\tprint(a[i])"
      ],
      "metadata": {
        "colab": {
          "base_uri": "https://localhost:8080/"
        },
        "id": "fVXIp6rZH-Yx",
        "outputId": "258ac164-2003-448c-a32d-ad565c322ad4"
      },
      "execution_count": null,
      "outputs": [
        {
          "output_type": "stream",
          "name": "stdout",
          "text": [
            "Enter the number of elements : 4\n",
            "Enter the elements : \n",
            "3\n",
            "4\n",
            "5\n",
            "5\n",
            "Enter the element to insert1\n",
            "Enter the index : 3\n",
            "List elements are : \n",
            "3\n",
            "4\n",
            "5\n",
            "1\n",
            "5\n"
          ]
        }
      ]
    },
    {
      "cell_type": "code",
      "source": [
        "#17.listinsertfun.py\n",
        "a=[10,20,30,40,50,60,70]\n",
        "b=[41,42,43]\n",
        "a.insert(4,b)\n",
        "print(a)\n",
        "a.insert(6,65)\n",
        "print(a)\n",
        "print(len(a))"
      ],
      "metadata": {
        "colab": {
          "base_uri": "https://localhost:8080/"
        },
        "id": "NXK5ObdZJwSm",
        "outputId": "4cffcf31-21f3-41d6-be0a-7111a0970c47"
      },
      "execution_count": null,
      "outputs": [
        {
          "output_type": "stream",
          "name": "stdout",
          "text": [
            "[10, 20, 30, 40, [41, 42, 43], 50, 60, 70]\n",
            "[10, 20, 30, 40, [41, 42, 43], 50, 65, 60, 70]\n",
            "9\n"
          ]
        }
      ]
    },
    {
      "cell_type": "code",
      "source": [
        "#18.listinsertlist.py\n",
        "a=[]\n",
        "n= int(input(\"Enter the number of elements in first list: \"))\n",
        "print(\"Enter the elements : \")\n",
        "for i in range(0,n):\n",
        "\tk=int(input())\n",
        "\ta.append(k)\n",
        "b=[]\n",
        "m= int(input(\"Enter the number of elements in second list : \"))\n",
        "print(\"Enter the elements : \")\n",
        "for i in range(0,m):\n",
        "\tk=int(input())\n",
        "\tb.append(k)\n",
        "\ta.append(0)\n",
        "index=int(input(\"Enter the index : \"))\n",
        "for i in range(n-1,index-1,-1):\n",
        "\ta[i+m]=a[i]\n",
        "for i in range(0,m):\n",
        "\ta[index+i]=b[i]\n",
        "print(\"List elements are : \")\n",
        "for i in range(0,m+n):\n",
        "\tprint(a[i])"
      ],
      "metadata": {
        "colab": {
          "base_uri": "https://localhost:8080/"
        },
        "id": "gqBeGfPTKHMi",
        "outputId": "aa507269-c8ec-4634-bc1a-abe4b01807f3"
      },
      "execution_count": null,
      "outputs": [
        {
          "output_type": "stream",
          "name": "stdout",
          "text": [
            "Enter the number of elements in first list: 4\n",
            "Enter the elements : \n",
            "4\n",
            "5\n",
            "6\n",
            "7\n",
            "Enter the number of elements in second list : 3\n",
            "Enter the elements : \n",
            "3\n",
            "5\n",
            "8\n",
            "Enter the index : 2\n",
            "List elements are : \n",
            "4\n",
            "5\n",
            "3\n",
            "5\n",
            "8\n",
            "6\n",
            "7\n"
          ]
        }
      ]
    },
    {
      "cell_type": "code",
      "source": [
        "#19.listndelete.py\n",
        "a=[]\n",
        "n= int(input(\"Enter the number of elements : \"))\n",
        "print(\"Enter the elements : \")\n",
        "for i in range(0,n):\n",
        "\tk=int(input())\n",
        "\ta.append(k)\n",
        "index=int(input(\"Enter the index : \"))\n",
        "dn=int(input(\"Enter the number of elements to be deleted : \"))\n",
        "for i in range(index+dn,n):\n",
        "\ta[i-dn]=a[i]\n",
        "n=n-dn\n",
        "print(\"List elements are : \")\n",
        "for i in range(0,n):\n",
        "\tprint(a[i])\n"
      ],
      "metadata": {
        "colab": {
          "base_uri": "https://localhost:8080/"
        },
        "id": "RhJzasWhM7Vo",
        "outputId": "3ecafb21-1205-4e2e-db9a-ba06e2453542"
      },
      "execution_count": null,
      "outputs": [
        {
          "output_type": "stream",
          "name": "stdout",
          "text": [
            "Enter the number of elements : 6\n",
            "Enter the elements : \n",
            "4\n",
            "5\n",
            "7\n",
            "9\n",
            "1\n",
            "5\n",
            "Enter the index : 2\n",
            "Enter the number of elements to be deleted : 5\n",
            "List elements are : \n",
            "4\n"
          ]
        }
      ]
    },
    {
      "cell_type": "code",
      "source": [
        "#20.listoddeven.py\n",
        "a=[]\n",
        "n= int(input(\"Enter the number of elements : \"))\n",
        "print(\"Enter the elements : \")\n",
        "for i in range(0,n):\n",
        "\tk=int(input())\n",
        "\ta.append(k)\n",
        "print(\"List elements are : \")\n",
        "for i in range(0,n):\n",
        "\tprint(a[i])\n",
        "odd=[]\n",
        "even=[]\n",
        "for i in range(0,n):\n",
        "\tif a[i]%2==0:\n",
        "\t\teven.append(a[i])\n",
        "\telse:\n",
        "\t\todd.append(a[i])\n",
        "print(\"EVEN LIST\")\n",
        "for x in even:\n",
        "\tprint(x)\n",
        "print(\"ODD LIST\")\n",
        "for x in odd:\n",
        "\tprint(x)\n"
      ],
      "metadata": {
        "id": "H7ARc8Q_Ngiz",
        "colab": {
          "base_uri": "https://localhost:8080/"
        },
        "outputId": "af23d4bd-5760-475f-f792-0b39ab940ef1"
      },
      "execution_count": null,
      "outputs": [
        {
          "output_type": "stream",
          "name": "stdout",
          "text": [
            "Enter the number of elements : 4\n",
            "Enter the elements : \n",
            "3\n",
            "5\n",
            "6\n",
            "2\n",
            "List elements are : \n",
            "3\n",
            "5\n",
            "6\n",
            "2\n",
            "EVEN LIST\n",
            "6\n",
            "2\n",
            "ODD LIST\n",
            "3\n",
            "5\n"
          ]
        }
      ]
    },
    {
      "cell_type": "code",
      "source": [
        "#21\n",
        "a=[]\n",
        "n= int(input(\"Enter the number of elements : \"))\n",
        "print(\"Enter the elements : \")\n",
        "for i in range(0,n):\n",
        "\tk=int(input())\n",
        "\ta.append(k)\n",
        "s=0\n",
        "for i in range(0,n):\n",
        "\tif a[i]%2!=0:\n",
        "\t\ts=s+a[i]\n",
        "print(\"sum is : \",s)\n",
        "\n"
      ],
      "metadata": {
        "colab": {
          "base_uri": "https://localhost:8080/"
        },
        "id": "JsyH4djyYsKE",
        "outputId": "b3153d67-37d7-4b65-b48b-13f61631479f"
      },
      "execution_count": null,
      "outputs": [
        {
          "output_type": "stream",
          "name": "stdout",
          "text": [
            "Enter the number of elements : 4\n",
            "Enter the elements : \n",
            "4\n",
            "6\n",
            "2\n",
            "1\n",
            "sum is :  1\n"
          ]
        }
      ]
    },
    {
      "cell_type": "code",
      "source": [
        "#22.listprime.py\n",
        "n= int(input(\"Enter the number of elements : \"))\n",
        "print(\"Enter the elements : \")\n",
        "for i in range(0,n):\n",
        "\tk=int(input())\n",
        "\ta.append(k)\n",
        "print(\"prime numbers are : \")\n",
        "for i in range(0,n):\n",
        "\tif a[i]==1:\n",
        "\t\tcontinue\n",
        "\tfor j in range(2,a[i]):\n",
        "\t\tif a[i]%j==0:\n",
        "\t\t\tbreak\n",
        "\telse:\n",
        "\t\tprint(a[i])"
      ],
      "metadata": {
        "colab": {
          "base_uri": "https://localhost:8080/"
        },
        "id": "6WpKhfuJZAVh",
        "outputId": "2e69cdb6-4583-4fe1-ac35-d34253511c44"
      },
      "execution_count": null,
      "outputs": [
        {
          "output_type": "stream",
          "name": "stdout",
          "text": [
            "Enter the number of elements : 4\n",
            "Enter the elements : \n",
            "2\n",
            "1\n",
            "5\n",
            "8\n",
            "prime numbers are : \n",
            "2\n"
          ]
        }
      ]
    },
    {
      "cell_type": "code",
      "source": [
        "#23.listreverse.py\n",
        "a=[]\n",
        "n= int(input(\"Enter the number of elements : \"))\n",
        "print(\"Enter the elements : \")\n",
        "for i in range(0,n):\n",
        "\tk=int(input())\n",
        "\ta.append(k)\n",
        "for i in range(0,n//2):\n",
        "\tt=a[i]\n",
        "\ta[i]=a[n-i-1]\n",
        "\ta[n-i-1]=t\n",
        "print(\"List elements are : \")\n",
        "for i in range(0,n):\n",
        "\tprint(a[i])"
      ],
      "metadata": {
        "colab": {
          "base_uri": "https://localhost:8080/"
        },
        "id": "msxYiAStZS1F",
        "outputId": "09c827cb-f873-4263-fa85-6aea08d8464d"
      },
      "execution_count": null,
      "outputs": [
        {
          "output_type": "stream",
          "name": "stdout",
          "text": [
            "Enter the number of elements : 3\n",
            "Enter the elements : \n",
            "1\n",
            "2\n",
            "5\n",
            "List elements are : \n",
            "5\n",
            "2\n",
            "1\n"
          ]
        }
      ]
    },
    {
      "cell_type": "code",
      "source": [
        "#24.listsecbig.py\n",
        "a=[]\n",
        "n= int(input(\"Enter the number of elements : \"))\n",
        "print(\"Enter the elements : \")\n",
        "for i in range(0,n):\n",
        "\tk=int(input())\n",
        "\ta.append(k)\n",
        "big=a[0]\n",
        "for i in range(1,n):\n",
        "\tif a[i]>big:\n",
        "\t\tbig=a[i]\n",
        "i=0\n",
        "while (1):\n",
        "\tif a[i]!=big:\n",
        "\t\tsbig=a[i]\n",
        "\t\tbreak\n",
        "\ti+=1\n",
        "for i in range(i+1,n):\n",
        "\tif a[i]<big and a[i]>sbig:\n",
        "\t\tsbig=a[i]\n",
        "print(\"Biggest : \",big)\n",
        "print(\"2nd Biggest : \",sbig)"
      ],
      "metadata": {
        "colab": {
          "base_uri": "https://localhost:8080/"
        },
        "id": "4ujc2Q5qZkRt",
        "outputId": "1e9ebaaa-76c1-4074-c191-d1cb8f798c2a"
      },
      "execution_count": null,
      "outputs": [
        {
          "output_type": "stream",
          "name": "stdout",
          "text": [
            "Enter the number of elements : 3\n",
            "Enter the elements : \n",
            "2\n",
            "1\n",
            "4\n",
            "Biggest :  4\n",
            "2nd Biggest :  2\n"
          ]
        }
      ]
    },
    {
      "cell_type": "code",
      "source": [
        "#25.nesteddict.py\n",
        "student1={\"name\":\"arfan\",\"place\":\"Manacaud\",\"Blood Group\":\"O+\"}\n",
        "\n",
        "student2={\"name\":\"Jovan\",\"place\":\"Kollam\",\"Blood Group\":\"O+\"}\n",
        "\n",
        "student3={\"name\":\"Divya\",\"place\":\"palayam\",\"Blood Group\":\"A+\"}\n",
        "\n",
        "oneteam={\"intern1\":student1,\"intern2\":student2,\"intern3\":student3}\n",
        "#or\n",
        "\n",
        "#oneteam={\"intern1\":{\"name\":\"arfan\",\"place\":\"Manacaud\",\"Blood Group\":\"O+\"},\"intern2\":{\"name\":\"Jovan\",\"place\":\"Kollam\",\"Blood Group\":\"O+\"},\"intern3\":{\"name\":\"Divya\",\"place\":\"palayam\",\"Blood Group\":\"A+\"}}'''\n",
        "\n"
      ],
      "metadata": {
        "id": "ER-KCWDFZ6B3"
      },
      "execution_count": null,
      "outputs": []
    },
    {
      "cell_type": "code",
      "source": [
        "#1.palindromefun.py\n",
        "def reverse(n):\n",
        "\trev=0\n",
        "\twhile n!=0:\n",
        "\t\td=n%10\n",
        "\t\trev=(rev*10)+d\n",
        "\t\tn=n//10\n",
        "\treturn rev\n",
        "no=int(input(\"Enter a number : \"))\n",
        "r=reverse(no)\n",
        "if no==r:\n",
        "\tprint(\"Palindrome\")\n",
        "else:\n",
        "\tprint(\"Not a palindrome\")\n"
      ],
      "metadata": {
        "colab": {
          "base_uri": "https://localhost:8080/"
        },
        "id": "8dtRu4l6-dHL",
        "outputId": "0c25fe1d-e640-47eb-e884-ca69c2be2d5e"
      },
      "execution_count": null,
      "outputs": [
        {
          "output_type": "stream",
          "name": "stdout",
          "text": [
            "Enter a number : 34\n",
            "Not a palindrome\n"
          ]
        }
      ]
    },
    {
      "cell_type": "code",
      "source": [
        "#2.quadeqifelse.py\n",
        "a=int(input(\"Enter the coefficient of x^2 term : \"))\n",
        "b=int(input(\"Enter the coefficient of x term : \"))\n",
        "c=int(input(\"Enter the constant term : \"))\n",
        "x=b**2-(4*a*c)\n",
        "if x>=0:\n",
        "\tprint(\"Roots are real\")\n",
        "else:\n",
        "\tprint(\"Roots are Imaginary\")"
      ],
      "metadata": {
        "colab": {
          "base_uri": "https://localhost:8080/"
        },
        "id": "ks3ElhGJ-yyU",
        "outputId": "1ff7c424-4c20-4ea2-84d0-fb321f9c381f"
      },
      "execution_count": null,
      "outputs": [
        {
          "output_type": "stream",
          "name": "stdout",
          "text": [
            "Enter the coefficient of x^2 term : 2\n",
            "Enter the coefficient of x term : 2\n",
            "Enter the constant term : 2\n",
            "Roots are Imaginary\n"
          ]
        }
      ]
    },
    {
      "cell_type": "code",
      "source": [
        "#3.quadeqsimif.py\n",
        "a=int(input(\"Enter the coefficient of x^2 term : \"))\n",
        "b=int(input(\"Enter the coefficient of x term : \"))\n",
        "c=int(input(\"Enter the constant term : \"))\n",
        "x=b**2-(4*a*c)\n",
        "roots=\"Imaginary\"\n",
        "if x>=0:\n",
        "\troots=\"Real\"\n",
        "print(\"Roots are \",roots)\n"
      ],
      "metadata": {
        "colab": {
          "base_uri": "https://localhost:8080/"
        },
        "id": "-FdbhnBt--1E",
        "outputId": "a4c6dfd2-56cf-4e8a-957b-ecf83f8a9c6e"
      },
      "execution_count": null,
      "outputs": [
        {
          "output_type": "stream",
          "name": "stdout",
          "text": [
            "Enter the coefficient of x^2 term : 2\n",
            "Enter the coefficient of x term : 2\n",
            "Enter the constant term : 2\n",
            "Roots are  Imaginary\n"
          ]
        }
      ]
    },
    {
      "cell_type": "code",
      "source": [
        "#4.reversefun.py\n",
        "def reverse(n):\n",
        "\trev=0\n",
        "\twhile n!=0:\n",
        "\t\td=n%10\n",
        "\t\trev=(rev*10)+d\n",
        "\t\tn=n//10\n",
        "\treturn rev\n",
        "n=int(input(\"Enter a number : \"))\n",
        "#r=reverse(n)\n",
        "print(\"Reverse of \",n,\" is \",reverse(n))\n"
      ],
      "metadata": {
        "colab": {
          "base_uri": "https://localhost:8080/"
        },
        "id": "QiCyge9W_OD_",
        "outputId": "109a240c-733f-4c20-8368-20b04fb77aaa"
      },
      "execution_count": null,
      "outputs": [
        {
          "output_type": "stream",
          "name": "stdout",
          "text": [
            "Enter a number : 23\n",
            "Reverse of  23  is  32\n"
          ]
        }
      ]
    },
    {
      "cell_type": "code",
      "source": [
        "#5.righttriangle.py\n",
        "a=int(input(\"Enter the measurement of 1st side\"))\n",
        "b=int(input(\"Enter the measurement of 2nd side\"))\n",
        "c=int(input(\"Enter the measurement of 3rd side\"))\n",
        "if a**2==b**2+c**2 or b**2==a**2+c**2 or c**2==a**2+b**2:\n",
        "  print(\"Right traingle\")\n",
        "else:\n",
        "\tprint(\"Not a right triangle\")"
      ],
      "metadata": {
        "colab": {
          "base_uri": "https://localhost:8080/"
        },
        "id": "Hp8XsImS_VFs",
        "outputId": "0e021a72-45d9-4adb-d17d-22b80692a732"
      },
      "execution_count": null,
      "outputs": [
        {
          "output_type": "stream",
          "name": "stdout",
          "text": [
            "Enter the measurement of 1st side4\n",
            "Enter the measurement of 2nd side6\n",
            "Enter the measurement of 3rd side6\n",
            "Not a right triangle\n"
          ]
        }
      ]
    },
    {
      "cell_type": "code",
      "source": [
        "#6.amstrong.py\n",
        "n=input(\"Enter a number : \")\n",
        "l=len(n)\n",
        "n=int(n)\n",
        "s=0\n",
        "t=n\n",
        "while n!=0:\n",
        "\td=n%10\n",
        "\ts=s+d**l\n",
        "\tn=n//10\n",
        "if t==s:\n",
        "\tprint(\"Amstrong\")\n",
        "else:\n",
        "\tprint(\"Not an amstrong\")\n"
      ],
      "metadata": {
        "colab": {
          "base_uri": "https://localhost:8080/"
        },
        "id": "Mo2wH41Q_otT",
        "outputId": "b67abd32-f655-4d3b-b03e-8df42f6660ad"
      },
      "execution_count": null,
      "outputs": [
        {
          "output_type": "stream",
          "name": "stdout",
          "text": [
            "Enter a number : 23\n",
            "Not an amstrong\n"
          ]
        }
      ]
    },
    {
      "cell_type": "code",
      "source": [
        "#7.b2d.py\n",
        "b=int(input(\"Enter the binary number : \"))\n",
        "d=0\n",
        "i=0\n",
        "while b!=0:\n",
        "\tdig=b%10\n",
        "\td=d+(dig*(2**i))\n",
        "\ti=i+1\n",
        "\tb=b//10\n",
        "print(\"Decimal equalent is \",d)"
      ],
      "metadata": {
        "colab": {
          "base_uri": "https://localhost:8080/"
        },
        "id": "141sEccwYsIH",
        "outputId": "38cb0b80-9812-40d0-9946-f40ccededbcc"
      },
      "execution_count": null,
      "outputs": [
        {
          "output_type": "stream",
          "name": "stdout",
          "text": [
            "Enter the binary number : 4\n",
            "Decimal equalent is  4\n"
          ]
        }
      ]
    },
    {
      "cell_type": "code",
      "source": [
        "#8.bigdigit.py\n",
        "n=int(input(\"Enter a number : \"))\n",
        "bd=0\n",
        "while n!=0:\n",
        "\td=n%10\n",
        "\tif d>bd:\n",
        "\t\tbd=d\n",
        "\tn=n//10\n",
        "print(\"greatest digit \",bd)"
      ],
      "metadata": {
        "colab": {
          "base_uri": "https://localhost:8080/"
        },
        "id": "Hb3Eq0FfY9ht",
        "outputId": "4e963986-0a50-48a6-b013-84826d4bb21a"
      },
      "execution_count": null,
      "outputs": [
        {
          "output_type": "stream",
          "name": "stdout",
          "text": [
            "Enter a number : 5\n",
            "greatest digit  5\n"
          ]
        }
      ]
    },
    {
      "cell_type": "code",
      "source": [
        "#9.factorssumfor.py\n",
        "n=int(input(\"Enter the number : \"))\n",
        "s=0\n",
        "for i in range(1,n+1):\n",
        "\tif n%i==0:\n",
        "\t\ts=s+i\n",
        "print(\"Sum is \",s)"
      ],
      "metadata": {
        "colab": {
          "base_uri": "https://localhost:8080/"
        },
        "id": "RSr9gJQCZYS-",
        "outputId": "76dd1ff4-d643-42a9-ce48-a9ba7252bffe"
      },
      "execution_count": null,
      "outputs": [
        {
          "output_type": "stream",
          "name": "stdout",
          "text": [
            "Enter the number : 5\n",
            "Sum is  6\n"
          ]
        }
      ]
    },
    {
      "cell_type": "code",
      "source": [
        "#10.sumsingledigit.py\n",
        "n=int(input(\"Enter a number : \"))\n",
        "s=sum(int(i) for i in str(n))\n",
        "print(\"Single digit sum = \",s%9 if s%9 else 9)\n"
      ],
      "metadata": {
        "colab": {
          "base_uri": "https://localhost:8080/"
        },
        "id": "WqckcSYRZkfS",
        "outputId": "295a88f7-b44d-45d8-b68e-5924bddb188a"
      },
      "execution_count": null,
      "outputs": [
        {
          "output_type": "stream",
          "name": "stdout",
          "text": [
            "Enter a number : 5\n",
            "Single digit sum =  5\n"
          ]
        }
      ]
    },
    {
      "cell_type": "code",
      "source": [
        "#11.sumoddwhile.py\n",
        "n=int(input(\"Enter the limit \"))\n",
        "i=1\n",
        "s=0\n",
        "while i<=n:\n",
        "\ts=s+i\n",
        "\ti=i+2\n",
        "print(\"Sum is \",s)\n"
      ],
      "metadata": {
        "colab": {
          "base_uri": "https://localhost:8080/"
        },
        "id": "PgTqhZHBaMkh",
        "outputId": "3607510b-8012-44ea-b3a9-40960be44c74"
      },
      "execution_count": null,
      "outputs": [
        {
          "output_type": "stream",
          "name": "stdout",
          "text": [
            "Enter the limit 5\n",
            "Sum is  9\n"
          ]
        }
      ]
    },
    {
      "cell_type": "code",
      "source": [
        "#12.sumnaturalfor.py\n",
        "n=int(input(\"Enter the limit\"))\n",
        "s=0\n",
        "for x in range(1,n+1):\n",
        "\ts=s+x\n",
        "print(\"Sum is \",s)\n"
      ],
      "metadata": {
        "colab": {
          "base_uri": "https://localhost:8080/"
        },
        "id": "cAQTcVpfadGe",
        "outputId": "76408194-043f-4bcc-ac09-dd1d6c490a62"
      },
      "execution_count": null,
      "outputs": [
        {
          "output_type": "stream",
          "name": "stdout",
          "text": [
            "Enter the limit5\n",
            "Sum is  15\n"
          ]
        }
      ]
    },
    {
      "cell_type": "code",
      "source": [
        "#13.sumnaturalwhile.py\n",
        "n=int(input(\"Enter the limit : \"))\n",
        "i=1\n",
        "s=0\n",
        "while i<=n:\n",
        "\ts=s+i\n",
        "\ti=i+1\n",
        "print(\"Sum is \",s)"
      ],
      "metadata": {
        "colab": {
          "base_uri": "https://localhost:8080/"
        },
        "id": "kukHP1tTawxz",
        "outputId": "b6e436e7-602a-4608-f576-cd79f75c8510"
      },
      "execution_count": null,
      "outputs": [
        {
          "output_type": "stream",
          "name": "stdout",
          "text": [
            "Enter the limit : 4\n",
            "Sum is  10\n"
          ]
        }
      ]
    },
    {
      "cell_type": "code",
      "source": [
        "#14.strongnumber.py\n",
        "n=int(input(\"Enter a number\"))\n",
        "temp=n\n",
        "sum=0\n",
        "while n!=0:\n",
        "\td=n%10\n",
        "\tfact=1\n",
        "\twhile d>1:\n",
        "\t\tfact*=d\n",
        "\t\td-=1\n",
        "\tsum+=fact\n",
        "\tn=n//10\n",
        "if sum==temp:\n",
        "\tprint(\"Strong number\")\n",
        "else:\n",
        "\tprint(\"Not a strong number\")"
      ],
      "metadata": {
        "colab": {
          "base_uri": "https://localhost:8080/"
        },
        "id": "nByMpSC2a4XN",
        "outputId": "6bea1212-26dc-4909-d5cc-62d621552e3f"
      },
      "execution_count": null,
      "outputs": [
        {
          "output_type": "stream",
          "name": "stdout",
          "text": [
            "Enter a number5\n",
            "Not a strong number\n"
          ]
        }
      ]
    },
    {
      "cell_type": "code",
      "source": [
        "#15.spynumber.py\n",
        "n=int(input(\"Enter a number\"))\n",
        "sum=0\n",
        "product=1\n",
        "while n!=0:\n",
        "\td=n%10\n",
        "\tsum+=d\n",
        "\tproduct*=d\n",
        "\tn=n//10\n",
        "if sum==product:\n",
        "\tprint(\"Spy Number\")\n",
        "else:\n",
        "\tprint(\"Not a spy number\")\n"
      ],
      "metadata": {
        "colab": {
          "base_uri": "https://localhost:8080/"
        },
        "id": "jYUa1W6pbQza",
        "outputId": "33716a92-27c6-4483-d872-8cdc19fa6518"
      },
      "execution_count": null,
      "outputs": [
        {
          "output_type": "stream",
          "name": "stdout",
          "text": [
            "Enter a number5\n",
            "Spy Number\n"
          ]
        }
      ]
    },
    {
      "cell_type": "code",
      "source": [
        "#factorial using recursion\n",
        "def factorial(x):\n",
        "  if x==1:\n",
        "    return 1\n",
        "  else:\n",
        "    return (x*factorial(x-1))\n",
        "num=3\n",
        "print(\"the factorial of\",num,\"is\",factorial(num))"
      ],
      "metadata": {
        "colab": {
          "base_uri": "https://localhost:8080/"
        },
        "id": "3tbEp_P6h60g",
        "outputId": "b1942d95-d610-4cc5-be64-239ae33b8416"
      },
      "execution_count": null,
      "outputs": [
        {
          "output_type": "stream",
          "name": "stdout",
          "text": [
            "the factorial of 3 is 6\n"
          ]
        }
      ]
    },
    {
      "cell_type": "code",
      "source": [
        "def calculate_net_salary(name, gross_salary):\n",
        "    pension = gross_salary * 0.12\n",
        "    if gross_salary <= 600:\n",
        "        net_salary = gross_salary - pension\n",
        "    elif 601 <= gross_salary <= 1650:\n",
        "        net_salary = gross_salary - 60 - pension\n",
        "    elif 1651 <= gross_salary <= 3200:\n",
        "        net_salary = gross_salary - 142 - pension\n",
        "    elif 3201 <= gross_salary <= 5250:\n",
        "        net_salary = gross_salary - 303 - pension\n",
        "    elif 5251 <= gross_salary <= 7800:\n",
        "        net_salary = gross_salary - 565 - pension\n",
        "    elif 7801 <= gross_salary <= 10900:\n",
        "        net_salary = gross_salary - 955 - pension\n",
        "    elif gross_salary >= 10901:\n",
        "        net_salary = gross_salary - 1500 - pension\n",
        "    else:\n",
        "        print(\"Invalid Entry\")\n",
        "        return None\n",
        "    return name, gross_salary, pension, net_salary\n",
        "employee_name = input(\"Employee Name:\")\n",
        "employee_gross_salary = int(input(\"Please state your gross salary:\"))\n",
        "result = calculate_net_salary(employee_name, employee_gross_salary)\n",
        "if result:\n",
        "    name, gross_salary, pension, net_salary = result\n",
        "    print(\"Name:\",name)\n",
        "    print(\"Gross Salary:\",gross_salary)\n",
        "    print(\"Pension:\",pension)\n",
        "    print(\"Net Salary:\",net_salary)\n"
      ],
      "metadata": {
        "colab": {
          "base_uri": "https://localhost:8080/"
        },
        "id": "l6NgyZfk0TtI",
        "outputId": "44dbe307-6471-4089-ed4d-6431a62c713c"
      },
      "execution_count": null,
      "outputs": [
        {
          "output_type": "stream",
          "name": "stdout",
          "text": [
            "Employee Name:greeshma\n",
            "Please state your gross salary:20000\n",
            "Name: greeshma\n",
            "Gross Salary: 20000\n",
            "Pension: 2400.0\n",
            "Net Salary: 16100.0\n"
          ]
        }
      ]
    }
  ],
  "metadata": {
    "colab": {
      "provenance": [],
      "authorship_tag": "ABX9TyMdQSsh/qUIi5qd3kLl6fiy",
      "include_colab_link": true
    },
    "kernelspec": {
      "display_name": "Python 3",
      "name": "python3"
    },
    "language_info": {
      "name": "python"
    }
  },
  "nbformat": 4,
  "nbformat_minor": 0
}